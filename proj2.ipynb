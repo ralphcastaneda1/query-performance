{
 "cells": [
  {
   "cell_type": "code",
   "execution_count": 1,
   "metadata": {
    "deletable": false,
    "editable": false
   },
   "outputs": [],
   "source": [
    "# Initialize Otter\n",
    "import otter\n",
    "grader = otter.Notebook(\"proj2.ipynb\")"
   ]
  },
  {
   "cell_type": "markdown",
   "metadata": {},
   "source": [
    "# Project 2: Query Performance\n",
    "## Due Date: Wednesday, March 5, 5:00 PM\n",
    "\n",
    "## Assignment Details\n",
    "In this project, we will explore how the database system optimizes query execution and how users can further tune the performance of their queries.\n",
    "\n",
    "This project works with the [Lahman's Baseball Database](http://seanlahman.com/), an open source collection of baseball statistics from 1871 to 2020. It contains a variety of data, like batting statistics, team stats, managerial records, Hall of Fame records, and much more.\n",
    "\n",
    "You may find this project's queries to be simpler than in Project 1. However, although the queries may not be as complex, we still expect you to spend ample time thinking through the effects of each of the methods, as reasoning about the tradeoff between different approaches is the goal of this assignment.\n",
    "\n",
    "**Note:** If at any point during the project, the internal state of the database or its tables have been modified in an undesirable way (i.e. a modification not resulting from the instructions of a question), restart your kernel and clear output and simply re-run the notebook as normal. This will shutdown your current connection to the database, which will prevent the issue of multiple connections to the database at any given point, and when re-running the notebook you will create a fresh database based on the provided Postgres dump.\n",
    "\n",
    "## Logistics & Scoring Breakdown\n",
    "\n",
    "- Each coding question has **both public tests and hidden tests**. Roughly 50% of your coding grade will be made up of your score on the public tests released to you, while the remaining 50% will be made up of unreleased hidden tests.\n",
    "- Public tests for multiple choice questions are for sanity check only (e.g. you are answering in the correct format). Partial credit will be awarded.\n",
    "- Free-response questions will be manually graded. Please answer thoughtfully and concisely in complete sentences, drawing from knowledge in lectures and from your inspection of query plans.\n",
    "\n",
    "This is an **individual project**. However, you’re welcome to collaborate with any other student in the class as long as it’s within the academic honesty guidelines.\n",
    "\n",
    "**Please see this [spreadsheet](https://docs.google.com/spreadsheets/d/1UPcOGt4gQwHRm1i6pEDlpjNe-1iT-r_-t5IYRYW7YpQ/edit?usp=sharing) for the points breakdown.**"
   ]
  },
  {
   "cell_type": "code",
   "execution_count": 2,
   "metadata": {},
   "outputs": [],
   "source": [
    "# Run this cell to set up imports\n",
    "import numpy as np\n",
    "import pandas as pd"
   ]
  },
  {
   "cell_type": "markdown",
   "metadata": {},
   "source": [
    "## Getting Connected\n",
    "Similar to Project 1, we will be using the `JupySQL` library to connect this notebook to a PostgreSQL database server on your JupyterHub account. Run the following cell to initiate the connection."
   ]
  },
  {
   "cell_type": "code",
   "execution_count": 3,
   "metadata": {},
   "outputs": [
    {
     "data": {
      "text/html": [
       "<span style=\"None\">Connecting to &#x27;postgresql://jovyan@127.0.0.1:5432/postgres&#x27;</span>"
      ],
      "text/plain": [
       "Connecting to 'postgresql://jovyan@127.0.0.1:5432/postgres'"
      ]
     },
     "metadata": {},
     "output_type": "display_data"
    }
   ],
   "source": [
    "%reload_ext sql\n",
    "%sql postgresql://jovyan@127.0.0.1:5432/postgres"
   ]
  },
  {
   "cell_type": "code",
   "execution_count": 4,
   "metadata": {},
   "outputs": [],
   "source": [
    "# See full display\n",
    "%config SqlMagic.displaylimit = 50"
   ]
  },
  {
   "cell_type": "markdown",
   "metadata": {},
   "source": [
    "## Setting up the Database\n",
    "The following cell will create the `baseball` database (if needed), unzip the Postgres dump of the Lahman's Baseball Database, populate the `baseball` database with the desired tables and data, and finally display all databases associated with the Postgres instance. After running the cell, you should see the `baseball` database in the generated list of databases outputted by `%sql \\l`.\n",
    "\n",
    "**Note:** If you run into the **role does not exist**/**database does not exist** error the first time you run this cell, feel free to ignore it. It does not affect data import."
   ]
  },
  {
   "cell_type": "code",
   "execution_count": 5,
   "metadata": {},
   "outputs": [
    {
     "name": "stdout",
     "output_type": "stream",
     "text": [
      "unzip:  cannot find or open data/baseball.zip, data/baseball.zip.zip or data/baseball.zip.ZIP.\n"
     ]
    }
   ],
   "source": [
    "!unzip -u data/baseball.zip -d data/"
   ]
  },
  {
   "cell_type": "code",
   "execution_count": 6,
   "metadata": {
    "scrolled": true
   },
   "outputs": [
    {
     "name": "stdout",
     "output_type": "stream",
     "text": [
      " pg_terminate_backend \n",
      "----------------------\n",
      "(0 rows)\n",
      "\n",
      "DROP DATABASE\n",
      "CREATE DATABASE\n",
      "SET\n",
      "SET\n",
      "SET\n",
      "SET\n",
      "SET\n",
      " set_config \n",
      "------------\n",
      " \n",
      "(1 row)\n",
      "\n",
      "SET\n",
      "SET\n",
      "SET\n",
      "SET\n",
      "SET\n",
      "SET\n",
      "CREATE TABLE\n",
      "CREATE TABLE\n",
      "CREATE TABLE\n",
      "CREATE TABLE\n",
      "CREATE TABLE\n",
      "CREATE TABLE\n",
      "CREATE TABLE\n",
      "CREATE TABLE\n",
      "CREATE TABLE\n",
      "CREATE TABLE\n",
      "CREATE TABLE\n",
      "CREATE TABLE\n",
      "CREATE TABLE\n",
      "CREATE TABLE\n",
      "CREATE TABLE\n",
      "CREATE TABLE\n",
      "CREATE TABLE\n",
      "CREATE TABLE\n",
      "CREATE TABLE\n",
      "CREATE TABLE\n",
      "CREATE TABLE\n",
      "CREATE TABLE\n",
      "CREATE TABLE\n",
      "CREATE TABLE\n",
      "CREATE TABLE\n",
      "CREATE TABLE\n",
      "CREATE TABLE\n",
      "COPY 5219\n",
      "COPY 104256\n",
      "COPY 179\n",
      "COPY 6236\n",
      "COPY 425\n",
      "COPY 6879\n",
      "COPY 104324\n",
      "COPY 13943\n",
      "COPY 17350\n",
      "COPY 138838\n",
      "COPY 12028\n",
      "COPY 31955\n",
      "COPY 13110\n",
      "COPY 4191\n",
      "COPY 3040\n",
      "COPY 3469\n",
      "COPY 93\n",
      "COPY 252\n",
      "COPY 19370\n",
      "COPY 45806\n",
      "COPY 5445\n",
      "COPY 26428\n",
      "COPY 1207\n",
      "COPY 325\n",
      "COPY 2865\n",
      "COPY 120\n",
      "COPY 52\n",
      "ALTER TABLE\n",
      "ALTER TABLE\n",
      "ALTER TABLE\n",
      "ALTER TABLE\n",
      "ALTER TABLE\n",
      "ALTER TABLE\n",
      "ALTER TABLE\n",
      "ALTER TABLE\n",
      "ALTER TABLE\n",
      "ALTER TABLE\n",
      "ALTER TABLE\n",
      "ALTER TABLE\n",
      "ALTER TABLE\n",
      "ALTER TABLE\n",
      "ALTER TABLE\n",
      "ALTER TABLE\n",
      "ALTER TABLE\n",
      "ALTER TABLE\n",
      "ALTER TABLE\n",
      "ALTER TABLE\n",
      "ALTER TABLE\n",
      "ALTER TABLE\n",
      "ALTER TABLE\n",
      "ALTER TABLE\n",
      "ALTER TABLE\n",
      "ALTER TABLE\n",
      "SET\n"
     ]
    }
   ],
   "source": [
    "!psql postgresql://jovyan@127.0.0.1:5432/baseball -c 'SELECT pg_terminate_backend(pg_stat_activity.pid) FROM pg_stat_activity WHERE datname = current_database()  AND pid <> pg_backend_pid();'\n",
    "!psql -h localhost -c 'DROP DATABASE IF EXISTS baseball'\n",
    "!psql -h localhost -c 'CREATE DATABASE baseball'\n",
    "!psql -h localhost -d baseball -f ../../../_shared/data101-readonly/proj2_data/baseball.sql\n",
    "!psql -h localhost -c 'SET max_parallel_workers_per_gather = 0;'"
   ]
  },
  {
   "cell_type": "code",
   "execution_count": 7,
   "metadata": {},
   "outputs": [
    {
     "data": {
      "text/html": [
       "<span style=\"None\">Running query in &#x27;postgresql://jovyan@127.0.0.1:5432/postgres&#x27;</span>"
      ],
      "text/plain": [
       "Running query in 'postgresql://jovyan@127.0.0.1:5432/postgres'"
      ]
     },
     "metadata": {},
     "output_type": "display_data"
    },
    {
     "data": {
      "text/html": [
       "<table>\n",
       "    <thead>\n",
       "        <tr>\n",
       "            <th>Name</th>\n",
       "            <th>Owner</th>\n",
       "            <th>Encoding</th>\n",
       "            <th>Collate</th>\n",
       "            <th>Ctype</th>\n",
       "            <th>Access privileges</th>\n",
       "        </tr>\n",
       "    </thead>\n",
       "    <tbody>\n",
       "        <tr>\n",
       "            <td>baseball</td>\n",
       "            <td>jovyan</td>\n",
       "            <td>UTF8</td>\n",
       "            <td>en_US.utf8</td>\n",
       "            <td>en_US.utf8</td>\n",
       "            <td>None</td>\n",
       "        </tr>\n",
       "    </tbody>\n",
       "</table>"
      ],
      "text/plain": [
       "+----------+--------+----------+------------+------------+-------------------+\n",
       "|   Name   | Owner  | Encoding |  Collate   |   Ctype    | Access privileges |\n",
       "+----------+--------+----------+------------+------------+-------------------+\n",
       "| baseball | jovyan |   UTF8   | en_US.utf8 | en_US.utf8 |        None       |\n",
       "+----------+--------+----------+------------+------------+-------------------+"
      ]
     },
     "execution_count": 7,
     "metadata": {},
     "output_type": "execute_result"
    }
   ],
   "source": [
    "%sql \\l baseball"
   ]
  },
  {
   "cell_type": "markdown",
   "metadata": {},
   "source": [
    "Now, run the following cell to connect to the `baseball` database. There should be no errors after running the following cell."
   ]
  },
  {
   "cell_type": "code",
   "execution_count": 8,
   "metadata": {},
   "outputs": [
    {
     "data": {
      "text/html": [
       "<span style=\"None\">Connecting and switching to connection &#x27;postgresql://jovyan@127.0.0.1:5432/baseball&#x27;</span>"
      ],
      "text/plain": [
       "Connecting and switching to connection 'postgresql://jovyan@127.0.0.1:5432/baseball'"
      ]
     },
     "metadata": {},
     "output_type": "display_data"
    }
   ],
   "source": [
    "%sql postgresql://jovyan@127.0.0.1:5432/baseball"
   ]
  },
  {
   "cell_type": "markdown",
   "metadata": {},
   "source": [
    "To ensure that the connection to the database has been established, let's try grabbing the first 5 rows from the `hall_of_fame` table."
   ]
  },
  {
   "cell_type": "code",
   "execution_count": 9,
   "metadata": {
    "scrolled": true
   },
   "outputs": [
    {
     "data": {
      "text/html": [
       "<span style=\"None\">Running query in &#x27;postgresql://jovyan@127.0.0.1:5432/baseball&#x27;</span>"
      ],
      "text/plain": [
       "Running query in 'postgresql://jovyan@127.0.0.1:5432/baseball'"
      ]
     },
     "metadata": {},
     "output_type": "display_data"
    },
    {
     "data": {
      "text/html": [
       "<span style=\"color: green\">5 rows affected.</span>"
      ],
      "text/plain": [
       "5 rows affected."
      ]
     },
     "metadata": {},
     "output_type": "display_data"
    },
    {
     "data": {
      "text/html": [
       "<table>\n",
       "    <thead>\n",
       "        <tr>\n",
       "            <th>player_id</th>\n",
       "            <th>year_id</th>\n",
       "            <th>voted_by</th>\n",
       "            <th>ballots</th>\n",
       "            <th>needed</th>\n",
       "            <th>votes</th>\n",
       "            <th>inducted</th>\n",
       "            <th>category</th>\n",
       "            <th>needed_note</th>\n",
       "        </tr>\n",
       "    </thead>\n",
       "    <tbody>\n",
       "        <tr>\n",
       "            <td>cobbty01</td>\n",
       "            <td>1936</td>\n",
       "            <td>BBWAA</td>\n",
       "            <td>226</td>\n",
       "            <td>170</td>\n",
       "            <td>222</td>\n",
       "            <td>Y</td>\n",
       "            <td>Player</td>\n",
       "            <td>None</td>\n",
       "        </tr>\n",
       "        <tr>\n",
       "            <td>ruthba01</td>\n",
       "            <td>1936</td>\n",
       "            <td>BBWAA</td>\n",
       "            <td>226</td>\n",
       "            <td>170</td>\n",
       "            <td>215</td>\n",
       "            <td>Y</td>\n",
       "            <td>Player</td>\n",
       "            <td>None</td>\n",
       "        </tr>\n",
       "        <tr>\n",
       "            <td>wagneho01</td>\n",
       "            <td>1936</td>\n",
       "            <td>BBWAA</td>\n",
       "            <td>226</td>\n",
       "            <td>170</td>\n",
       "            <td>215</td>\n",
       "            <td>Y</td>\n",
       "            <td>Player</td>\n",
       "            <td>None</td>\n",
       "        </tr>\n",
       "        <tr>\n",
       "            <td>mathech01</td>\n",
       "            <td>1936</td>\n",
       "            <td>BBWAA</td>\n",
       "            <td>226</td>\n",
       "            <td>170</td>\n",
       "            <td>205</td>\n",
       "            <td>Y</td>\n",
       "            <td>Player</td>\n",
       "            <td>None</td>\n",
       "        </tr>\n",
       "        <tr>\n",
       "            <td>johnswa01</td>\n",
       "            <td>1936</td>\n",
       "            <td>BBWAA</td>\n",
       "            <td>226</td>\n",
       "            <td>170</td>\n",
       "            <td>189</td>\n",
       "            <td>Y</td>\n",
       "            <td>Player</td>\n",
       "            <td>None</td>\n",
       "        </tr>\n",
       "    </tbody>\n",
       "</table>"
      ],
      "text/plain": [
       "+-----------+---------+----------+---------+--------+-------+----------+----------+-------------+\n",
       "| player_id | year_id | voted_by | ballots | needed | votes | inducted | category | needed_note |\n",
       "+-----------+---------+----------+---------+--------+-------+----------+----------+-------------+\n",
       "|  cobbty01 |   1936  |  BBWAA   |   226   |  170   |  222  |    Y     |  Player  |     None    |\n",
       "|  ruthba01 |   1936  |  BBWAA   |   226   |  170   |  215  |    Y     |  Player  |     None    |\n",
       "| wagneho01 |   1936  |  BBWAA   |   226   |  170   |  215  |    Y     |  Player  |     None    |\n",
       "| mathech01 |   1936  |  BBWAA   |   226   |  170   |  205  |    Y     |  Player  |     None    |\n",
       "| johnswa01 |   1936  |  BBWAA   |   226   |  170   |  189  |    Y     |  Player  |     None    |\n",
       "+-----------+---------+----------+---------+--------+-------+----------+----------+-------------+"
      ]
     },
     "execution_count": 9,
     "metadata": {},
     "output_type": "execute_result"
    }
   ],
   "source": [
    "%%sql\n",
    "SELECT * FROM hall_of_fame LIMIT 5;"
   ]
  },
  {
   "cell_type": "markdown",
   "metadata": {},
   "source": [
    "## Connect to the grader"
   ]
  },
  {
   "cell_type": "markdown",
   "metadata": {},
   "source": [
    "Run the following cell for grading purposes."
   ]
  },
  {
   "cell_type": "code",
   "execution_count": 10,
   "metadata": {},
   "outputs": [],
   "source": [
    "# Just run the following cell, no further action is needed.\n",
    "from data101_utils import GradingUtil\n",
    "grading_util = GradingUtil(\"proj2\")\n",
    "grading_util.prepare_autograder()"
   ]
  },
  {
   "cell_type": "markdown",
   "metadata": {},
   "source": [
    "<hr style=\"border: 5px solid #003262;\" />\n",
    "<hr style=\"border: 1px solid #fdb515;\" />\n"
   ]
  },
  {
   "cell_type": "markdown",
   "metadata": {},
   "source": [
    "## Table Descriptions\n",
    "\n",
    "In its entirety the [Lahman's Baseball Database](http://seanlahman.com/) contains 27 tables containing a variety of statistics for players, teams, games, schools, etc. For simplicity, this project will focus on a subset of the tables:\n",
    "\n",
    "* `appearances`: details on the positions each player appeared at\n",
    "* `batting`: batting statistics for each player\n",
    "* `college_playing`: list of players and the colleges they attended\n",
    "* `hall_of_fame`: Hall of Fame voting data\n",
    "* `people`: player information (name, date of birth, and biographical info)\n",
    "* `salaries`: player salary data\n",
    "* `schools`: list of colleges that players attended\n",
    "\n",
    "As a reminder from Project 1, the psql command `\\d <table_name>` is helpful for identifying the schema of a table.\n",
    "\n",
    "We **highly** encourage you open a Terminal in JupyterLab and connect to the database directly.\n",
    "\n",
    "```sh\n",
    "psql -h localhost -d baseball\n",
    "```\n",
    "\n",
    "...will drop you in a SQL interpreter. Remember you can use `\\?` for help!\n",
    "\n",
    "\n",
    "You may wish to review:\n",
    "* The [Assignment Tips Guide](https://data101.org/sp25/assignment-tips/)\n",
    "* The [Course Notes SQL Style Guide](https://data101.org/notes/appendix/sql-style.html)\n",
    "\n",
    "For example the command below allows you to view the schema of the `people` table:"
   ]
  },
  {
   "cell_type": "code",
   "execution_count": 11,
   "metadata": {},
   "outputs": [
    {
     "name": "stdout",
     "output_type": "stream",
     "text": [
      "                                  Table \"public.people\"\n",
      "    Column     |          Type          | Collation | Nullable |         Default         \n",
      "---------------+------------------------+-----------+----------+-------------------------\n",
      " player_id     | character varying(10)  |           | not null | NULL::character varying\n",
      " birth_year    | integer                |           |          | \n",
      " birth_month   | integer                |           |          | \n",
      " birthday      | integer                |           |          | \n",
      " birth_country | character varying(50)  |           |          | NULL::character varying\n",
      " birth_state   | character varying(50)  |           |          | NULL::character varying\n",
      " birth_city    | character varying(50)  |           |          | NULL::character varying\n",
      " death_year    | integer                |           |          | \n",
      " death_month   | integer                |           |          | \n",
      " death_day     | integer                |           |          | \n",
      " death_country | character varying(50)  |           |          | NULL::character varying\n",
      " death_state   | character varying(50)  |           |          | NULL::character varying\n",
      " death_city    | character varying(50)  |           |          | NULL::character varying\n",
      " name_first    | character varying(50)  |           |          | NULL::character varying\n",
      " name_last     | character varying(50)  |           |          | NULL::character varying\n",
      " name_given    | character varying(255) |           |          | NULL::character varying\n",
      " weight        | integer                |           |          | \n",
      " height        | double precision       |           |          | \n",
      " bats          | character varying(1)   |           |          | NULL::character varying\n",
      " throws        | character varying(1)   |           |          | NULL::character varying\n",
      " debut         | character varying(10)  |           |          | NULL::character varying\n",
      " final_game    | character varying(10)  |           |          | NULL::character varying\n",
      " retro_id      | character varying(9)   |           |          | NULL::character varying\n",
      " bbref_id      | character varying(9)   |           |          | NULL::character varying\n",
      "Indexes:\n",
      "    \"master_pkey\" PRIMARY KEY, btree (player_id)\n",
      "\n"
     ]
    }
   ],
   "source": [
    "!psql -h localhost -d baseball -c '\\d people';"
   ]
  },
  {
   "cell_type": "markdown",
   "metadata": {
    "jp-MarkdownHeadingCollapsed": true
   },
   "source": [
    "## A Bit About Baseball\n",
    "\n",
    "Intricate knowledge of baseball, baseball history, etc. is **not** required for this project. But a basic understanding of the game can be useful. If you'd like, you can check out the [Wikipedia entry for Major League Baseball](https://en.wikipedia.org/wiki/Major_League_Baseball). In practice, we'd encourage you to avoid coming to conclusions nor doing deep analysis with datasets where you don't have the full context, but for this assignment, the details of the sport are not the goal.\n",
    "\n",
    "You can also read more about the [Baseball Hall of Fame](https://en.wikipedia.org/wiki/List_of_members_of_the_Baseball_Hall_of_Fame). Baseball players who excel in the sport can be inducted into the Hall of Fame.\n",
    "\n",
    "Baseball, since its inception in the late 19th century, has had an incredible track record of keeping very detailed statistics about even minor aspects of the game. This makes it a fun study for a budding (or well-experienced) data scientist.\n",
    "\n",
    "**The Briefest of Background:**\n",
    "The game of baseball is played over 9 innings, between an 'offense' (a batter, and folks running around the bases) and 'defense' (a pitcher, catcher, basemen, and others). The objective, like most sportsball games, is to score the most points -- in this case, by the batter hitting the ball, and running around the bases. \n",
    "In each game, both the offense an defense have a chance to bat, where players get an \"at bat\" (`ab`) in the database. Each 'at bat' results in the player hitting a home run (and scoring), getting \"on base\" (where they can later try to run to home plate), or getting \"out\". After the offense gets 3 outs, their turn to score is over until the next inning. (There are many more rules than these... but that's enough to make sense of the data.)\n",
    "\n",
    "### A Bit About the Database\n",
    "\n",
    "To be quite honest, the schema of this database isn't our favorite. It is full of abbreivated column names, mixing data types, and seldom enforces primary or foreign key relationships. The horrors!! Nevertheless, real life ain't perfect, so we'll continue to learn how to explore and get comfortable with unknown schemas. A few general tips:\n",
    "\n",
    "* While foreign keys aren't enforced anything with an `_id` will have consistent values. (i.e. You can treat these like primary or foreign keys on tables.)\n",
    "* `year_id` is called an \"id\", but it is merely the calendar year in which an event occured.\n",
    "* Many of the game related attributes are ruthlessly abbreviated:\n",
    "    * `ab` is for _at bats_\n",
    "    * `g_` is for _game..._\n",
    "    * `hof` is for _hall of fame_\n",
    "    * Other examples (you don't need to know these, but may come across them):\n",
    "    * `lg` is for _league_\n",
    "    * `gp` is games played\n",
    "    * `1b`, `2b`, `3b`, `hb` refer to 1st, 2nd, 3rd and home base\n",
    "* In the hall of fame table `inducted` is a string value where `Y` means true\n",
    "     * ...but of course, you know that this really ought to be a boolean... \n",
    "\n",
    "Optionally: There is a [handy guide to an R package](https://cran.r-project.org/web/packages/Lahman/Lahman.pdf) of the Lahman Basebase db. Some of the table and column names are styled slightly differently, but this may provide additional context.\n",
    "\n",
    "---"
   ]
  },
  {
   "cell_type": "markdown",
   "metadata": {},
   "source": [
    "## Navigating the Notebook\n",
    "\n",
    "This notebook is very long! We **highly recommend using the table of contents feature** by clicking on the button with 3 dots and lines on the left sidebar."
   ]
  },
  {
   "cell_type": "markdown",
   "metadata": {},
   "source": [
    "<br><br>\n",
    "<hr style=\"border: 5px solid #003262;\" />\n",
    "<hr style=\"border: 1px solid #fdb515;\" />"
   ]
  },
  {
   "cell_type": "markdown",
   "metadata": {
    "deletable": false,
    "editable": false
   },
   "source": [
    "# Question 0: PostgreSQL Explain Analyze\n",
    "\n",
    "<div class=\"alert alert-block alert-danger\">\n",
    "Please read through this section carefully, as a vast majority of the project will require you to inspect query plans via interpreting the output of the <code>EXPLAIN ANALYZE</code> command.\n",
    "</div>\n",
    "\n",
    "Read through the following articles to see how you can interpret the output of `EXPLAIN ANALYZE`:\n",
    "\n",
    "1. Everything before \"Tools to interpret `EXPLAIN ANALYZE` output\" in [this article](https://www.cybertec-postgresql.com/en/how-to-interpret-postgresql-explain-analyze-output/)\n",
    "2. PostgreSQL [documentation 14.1.2](https://www.postgresql.org/docs/current/using-explain.html#USING-EXPLAIN-ANALYZE)\n",
    "\n",
    "<div class=\"alert alert-block alert-info\">    \n",
    "<b>Here are some key things to note for all question parts:</b>\n",
    "<ul>\n",
    "<li>When we ask you to identify the <b>query cost</b>, we are looking for the <b>total cost</b>.</li>\n",
    "    <ul>\n",
    "    <li>There are two cost values: the first is the <b>startup cost</b> (cost to return the first row) and the second is the <b>total cost</b> (cost to return all rows).</li>\n",
    "    <li>The unit for the estimated query cost is an arbitrary estimation of disk I/O (1 is the cost for reading an 8kB page during a sequential scan).</li>\n",
    "        <li>Feel free to round the query cost / time to the nearest integer, but we'll accept anything more exact.</li>\n",
    "    </ul>\n",
    "<li>When we ask you to identify the <b>query time</b>, we are looking for the <b>execution time</b> (in ms).</li>\n",
    "    <ul>\n",
    "        <li>We recognize that the execution time may vary between different cell executions, so the autograder will tolerate a reasonable range.</li>\n",
    "    </ul>\n",
    "</ul>\n",
    "</div>\n",
    "\n",
    "Now, inspect the query plan above by following the below steps:\n",
    "\n",
    "1. Run the query below (it's the same one from the screenshot)."
   ]
  },
  {
   "cell_type": "code",
   "execution_count": 12,
   "metadata": {
    "deletable": false,
    "editable": false
   },
   "outputs": [
    {
     "data": {
      "text/html": [
       "<span style=\"None\">Running query in &#x27;postgresql://jovyan@127.0.0.1:5432/baseball&#x27;</span>"
      ],
      "text/plain": [
       "Running query in 'postgresql://jovyan@127.0.0.1:5432/baseball'"
      ]
     },
     "metadata": {},
     "output_type": "display_data"
    },
    {
     "data": {
      "text/html": [
       "<span style=\"color: green\">17350 rows affected.</span>"
      ],
      "text/plain": [
       "17350 rows affected."
      ]
     },
     "metadata": {},
     "output_type": "display_data"
    }
   ],
   "source": [
    "%%sql --save query_0 result_0 <<\n",
    "SELECT *\n",
    "FROM people AS p\n",
    "INNER JOIN college_playing AS cp\n",
    "ON p.player_id = cp.player_id;"
   ]
  },
  {
   "cell_type": "markdown",
   "metadata": {
    "deletable": false,
    "editable": false
   },
   "source": [
    "2. Run the below cell to cache the query and view the first 3 rows."
   ]
  },
  {
   "cell_type": "code",
   "execution_count": 13,
   "metadata": {
    "deletable": false,
    "editable": false
   },
   "outputs": [
    {
     "data": {
      "text/html": [
       "<div>\n",
       "<style scoped>\n",
       "    .dataframe tbody tr th:only-of-type {\n",
       "        vertical-align: middle;\n",
       "    }\n",
       "\n",
       "    .dataframe tbody tr th {\n",
       "        vertical-align: top;\n",
       "    }\n",
       "\n",
       "    .dataframe thead th {\n",
       "        text-align: right;\n",
       "    }\n",
       "</style>\n",
       "<table border=\"1\" class=\"dataframe\">\n",
       "  <thead>\n",
       "    <tr style=\"text-align: right;\">\n",
       "      <th></th>\n",
       "      <th>player_id</th>\n",
       "      <th>birth_year</th>\n",
       "      <th>birth_month</th>\n",
       "      <th>birthday</th>\n",
       "      <th>birth_country</th>\n",
       "      <th>birth_state</th>\n",
       "      <th>birth_city</th>\n",
       "      <th>death_year</th>\n",
       "      <th>death_month</th>\n",
       "      <th>death_day</th>\n",
       "      <th>...</th>\n",
       "      <th>height</th>\n",
       "      <th>bats</th>\n",
       "      <th>throws</th>\n",
       "      <th>debut</th>\n",
       "      <th>final_game</th>\n",
       "      <th>retro_id</th>\n",
       "      <th>bbref_id</th>\n",
       "      <th>player_id</th>\n",
       "      <th>school_id</th>\n",
       "      <th>year_id</th>\n",
       "    </tr>\n",
       "  </thead>\n",
       "  <tbody>\n",
       "    <tr>\n",
       "      <th>0</th>\n",
       "      <td>aardsda01</td>\n",
       "      <td>1981</td>\n",
       "      <td>12.0</td>\n",
       "      <td>27.0</td>\n",
       "      <td>USA</td>\n",
       "      <td>CO</td>\n",
       "      <td>Denver</td>\n",
       "      <td>NaN</td>\n",
       "      <td>NaN</td>\n",
       "      <td>NaN</td>\n",
       "      <td>...</td>\n",
       "      <td>75.0</td>\n",
       "      <td>R</td>\n",
       "      <td>R</td>\n",
       "      <td>2004-04-06</td>\n",
       "      <td>2015-08-23</td>\n",
       "      <td>aardd001</td>\n",
       "      <td>aardsda01</td>\n",
       "      <td>aardsda01</td>\n",
       "      <td>pennst</td>\n",
       "      <td>2001</td>\n",
       "    </tr>\n",
       "    <tr>\n",
       "      <th>1</th>\n",
       "      <td>aardsda01</td>\n",
       "      <td>1981</td>\n",
       "      <td>12.0</td>\n",
       "      <td>27.0</td>\n",
       "      <td>USA</td>\n",
       "      <td>CO</td>\n",
       "      <td>Denver</td>\n",
       "      <td>NaN</td>\n",
       "      <td>NaN</td>\n",
       "      <td>NaN</td>\n",
       "      <td>...</td>\n",
       "      <td>75.0</td>\n",
       "      <td>R</td>\n",
       "      <td>R</td>\n",
       "      <td>2004-04-06</td>\n",
       "      <td>2015-08-23</td>\n",
       "      <td>aardd001</td>\n",
       "      <td>aardsda01</td>\n",
       "      <td>aardsda01</td>\n",
       "      <td>rice</td>\n",
       "      <td>2002</td>\n",
       "    </tr>\n",
       "    <tr>\n",
       "      <th>2</th>\n",
       "      <td>aardsda01</td>\n",
       "      <td>1981</td>\n",
       "      <td>12.0</td>\n",
       "      <td>27.0</td>\n",
       "      <td>USA</td>\n",
       "      <td>CO</td>\n",
       "      <td>Denver</td>\n",
       "      <td>NaN</td>\n",
       "      <td>NaN</td>\n",
       "      <td>NaN</td>\n",
       "      <td>...</td>\n",
       "      <td>75.0</td>\n",
       "      <td>R</td>\n",
       "      <td>R</td>\n",
       "      <td>2004-04-06</td>\n",
       "      <td>2015-08-23</td>\n",
       "      <td>aardd001</td>\n",
       "      <td>aardsda01</td>\n",
       "      <td>aardsda01</td>\n",
       "      <td>rice</td>\n",
       "      <td>2003</td>\n",
       "    </tr>\n",
       "  </tbody>\n",
       "</table>\n",
       "<p>3 rows × 27 columns</p>\n",
       "</div>"
      ],
      "text/plain": [
       "   player_id  birth_year  birth_month  birthday birth_country birth_state  \\\n",
       "0  aardsda01        1981         12.0      27.0           USA          CO   \n",
       "1  aardsda01        1981         12.0      27.0           USA          CO   \n",
       "2  aardsda01        1981         12.0      27.0           USA          CO   \n",
       "\n",
       "  birth_city  death_year  death_month  death_day  ... height bats throws  \\\n",
       "0     Denver         NaN          NaN        NaN  ...   75.0    R      R   \n",
       "1     Denver         NaN          NaN        NaN  ...   75.0    R      R   \n",
       "2     Denver         NaN          NaN        NaN  ...   75.0    R      R   \n",
       "\n",
       "        debut  final_game  retro_id   bbref_id  player_id school_id year_id  \n",
       "0  2004-04-06  2015-08-23  aardd001  aardsda01  aardsda01    pennst    2001  \n",
       "1  2004-04-06  2015-08-23  aardd001  aardsda01  aardsda01      rice    2002  \n",
       "2  2004-04-06  2015-08-23  aardd001  aardsda01  aardsda01      rice    2003  \n",
       "\n",
       "[3 rows x 27 columns]"
      ]
     },
     "execution_count": 13,
     "metadata": {},
     "output_type": "execute_result"
    }
   ],
   "source": [
    "# Do not delete/edit this cell!\n",
    "# You must run this cell before running the autograder.\n",
    "query_0 = %sqlcmd snippets query_0\n",
    "grading_util.save_results(\"result_0\", query_0, result_0);\n",
    "result_0.DataFrame().head(3)"
   ]
  },
  {
   "cell_type": "markdown",
   "metadata": {
    "deletable": false,
    "editable": false
   },
   "source": [
    "3. Run the below cell to `EXPLAIN ANALYZE` the saved query. **For this entire project when running `EXPLAIN ANALYZE`, you may ignore the \"unsupported syntax\" error message if it appears.**"
   ]
  },
  {
   "cell_type": "code",
   "execution_count": 14,
   "metadata": {
    "deletable": false,
    "editable": false
   },
   "outputs": [
    {
     "name": "stdout",
     "output_type": "stream",
     "text": [
      "                                                                           QUERY PLAN                                                                           \n",
      "----------------------------------------------------------------------------------------------------------------------------------------------------------------\n",
      " Merge Join  (cost=0.57..3636.67 rows=17350 width=1788) (actual time=0.056..17.995 rows=17350 loops=1)\n",
      "   Merge Cond: ((p.player_id)::text = (cp.player_id)::text)\n",
      "   ->  Index Scan using master_pkey on people p  (cost=0.29..2298.84 rows=19370 width=1698) (actual time=0.020..3.630 rows=19368 loops=1)\n",
      "   ->  Index Only Scan using college_playing_pkey on college_playing cp  (cost=0.29..1072.54 rows=17350 width=90) (actual time=0.031..4.308 rows=17350 loops=1)\n",
      "         Heap Fetches: 17350\n",
      " Planning Time: 0.558 ms\n",
      " Execution Time: 18.643 ms\n",
      "(7 rows)\n",
      "\n"
     ]
    }
   ],
   "source": [
    "!psql -h localhost -d baseball -c 'EXPLAIN ANALYZE {query_0}'"
   ]
  },
  {
   "cell_type": "markdown",
   "metadata": {
    "deletable": false,
    "editable": false
   },
   "source": [
    "4. Finally, record the **cost** and **time** for the sample query. For all questions within this project, we will accept a range of values for your query costs and query timings."
   ]
  },
  {
   "cell_type": "code",
   "execution_count": 15,
   "metadata": {
    "tags": [
     "otter_answer_cell"
    ]
   },
   "outputs": [],
   "source": [
    "sample_query_cost = 1193.88\n",
    "sample_query_timing = 15.024"
   ]
  },
  {
   "cell_type": "code",
   "execution_count": 16,
   "metadata": {
    "deletable": false,
    "editable": false
   },
   "outputs": [
    {
     "data": {
      "text/html": [
       "<p><strong><pre style='display: inline;'>q0</pre></strong> passed! 🙌</p>"
      ],
      "text/plain": [
       "q0 results: All test cases passed!"
      ]
     },
     "execution_count": 16,
     "metadata": {},
     "output_type": "execute_result"
    }
   ],
   "source": [
    "grader.check(\"q0\")"
   ]
  },
  {
   "cell_type": "markdown",
   "metadata": {},
   "source": [
    "<br/><br/>\n",
    "<hr style=\"border: 5px solid #003262;\" />\n",
    "<hr style=\"border: 1px solid #fdb515;\" />\n",
    "\n",
    "# Question 1: Queries and Views, Part 1\n",
    "\n",
    "In Questions 1 and 2, you will compare and contrast writing queries with subqueries and views.\n",
    "\n",
    "## Question 1a\n",
    "Write a query that finds `people.name_first`, `people.name_last`, `people.player_id` and `hall_of_fame.year_id` of all people who were successfully inducted into the Hall of Fame.\n",
    "\n",
    "**Note**: Your query should **NOT** use any sub-queries. This is what your table header should look like:\n",
    "\n",
    "| name_first | name_last | player_id | year_id |\n",
    "| --- | --- | --- | --- |"
   ]
  },
  {
   "cell_type": "code",
   "execution_count": 17,
   "metadata": {
    "scrolled": true,
    "tags": [
     "otter_answer_cell"
    ]
   },
   "outputs": [
    {
     "data": {
      "text/html": [
       "<span style=\"None\">Running query in &#x27;postgresql://jovyan@127.0.0.1:5432/baseball&#x27;</span>"
      ],
      "text/plain": [
       "Running query in 'postgresql://jovyan@127.0.0.1:5432/baseball'"
      ]
     },
     "metadata": {},
     "output_type": "display_data"
    },
    {
     "data": {
      "text/html": [
       "<span style=\"color: green\">323 rows affected.</span>"
      ],
      "text/plain": [
       "323 rows affected."
      ]
     },
     "metadata": {},
     "output_type": "display_data"
    }
   ],
   "source": [
    "%%sql --save query_1a result_1a <<\n",
    "SELECT p.name_first, p.name_last, p.player_id, h.year_id\n",
    "FROM people as p \n",
    "INNER JOIN hall_of_fame as h \n",
    "ON p.player_id = h.player_id \n",
    "WHERE h.inducted = 'Y'\n",
    ";"
   ]
  },
  {
   "cell_type": "code",
   "execution_count": 18,
   "metadata": {
    "tags": [
     "otter_answer_cell"
    ]
   },
   "outputs": [
    {
     "data": {
      "text/html": [
       "<div>\n",
       "<style scoped>\n",
       "    .dataframe tbody tr th:only-of-type {\n",
       "        vertical-align: middle;\n",
       "    }\n",
       "\n",
       "    .dataframe tbody tr th {\n",
       "        vertical-align: top;\n",
       "    }\n",
       "\n",
       "    .dataframe thead th {\n",
       "        text-align: right;\n",
       "    }\n",
       "</style>\n",
       "<table border=\"1\" class=\"dataframe\">\n",
       "  <thead>\n",
       "    <tr style=\"text-align: right;\">\n",
       "      <th></th>\n",
       "      <th>name_first</th>\n",
       "      <th>name_last</th>\n",
       "      <th>player_id</th>\n",
       "      <th>year_id</th>\n",
       "    </tr>\n",
       "  </thead>\n",
       "  <tbody>\n",
       "    <tr>\n",
       "      <th>0</th>\n",
       "      <td>Ty</td>\n",
       "      <td>Cobb</td>\n",
       "      <td>cobbty01</td>\n",
       "      <td>1936</td>\n",
       "    </tr>\n",
       "    <tr>\n",
       "      <th>1</th>\n",
       "      <td>Babe</td>\n",
       "      <td>Ruth</td>\n",
       "      <td>ruthba01</td>\n",
       "      <td>1936</td>\n",
       "    </tr>\n",
       "    <tr>\n",
       "      <th>2</th>\n",
       "      <td>Honus</td>\n",
       "      <td>Wagner</td>\n",
       "      <td>wagneho01</td>\n",
       "      <td>1936</td>\n",
       "    </tr>\n",
       "  </tbody>\n",
       "</table>\n",
       "</div>"
      ],
      "text/plain": [
       "  name_first name_last  player_id  year_id\n",
       "0         Ty      Cobb   cobbty01     1936\n",
       "1       Babe      Ruth   ruthba01     1936\n",
       "2      Honus    Wagner  wagneho01     1936"
      ]
     },
     "execution_count": 18,
     "metadata": {},
     "output_type": "execute_result"
    }
   ],
   "source": [
    "# Do not delete/edit this cell!\n",
    "# You must run this cell before running the autograder.\n",
    "query_1a = %sqlcmd snippets query_1a\n",
    "grading_util.save_results(\"result_1a\", query_1a, result_1a)\n",
    "result_1a.DataFrame().head(3)"
   ]
  },
  {
   "cell_type": "code",
   "execution_count": 19,
   "metadata": {
    "deletable": false,
    "editable": false
   },
   "outputs": [
    {
     "data": {
      "text/html": [
       "<p><strong><pre style='display: inline;'>q1a</pre></strong> passed! 🚀</p>"
      ],
      "text/plain": [
       "q1a results: All test cases passed!"
      ]
     },
     "execution_count": 19,
     "metadata": {},
     "output_type": "execute_result"
    }
   ],
   "source": [
    "grader.check(\"q1a\")"
   ]
  },
  {
   "cell_type": "markdown",
   "metadata": {
    "deletable": false,
    "editable": false
   },
   "source": [
    "<br><br>\n",
    "\n",
    "---\n",
    "\n",
    "## Question 1b\n",
    "In this question, we will compare the query you wrote in Question 1a against the provided query below in Question 1bi by inspecting both query plans.\n",
    "\n",
    "### Question 1bi\n",
    "Inspect the query plan for `provided_query` and the query you wrote in Question 1a by running the cells below.\n",
    "\n",
    "(Note: The semicolon strip in the `EXPLAIN ANALYZE` cell is to avoid executing an empty query with double-semicolons, which causes an error)."
   ]
  },
  {
   "cell_type": "code",
   "execution_count": 20,
   "metadata": {
    "deletable": false,
    "editable": false
   },
   "outputs": [
    {
     "data": {
      "text/html": [
       "<span style=\"None\">Running query in &#x27;postgresql://jovyan@127.0.0.1:5432/baseball&#x27;</span>"
      ],
      "text/plain": [
       "Running query in 'postgresql://jovyan@127.0.0.1:5432/baseball'"
      ]
     },
     "metadata": {},
     "output_type": "display_data"
    },
    {
     "data": {
      "text/html": [
       "<span style=\"color: green\">323 rows affected.</span>"
      ],
      "text/plain": [
       "323 rows affected."
      ]
     },
     "metadata": {},
     "output_type": "display_data"
    }
   ],
   "source": [
    "%%sql --save provided_query provided_result <<\n",
    "-- just run this cell\n",
    "SELECT name_first, name_last, p.player_id, year_id\n",
    "FROM people AS p,\n",
    "(\n",
    "  SELECT * FROM hall_of_fame WHERE inducted = 'Y'\n",
    ") AS hof\n",
    "WHERE p.player_id = hof.player_id;"
   ]
  },
  {
   "cell_type": "code",
   "execution_count": 21,
   "metadata": {
    "deletable": false,
    "editable": false,
    "scrolled": true
   },
   "outputs": [
    {
     "name": "stdout",
     "output_type": "stream",
     "text": [
      "                                                           QUERY PLAN                                                           \n",
      "--------------------------------------------------------------------------------------------------------------------------------\n",
      " Nested Loop  (cost=0.29..262.79 rows=21 width=278) (actual time=0.049..2.055 rows=323 loops=1)\n",
      "   ->  Seq Scan on hall_of_fame  (cost=0.00..96.39 rows=21 width=42) (actual time=0.016..0.541 rows=323 loops=1)\n",
      "         Filter: ((inducted)::text = 'Y'::text)\n",
      "         Rows Removed by Filter: 3868\n",
      "   ->  Index Scan using master_pkey on people p  (cost=0.29..7.92 rows=1 width=274) (actual time=0.004..0.004 rows=1 loops=323)\n",
      "         Index Cond: ((player_id)::text = (hall_of_fame.player_id)::text)\n",
      " Planning Time: 0.518 ms\n",
      " Execution Time: 2.116 ms\n",
      "(8 rows)\n",
      "\n"
     ]
    }
   ],
   "source": [
    "# just run this cell\n",
    "provided_query = %sqlcmd snippets provided_query\n",
    "!psql -h localhost -d baseball -c \"EXPLAIN ANALYZE {provided_query}\""
   ]
  },
  {
   "cell_type": "code",
   "execution_count": 22,
   "metadata": {
    "deletable": false,
    "editable": false
   },
   "outputs": [
    {
     "name": "stdout",
     "output_type": "stream",
     "text": [
      "                                                           QUERY PLAN                                                           \n",
      "--------------------------------------------------------------------------------------------------------------------------------\n",
      " Nested Loop  (cost=0.29..262.79 rows=21 width=278) (actual time=0.104..2.099 rows=323 loops=1)\n",
      "   ->  Seq Scan on hall_of_fame h  (cost=0.00..96.39 rows=21 width=42) (actual time=0.034..0.546 rows=323 loops=1)\n",
      "         Filter: ((inducted)::text = 'Y'::text)\n",
      "         Rows Removed by Filter: 3868\n",
      "   ->  Index Scan using master_pkey on people p  (cost=0.29..7.92 rows=1 width=274) (actual time=0.004..0.004 rows=1 loops=323)\n",
      "         Index Cond: ((player_id)::text = (h.player_id)::text)\n",
      " Planning Time: 0.550 ms\n",
      " Execution Time: 2.217 ms\n",
      "(8 rows)\n",
      "\n"
     ]
    }
   ],
   "source": [
    "# just run this cell\n",
    "!psql -h localhost -d baseball -c \"EXPLAIN ANALYZE {query_1a}\""
   ]
  },
  {
   "cell_type": "markdown",
   "metadata": {
    "deletable": false,
    "editable": false
   },
   "source": [
    "Record the **execution time** and **cost** for each query. Due to the fickle nature of query execution, please run `EXPLAIN ANALYZE` **multiple times** until the query plan converges to a consistent plan."
   ]
  },
  {
   "cell_type": "code",
   "execution_count": 23,
   "metadata": {
    "tags": [
     "otter_answer_cell"
    ]
   },
   "outputs": [],
   "source": [
    "provided_query_cost = 959.06\n",
    "provided_query_timing = 8.486\n",
    "your_query_cost = 956.06\n",
    "your_query_timing = 8.456"
   ]
  },
  {
   "cell_type": "code",
   "execution_count": 24,
   "metadata": {
    "deletable": false,
    "editable": false
   },
   "outputs": [
    {
     "data": {
      "text/html": [
       "<p><strong><pre style='display: inline;'>q1bi</pre></strong> passed! 🚀</p>"
      ],
      "text/plain": [
       "q1bi results: All test cases passed!"
      ]
     },
     "execution_count": 24,
     "metadata": {},
     "output_type": "execute_result"
    }
   ],
   "source": [
    "grader.check(\"q1bi\")"
   ]
  },
  {
   "cell_type": "markdown",
   "metadata": {
    "deletable": false,
    "editable": false
   },
   "source": [
    "\n",
    "### Question 1bii\n",
    "\n",
    "Given your findings from inspecting the query plans of the two queries, consider the following statements.\n",
    "\n",
    "**Assign the variable `q1bii` to a list of _ALL_ of the below statements that are true.**\n",
    "\n",
    "\n",
    "Consider the following statements:\n",
    "<br>\n",
    "A. Both the queries have the same cost.\n",
    "<br>\n",
    "B. The provided query has a faster execution time because it makes use of a subquery.\n",
    "<br>\n",
    "C. The query you wrote has a faster execution time because it does not make use a subquery.\n",
    "<br>\n",
    "D. The provided query has less cost because it makes use of a subquery.\n",
    "<br>\n",
    "E. The query you wrote has less cost because it does not make use a subquery.\n",
    "<br>\n",
    "F. The queries have the same output.\n",
    "<br>\n",
    "G. The queries do not have the same output.\n",
    "    \n",
    "**Note:** Your answer should have the format like this if you think A and B are both true: `q1bii = ['A', 'B']`. The autograder is **case sensitive** but order should not matter."
   ]
  },
  {
   "cell_type": "code",
   "execution_count": 25,
   "metadata": {
    "tags": [
     "otter_answer_cell"
    ]
   },
   "outputs": [],
   "source": [
    "q1bii = ['A','F']"
   ]
  },
  {
   "cell_type": "code",
   "execution_count": 26,
   "metadata": {
    "deletable": false,
    "editable": false
   },
   "outputs": [
    {
     "data": {
      "text/html": [
       "<p><strong><pre style='display: inline;'>q1bii</pre></strong> passed! ✨</p>"
      ],
      "text/plain": [
       "q1bii results: All test cases passed!"
      ]
     },
     "execution_count": 26,
     "metadata": {},
     "output_type": "execute_result"
    }
   ],
   "source": [
    "grader.check(\"q1bii\")"
   ]
  },
  {
   "cell_type": "markdown",
   "metadata": {},
   "source": [
    "<br/><br/><br/>\n",
    "\n",
    "<hr style=\"border: 5px solid #003262;\" />\n",
    "<hr style=\"border: 1px solid #fdb515;\" />\n",
    "\n",
    "\n",
    "# Question 2: Queries and Views, Part 2\n",
    "\n",
    "In this question, you will continue analyzing queries with/without views and materialized views."
   ]
  },
  {
   "cell_type": "markdown",
   "metadata": {
    "deletable": false,
    "editable": false
   },
   "source": [
    "<br/><br/>\n",
    "\n",
    "---\n",
    "\n",
    "## Question 2a\n",
    "\n",
    "Write a query that returns the people who were successfully inducted into the Hall of Fame and played in college at a school located in California. For each player, return their `name_first`, `name_last`, `player_id`, `school_id`, and `year_id`. Order by the `year_id` (ascending) and break ties on `player_id` (ascending). This is what your table header should look like:\n",
    "\n",
    "| name_first | name_last | player_id | school_id | year_id |\n",
    "| --- | --- | --- | --- | --- |\n",
    "\n",
    "**Note**: \n",
    "- **Do NOT use any views, materialized views, CTEs, or subqueries**\n",
    "- For this query, `year_id` refers to player's year of induction into the Hall of Fame.\n",
    "- For the baseball fanatics, FYI this dataset does not include *all* hall of fame inductees in existence and may be missing some. However, this should not affect your result; please query from the tables as given."
   ]
  },
  {
   "cell_type": "code",
   "execution_count": 27,
   "metadata": {
    "tags": [
     "otter_answer_cell"
    ]
   },
   "outputs": [
    {
     "data": {
      "text/html": [
       "<span style=\"None\">Running query in &#x27;postgresql://jovyan@127.0.0.1:5432/baseball&#x27;</span>"
      ],
      "text/plain": [
       "Running query in 'postgresql://jovyan@127.0.0.1:5432/baseball'"
      ]
     },
     "metadata": {},
     "output_type": "display_data"
    },
    {
     "data": {
      "text/html": [
       "<span style=\"color: green\">23 rows affected.</span>"
      ],
      "text/plain": [
       "23 rows affected."
      ]
     },
     "metadata": {},
     "output_type": "display_data"
    }
   ],
   "source": [
    "%%sql --save query_2a result_2a <<\n",
    "SELECT p.name_first, p.name_last, p.player_id, cp.school_id, h.year_id\n",
    "FROM people as P \n",
    "INNER JOIN hall_of_fame AS h ON p.player_id = h.player_id \n",
    "INNER JOIN college_playing AS cp ON p.player_id = cp.player_id \n",
    "INNER JOIN schools AS s ON cp.school_id = s.school_id\n",
    "WHERE h.inducted = 'Y' AND s.school_state = 'CA'\n",
    "ORDER BY h.year_id ASC, p.player_id ASC\n",
    ";"
   ]
  },
  {
   "cell_type": "code",
   "execution_count": 28,
   "metadata": {
    "tags": [
     "otter_answer_cell"
    ]
   },
   "outputs": [
    {
     "data": {
      "text/html": [
       "<table>\n",
       "    <thead>\n",
       "        <tr>\n",
       "            <th>name_first</th>\n",
       "            <th>name_last</th>\n",
       "            <th>player_id</th>\n",
       "            <th>school_id</th>\n",
       "            <th>year_id</th>\n",
       "        </tr>\n",
       "    </thead>\n",
       "    <tbody>\n",
       "        <tr>\n",
       "            <td>Jackie</td>\n",
       "            <td>Robinson</td>\n",
       "            <td>robinja02</td>\n",
       "            <td>ucla</td>\n",
       "            <td>1962</td>\n",
       "        </tr>\n",
       "        <tr>\n",
       "            <td>Harry</td>\n",
       "            <td>Hooper</td>\n",
       "            <td>hoopeha01</td>\n",
       "            <td>stmarysca</td>\n",
       "            <td>1971</td>\n",
       "        </tr>\n",
       "        <tr>\n",
       "            <td>Joe</td>\n",
       "            <td>Morgan</td>\n",
       "            <td>morgajo02</td>\n",
       "            <td>camerri</td>\n",
       "            <td>1990</td>\n",
       "        </tr>\n",
       "        <tr>\n",
       "            <td>Tom</td>\n",
       "            <td>Seaver</td>\n",
       "            <td>seaveto01</td>\n",
       "            <td>usc</td>\n",
       "            <td>1992</td>\n",
       "        </tr>\n",
       "        <tr>\n",
       "            <td>Tom</td>\n",
       "            <td>Seaver</td>\n",
       "            <td>seaveto01</td>\n",
       "            <td>cafrecc</td>\n",
       "            <td>1992</td>\n",
       "        </tr>\n",
       "        <tr>\n",
       "            <td>Ozzie</td>\n",
       "            <td>Smith</td>\n",
       "            <td>smithoz01</td>\n",
       "            <td>calpoly</td>\n",
       "            <td>2002</td>\n",
       "        </tr>\n",
       "        <tr>\n",
       "            <td>Ozzie</td>\n",
       "            <td>Smith</td>\n",
       "            <td>smithoz01</td>\n",
       "            <td>calpoly</td>\n",
       "            <td>2002</td>\n",
       "        </tr>\n",
       "        <tr>\n",
       "            <td>Ozzie</td>\n",
       "            <td>Smith</td>\n",
       "            <td>smithoz01</td>\n",
       "            <td>calpoly</td>\n",
       "            <td>2002</td>\n",
       "        </tr>\n",
       "        <tr>\n",
       "            <td>Ozzie</td>\n",
       "            <td>Smith</td>\n",
       "            <td>smithoz01</td>\n",
       "            <td>calpoly</td>\n",
       "            <td>2002</td>\n",
       "        </tr>\n",
       "        <tr>\n",
       "            <td>Tony</td>\n",
       "            <td>Gwynn</td>\n",
       "            <td>gwynnto01</td>\n",
       "            <td>sandiegost</td>\n",
       "            <td>2007</td>\n",
       "        </tr>\n",
       "        <tr>\n",
       "            <td>Tony</td>\n",
       "            <td>Gwynn</td>\n",
       "            <td>gwynnto01</td>\n",
       "            <td>sandiegost</td>\n",
       "            <td>2007</td>\n",
       "        </tr>\n",
       "        <tr>\n",
       "            <td>Tony</td>\n",
       "            <td>Gwynn</td>\n",
       "            <td>gwynnto01</td>\n",
       "            <td>sandiegost</td>\n",
       "            <td>2007</td>\n",
       "        </tr>\n",
       "        <tr>\n",
       "            <td>Dick</td>\n",
       "            <td>Williams</td>\n",
       "            <td>willidi02</td>\n",
       "            <td>capasad</td>\n",
       "            <td>2008</td>\n",
       "        </tr>\n",
       "        <tr>\n",
       "            <td>Doug</td>\n",
       "            <td>Harvey</td>\n",
       "            <td>harvedo99</td>\n",
       "            <td>sandiegost</td>\n",
       "            <td>2010</td>\n",
       "        </tr>\n",
       "        <tr>\n",
       "            <td>Doug</td>\n",
       "            <td>Harvey</td>\n",
       "            <td>harvedo99</td>\n",
       "            <td>sandiegost</td>\n",
       "            <td>2010</td>\n",
       "        </tr>\n",
       "        <tr>\n",
       "            <td>Pat</td>\n",
       "            <td>Gillick</td>\n",
       "            <td>gillipa99</td>\n",
       "            <td>calavco</td>\n",
       "            <td>2011</td>\n",
       "        </tr>\n",
       "        <tr>\n",
       "            <td>Pat</td>\n",
       "            <td>Gillick</td>\n",
       "            <td>gillipa99</td>\n",
       "            <td>usc</td>\n",
       "            <td>2011</td>\n",
       "        </tr>\n",
       "        <tr>\n",
       "            <td>Pat</td>\n",
       "            <td>Gillick</td>\n",
       "            <td>gillipa99</td>\n",
       "            <td>usc</td>\n",
       "            <td>2011</td>\n",
       "        </tr>\n",
       "        <tr>\n",
       "            <td>Randy</td>\n",
       "            <td>Johnson</td>\n",
       "            <td>johnsra05</td>\n",
       "            <td>usc</td>\n",
       "            <td>2015</td>\n",
       "        </tr>\n",
       "        <tr>\n",
       "            <td>Randy</td>\n",
       "            <td>Johnson</td>\n",
       "            <td>johnsra05</td>\n",
       "            <td>usc</td>\n",
       "            <td>2015</td>\n",
       "        </tr>\n",
       "        <tr>\n",
       "            <td>Randy</td>\n",
       "            <td>Johnson</td>\n",
       "            <td>johnsra05</td>\n",
       "            <td>usc</td>\n",
       "            <td>2015</td>\n",
       "        </tr>\n",
       "        <tr>\n",
       "            <td>Trevor</td>\n",
       "            <td>Hoffman</td>\n",
       "            <td>hoffmtr01</td>\n",
       "            <td>cacypre</td>\n",
       "            <td>2018</td>\n",
       "        </tr>\n",
       "        <tr>\n",
       "            <td>Trevor</td>\n",
       "            <td>Hoffman</td>\n",
       "            <td>hoffmtr01</td>\n",
       "            <td>cacypre</td>\n",
       "            <td>2018</td>\n",
       "        </tr>\n",
       "    </tbody>\n",
       "</table>"
      ],
      "text/plain": [
       "+------------+-----------+-----------+------------+---------+\n",
       "| name_first | name_last | player_id | school_id  | year_id |\n",
       "+------------+-----------+-----------+------------+---------+\n",
       "|   Jackie   |  Robinson | robinja02 |    ucla    |   1962  |\n",
       "|   Harry    |   Hooper  | hoopeha01 | stmarysca  |   1971  |\n",
       "|    Joe     |   Morgan  | morgajo02 |  camerri   |   1990  |\n",
       "|    Tom     |   Seaver  | seaveto01 |    usc     |   1992  |\n",
       "|    Tom     |   Seaver  | seaveto01 |  cafrecc   |   1992  |\n",
       "|   Ozzie    |   Smith   | smithoz01 |  calpoly   |   2002  |\n",
       "|   Ozzie    |   Smith   | smithoz01 |  calpoly   |   2002  |\n",
       "|   Ozzie    |   Smith   | smithoz01 |  calpoly   |   2002  |\n",
       "|   Ozzie    |   Smith   | smithoz01 |  calpoly   |   2002  |\n",
       "|    Tony    |   Gwynn   | gwynnto01 | sandiegost |   2007  |\n",
       "|    Tony    |   Gwynn   | gwynnto01 | sandiegost |   2007  |\n",
       "|    Tony    |   Gwynn   | gwynnto01 | sandiegost |   2007  |\n",
       "|    Dick    |  Williams | willidi02 |  capasad   |   2008  |\n",
       "|    Doug    |   Harvey  | harvedo99 | sandiegost |   2010  |\n",
       "|    Doug    |   Harvey  | harvedo99 | sandiegost |   2010  |\n",
       "|    Pat     |  Gillick  | gillipa99 |  calavco   |   2011  |\n",
       "|    Pat     |  Gillick  | gillipa99 |    usc     |   2011  |\n",
       "|    Pat     |  Gillick  | gillipa99 |    usc     |   2011  |\n",
       "|   Randy    |  Johnson  | johnsra05 |    usc     |   2015  |\n",
       "|   Randy    |  Johnson  | johnsra05 |    usc     |   2015  |\n",
       "|   Randy    |  Johnson  | johnsra05 |    usc     |   2015  |\n",
       "|   Trevor   |  Hoffman  | hoffmtr01 |  cacypre   |   2018  |\n",
       "|   Trevor   |  Hoffman  | hoffmtr01 |  cacypre   |   2018  |\n",
       "+------------+-----------+-----------+------------+---------+"
      ]
     },
     "execution_count": 28,
     "metadata": {},
     "output_type": "execute_result"
    }
   ],
   "source": [
    "# Do not delete/edit this cell!\n",
    "# You must run this cell before running the autograder.\n",
    "query_2a = %sqlcmd snippets query_2a\n",
    "grading_util.save_results(\"result_2a\", query_2a, result_2a)\n",
    "result_2a"
   ]
  },
  {
   "cell_type": "code",
   "execution_count": 29,
   "metadata": {
    "deletable": false,
    "editable": false
   },
   "outputs": [
    {
     "data": {
      "text/html": [
       "<p><strong><pre style='display: inline;'>q2a</pre></strong> passed! 💯</p>"
      ],
      "text/plain": [
       "q2a results: All test cases passed!"
      ]
     },
     "execution_count": 29,
     "metadata": {},
     "output_type": "execute_result"
    }
   ],
   "source": [
    "grader.check(\"q2a\")"
   ]
  },
  {
   "cell_type": "markdown",
   "metadata": {},
   "source": [
    "<br/><br/>\n",
    "\n",
    "---\n",
    "\n",
    "## Question 2 Tutorial"
   ]
  },
  {
   "cell_type": "markdown",
   "metadata": {},
   "source": [
    "We are now going to use the query you wrote in the previous part to generate a view, called `inducted_hof_ca`, and a materialized view, `inducted_hof_ca_mat`.\n",
    "\n",
    "Run the below cells. You do not need to do anything more for this part. "
   ]
  },
  {
   "cell_type": "code",
   "execution_count": 30,
   "metadata": {},
   "outputs": [
    {
     "data": {
      "text/html": [
       "<span style=\"None\">Running query in &#x27;postgresql://jovyan@127.0.0.1:5432/baseball&#x27;</span>"
      ],
      "text/plain": [
       "Running query in 'postgresql://jovyan@127.0.0.1:5432/baseball'"
      ]
     },
     "metadata": {},
     "output_type": "display_data"
    },
    {
     "data": {
      "text/html": [
       "<span style=\"color: green\">23 rows affected.</span>"
      ],
      "text/plain": [
       "23 rows affected."
      ]
     },
     "metadata": {},
     "output_type": "display_data"
    },
    {
     "data": {
      "text/html": [
       "<table>\n",
       "    <thead>\n",
       "        <tr>\n",
       "            <th>name_first</th>\n",
       "            <th>name_last</th>\n",
       "            <th>player_id</th>\n",
       "            <th>school_id</th>\n",
       "            <th>year_id</th>\n",
       "        </tr>\n",
       "    </thead>\n",
       "    <tbody>\n",
       "        <tr>\n",
       "            <td>Jackie</td>\n",
       "            <td>Robinson</td>\n",
       "            <td>robinja02</td>\n",
       "            <td>ucla</td>\n",
       "            <td>1962</td>\n",
       "        </tr>\n",
       "        <tr>\n",
       "            <td>Harry</td>\n",
       "            <td>Hooper</td>\n",
       "            <td>hoopeha01</td>\n",
       "            <td>stmarysca</td>\n",
       "            <td>1971</td>\n",
       "        </tr>\n",
       "        <tr>\n",
       "            <td>Joe</td>\n",
       "            <td>Morgan</td>\n",
       "            <td>morgajo02</td>\n",
       "            <td>camerri</td>\n",
       "            <td>1990</td>\n",
       "        </tr>\n",
       "        <tr>\n",
       "            <td>Tom</td>\n",
       "            <td>Seaver</td>\n",
       "            <td>seaveto01</td>\n",
       "            <td>usc</td>\n",
       "            <td>1992</td>\n",
       "        </tr>\n",
       "        <tr>\n",
       "            <td>Tom</td>\n",
       "            <td>Seaver</td>\n",
       "            <td>seaveto01</td>\n",
       "            <td>cafrecc</td>\n",
       "            <td>1992</td>\n",
       "        </tr>\n",
       "        <tr>\n",
       "            <td>Ozzie</td>\n",
       "            <td>Smith</td>\n",
       "            <td>smithoz01</td>\n",
       "            <td>calpoly</td>\n",
       "            <td>2002</td>\n",
       "        </tr>\n",
       "        <tr>\n",
       "            <td>Ozzie</td>\n",
       "            <td>Smith</td>\n",
       "            <td>smithoz01</td>\n",
       "            <td>calpoly</td>\n",
       "            <td>2002</td>\n",
       "        </tr>\n",
       "        <tr>\n",
       "            <td>Ozzie</td>\n",
       "            <td>Smith</td>\n",
       "            <td>smithoz01</td>\n",
       "            <td>calpoly</td>\n",
       "            <td>2002</td>\n",
       "        </tr>\n",
       "        <tr>\n",
       "            <td>Ozzie</td>\n",
       "            <td>Smith</td>\n",
       "            <td>smithoz01</td>\n",
       "            <td>calpoly</td>\n",
       "            <td>2002</td>\n",
       "        </tr>\n",
       "        <tr>\n",
       "            <td>Tony</td>\n",
       "            <td>Gwynn</td>\n",
       "            <td>gwynnto01</td>\n",
       "            <td>sandiegost</td>\n",
       "            <td>2007</td>\n",
       "        </tr>\n",
       "        <tr>\n",
       "            <td>Tony</td>\n",
       "            <td>Gwynn</td>\n",
       "            <td>gwynnto01</td>\n",
       "            <td>sandiegost</td>\n",
       "            <td>2007</td>\n",
       "        </tr>\n",
       "        <tr>\n",
       "            <td>Tony</td>\n",
       "            <td>Gwynn</td>\n",
       "            <td>gwynnto01</td>\n",
       "            <td>sandiegost</td>\n",
       "            <td>2007</td>\n",
       "        </tr>\n",
       "        <tr>\n",
       "            <td>Dick</td>\n",
       "            <td>Williams</td>\n",
       "            <td>willidi02</td>\n",
       "            <td>capasad</td>\n",
       "            <td>2008</td>\n",
       "        </tr>\n",
       "        <tr>\n",
       "            <td>Doug</td>\n",
       "            <td>Harvey</td>\n",
       "            <td>harvedo99</td>\n",
       "            <td>sandiegost</td>\n",
       "            <td>2010</td>\n",
       "        </tr>\n",
       "        <tr>\n",
       "            <td>Doug</td>\n",
       "            <td>Harvey</td>\n",
       "            <td>harvedo99</td>\n",
       "            <td>sandiegost</td>\n",
       "            <td>2010</td>\n",
       "        </tr>\n",
       "        <tr>\n",
       "            <td>Pat</td>\n",
       "            <td>Gillick</td>\n",
       "            <td>gillipa99</td>\n",
       "            <td>usc</td>\n",
       "            <td>2011</td>\n",
       "        </tr>\n",
       "        <tr>\n",
       "            <td>Pat</td>\n",
       "            <td>Gillick</td>\n",
       "            <td>gillipa99</td>\n",
       "            <td>usc</td>\n",
       "            <td>2011</td>\n",
       "        </tr>\n",
       "        <tr>\n",
       "            <td>Pat</td>\n",
       "            <td>Gillick</td>\n",
       "            <td>gillipa99</td>\n",
       "            <td>calavco</td>\n",
       "            <td>2011</td>\n",
       "        </tr>\n",
       "        <tr>\n",
       "            <td>Randy</td>\n",
       "            <td>Johnson</td>\n",
       "            <td>johnsra05</td>\n",
       "            <td>usc</td>\n",
       "            <td>2015</td>\n",
       "        </tr>\n",
       "        <tr>\n",
       "            <td>Randy</td>\n",
       "            <td>Johnson</td>\n",
       "            <td>johnsra05</td>\n",
       "            <td>usc</td>\n",
       "            <td>2015</td>\n",
       "        </tr>\n",
       "        <tr>\n",
       "            <td>Randy</td>\n",
       "            <td>Johnson</td>\n",
       "            <td>johnsra05</td>\n",
       "            <td>usc</td>\n",
       "            <td>2015</td>\n",
       "        </tr>\n",
       "        <tr>\n",
       "            <td>Trevor</td>\n",
       "            <td>Hoffman</td>\n",
       "            <td>hoffmtr01</td>\n",
       "            <td>cacypre</td>\n",
       "            <td>2018</td>\n",
       "        </tr>\n",
       "        <tr>\n",
       "            <td>Trevor</td>\n",
       "            <td>Hoffman</td>\n",
       "            <td>hoffmtr01</td>\n",
       "            <td>cacypre</td>\n",
       "            <td>2018</td>\n",
       "        </tr>\n",
       "    </tbody>\n",
       "</table>"
      ],
      "text/plain": [
       "+------------+-----------+-----------+------------+---------+\n",
       "| name_first | name_last | player_id | school_id  | year_id |\n",
       "+------------+-----------+-----------+------------+---------+\n",
       "|   Jackie   |  Robinson | robinja02 |    ucla    |   1962  |\n",
       "|   Harry    |   Hooper  | hoopeha01 | stmarysca  |   1971  |\n",
       "|    Joe     |   Morgan  | morgajo02 |  camerri   |   1990  |\n",
       "|    Tom     |   Seaver  | seaveto01 |    usc     |   1992  |\n",
       "|    Tom     |   Seaver  | seaveto01 |  cafrecc   |   1992  |\n",
       "|   Ozzie    |   Smith   | smithoz01 |  calpoly   |   2002  |\n",
       "|   Ozzie    |   Smith   | smithoz01 |  calpoly   |   2002  |\n",
       "|   Ozzie    |   Smith   | smithoz01 |  calpoly   |   2002  |\n",
       "|   Ozzie    |   Smith   | smithoz01 |  calpoly   |   2002  |\n",
       "|    Tony    |   Gwynn   | gwynnto01 | sandiegost |   2007  |\n",
       "|    Tony    |   Gwynn   | gwynnto01 | sandiegost |   2007  |\n",
       "|    Tony    |   Gwynn   | gwynnto01 | sandiegost |   2007  |\n",
       "|    Dick    |  Williams | willidi02 |  capasad   |   2008  |\n",
       "|    Doug    |   Harvey  | harvedo99 | sandiegost |   2010  |\n",
       "|    Doug    |   Harvey  | harvedo99 | sandiegost |   2010  |\n",
       "|    Pat     |  Gillick  | gillipa99 |    usc     |   2011  |\n",
       "|    Pat     |  Gillick  | gillipa99 |    usc     |   2011  |\n",
       "|    Pat     |  Gillick  | gillipa99 |  calavco   |   2011  |\n",
       "|   Randy    |  Johnson  | johnsra05 |    usc     |   2015  |\n",
       "|   Randy    |  Johnson  | johnsra05 |    usc     |   2015  |\n",
       "|   Randy    |  Johnson  | johnsra05 |    usc     |   2015  |\n",
       "|   Trevor   |  Hoffman  | hoffmtr01 |  cacypre   |   2018  |\n",
       "|   Trevor   |  Hoffman  | hoffmtr01 |  cacypre   |   2018  |\n",
       "+------------+-----------+-----------+------------+---------+"
      ]
     },
     "execution_count": 30,
     "metadata": {},
     "output_type": "execute_result"
    }
   ],
   "source": [
    "%%sql\n",
    "/* just run this cell */\n",
    "DROP VIEW IF EXISTS inducted_hof_ca;\n",
    "CREATE VIEW inducted_hof_ca AS {{query_2a.strip(';')}};\n",
    "\n",
    "SELECT * FROM inducted_hof_ca;"
   ]
  },
  {
   "cell_type": "code",
   "execution_count": 31,
   "metadata": {},
   "outputs": [
    {
     "data": {
      "text/html": [
       "<span style=\"None\">Running query in &#x27;postgresql://jovyan@127.0.0.1:5432/baseball&#x27;</span>"
      ],
      "text/plain": [
       "Running query in 'postgresql://jovyan@127.0.0.1:5432/baseball'"
      ]
     },
     "metadata": {},
     "output_type": "display_data"
    },
    {
     "data": {
      "text/html": [
       "<span style=\"color: green\">23 rows affected.</span>"
      ],
      "text/plain": [
       "23 rows affected."
      ]
     },
     "metadata": {},
     "output_type": "display_data"
    },
    {
     "data": {
      "text/html": [
       "<span style=\"color: green\">23 rows affected.</span>"
      ],
      "text/plain": [
       "23 rows affected."
      ]
     },
     "metadata": {},
     "output_type": "display_data"
    },
    {
     "data": {
      "text/html": [
       "<table>\n",
       "    <thead>\n",
       "        <tr>\n",
       "            <th>name_first</th>\n",
       "            <th>name_last</th>\n",
       "            <th>player_id</th>\n",
       "            <th>school_id</th>\n",
       "            <th>year_id</th>\n",
       "        </tr>\n",
       "    </thead>\n",
       "    <tbody>\n",
       "        <tr>\n",
       "            <td>Jackie</td>\n",
       "            <td>Robinson</td>\n",
       "            <td>robinja02</td>\n",
       "            <td>ucla</td>\n",
       "            <td>1962</td>\n",
       "        </tr>\n",
       "        <tr>\n",
       "            <td>Harry</td>\n",
       "            <td>Hooper</td>\n",
       "            <td>hoopeha01</td>\n",
       "            <td>stmarysca</td>\n",
       "            <td>1971</td>\n",
       "        </tr>\n",
       "        <tr>\n",
       "            <td>Joe</td>\n",
       "            <td>Morgan</td>\n",
       "            <td>morgajo02</td>\n",
       "            <td>camerri</td>\n",
       "            <td>1990</td>\n",
       "        </tr>\n",
       "        <tr>\n",
       "            <td>Tom</td>\n",
       "            <td>Seaver</td>\n",
       "            <td>seaveto01</td>\n",
       "            <td>usc</td>\n",
       "            <td>1992</td>\n",
       "        </tr>\n",
       "        <tr>\n",
       "            <td>Tom</td>\n",
       "            <td>Seaver</td>\n",
       "            <td>seaveto01</td>\n",
       "            <td>cafrecc</td>\n",
       "            <td>1992</td>\n",
       "        </tr>\n",
       "        <tr>\n",
       "            <td>Ozzie</td>\n",
       "            <td>Smith</td>\n",
       "            <td>smithoz01</td>\n",
       "            <td>calpoly</td>\n",
       "            <td>2002</td>\n",
       "        </tr>\n",
       "        <tr>\n",
       "            <td>Ozzie</td>\n",
       "            <td>Smith</td>\n",
       "            <td>smithoz01</td>\n",
       "            <td>calpoly</td>\n",
       "            <td>2002</td>\n",
       "        </tr>\n",
       "        <tr>\n",
       "            <td>Ozzie</td>\n",
       "            <td>Smith</td>\n",
       "            <td>smithoz01</td>\n",
       "            <td>calpoly</td>\n",
       "            <td>2002</td>\n",
       "        </tr>\n",
       "        <tr>\n",
       "            <td>Ozzie</td>\n",
       "            <td>Smith</td>\n",
       "            <td>smithoz01</td>\n",
       "            <td>calpoly</td>\n",
       "            <td>2002</td>\n",
       "        </tr>\n",
       "        <tr>\n",
       "            <td>Tony</td>\n",
       "            <td>Gwynn</td>\n",
       "            <td>gwynnto01</td>\n",
       "            <td>sandiegost</td>\n",
       "            <td>2007</td>\n",
       "        </tr>\n",
       "        <tr>\n",
       "            <td>Tony</td>\n",
       "            <td>Gwynn</td>\n",
       "            <td>gwynnto01</td>\n",
       "            <td>sandiegost</td>\n",
       "            <td>2007</td>\n",
       "        </tr>\n",
       "        <tr>\n",
       "            <td>Tony</td>\n",
       "            <td>Gwynn</td>\n",
       "            <td>gwynnto01</td>\n",
       "            <td>sandiegost</td>\n",
       "            <td>2007</td>\n",
       "        </tr>\n",
       "        <tr>\n",
       "            <td>Dick</td>\n",
       "            <td>Williams</td>\n",
       "            <td>willidi02</td>\n",
       "            <td>capasad</td>\n",
       "            <td>2008</td>\n",
       "        </tr>\n",
       "        <tr>\n",
       "            <td>Doug</td>\n",
       "            <td>Harvey</td>\n",
       "            <td>harvedo99</td>\n",
       "            <td>sandiegost</td>\n",
       "            <td>2010</td>\n",
       "        </tr>\n",
       "        <tr>\n",
       "            <td>Doug</td>\n",
       "            <td>Harvey</td>\n",
       "            <td>harvedo99</td>\n",
       "            <td>sandiegost</td>\n",
       "            <td>2010</td>\n",
       "        </tr>\n",
       "        <tr>\n",
       "            <td>Pat</td>\n",
       "            <td>Gillick</td>\n",
       "            <td>gillipa99</td>\n",
       "            <td>usc</td>\n",
       "            <td>2011</td>\n",
       "        </tr>\n",
       "        <tr>\n",
       "            <td>Pat</td>\n",
       "            <td>Gillick</td>\n",
       "            <td>gillipa99</td>\n",
       "            <td>usc</td>\n",
       "            <td>2011</td>\n",
       "        </tr>\n",
       "        <tr>\n",
       "            <td>Pat</td>\n",
       "            <td>Gillick</td>\n",
       "            <td>gillipa99</td>\n",
       "            <td>calavco</td>\n",
       "            <td>2011</td>\n",
       "        </tr>\n",
       "        <tr>\n",
       "            <td>Randy</td>\n",
       "            <td>Johnson</td>\n",
       "            <td>johnsra05</td>\n",
       "            <td>usc</td>\n",
       "            <td>2015</td>\n",
       "        </tr>\n",
       "        <tr>\n",
       "            <td>Randy</td>\n",
       "            <td>Johnson</td>\n",
       "            <td>johnsra05</td>\n",
       "            <td>usc</td>\n",
       "            <td>2015</td>\n",
       "        </tr>\n",
       "        <tr>\n",
       "            <td>Randy</td>\n",
       "            <td>Johnson</td>\n",
       "            <td>johnsra05</td>\n",
       "            <td>usc</td>\n",
       "            <td>2015</td>\n",
       "        </tr>\n",
       "        <tr>\n",
       "            <td>Trevor</td>\n",
       "            <td>Hoffman</td>\n",
       "            <td>hoffmtr01</td>\n",
       "            <td>cacypre</td>\n",
       "            <td>2018</td>\n",
       "        </tr>\n",
       "        <tr>\n",
       "            <td>Trevor</td>\n",
       "            <td>Hoffman</td>\n",
       "            <td>hoffmtr01</td>\n",
       "            <td>cacypre</td>\n",
       "            <td>2018</td>\n",
       "        </tr>\n",
       "    </tbody>\n",
       "</table>"
      ],
      "text/plain": [
       "+------------+-----------+-----------+------------+---------+\n",
       "| name_first | name_last | player_id | school_id  | year_id |\n",
       "+------------+-----------+-----------+------------+---------+\n",
       "|   Jackie   |  Robinson | robinja02 |    ucla    |   1962  |\n",
       "|   Harry    |   Hooper  | hoopeha01 | stmarysca  |   1971  |\n",
       "|    Joe     |   Morgan  | morgajo02 |  camerri   |   1990  |\n",
       "|    Tom     |   Seaver  | seaveto01 |    usc     |   1992  |\n",
       "|    Tom     |   Seaver  | seaveto01 |  cafrecc   |   1992  |\n",
       "|   Ozzie    |   Smith   | smithoz01 |  calpoly   |   2002  |\n",
       "|   Ozzie    |   Smith   | smithoz01 |  calpoly   |   2002  |\n",
       "|   Ozzie    |   Smith   | smithoz01 |  calpoly   |   2002  |\n",
       "|   Ozzie    |   Smith   | smithoz01 |  calpoly   |   2002  |\n",
       "|    Tony    |   Gwynn   | gwynnto01 | sandiegost |   2007  |\n",
       "|    Tony    |   Gwynn   | gwynnto01 | sandiegost |   2007  |\n",
       "|    Tony    |   Gwynn   | gwynnto01 | sandiegost |   2007  |\n",
       "|    Dick    |  Williams | willidi02 |  capasad   |   2008  |\n",
       "|    Doug    |   Harvey  | harvedo99 | sandiegost |   2010  |\n",
       "|    Doug    |   Harvey  | harvedo99 | sandiegost |   2010  |\n",
       "|    Pat     |  Gillick  | gillipa99 |    usc     |   2011  |\n",
       "|    Pat     |  Gillick  | gillipa99 |    usc     |   2011  |\n",
       "|    Pat     |  Gillick  | gillipa99 |  calavco   |   2011  |\n",
       "|   Randy    |  Johnson  | johnsra05 |    usc     |   2015  |\n",
       "|   Randy    |  Johnson  | johnsra05 |    usc     |   2015  |\n",
       "|   Randy    |  Johnson  | johnsra05 |    usc     |   2015  |\n",
       "|   Trevor   |  Hoffman  | hoffmtr01 |  cacypre   |   2018  |\n",
       "|   Trevor   |  Hoffman  | hoffmtr01 |  cacypre   |   2018  |\n",
       "+------------+-----------+-----------+------------+---------+"
      ]
     },
     "execution_count": 31,
     "metadata": {},
     "output_type": "execute_result"
    }
   ],
   "source": [
    "%%sql\n",
    "/* just run this cell */\n",
    "DROP MATERIALIZED VIEW IF EXISTS inducted_hof_ca_mat;\n",
    "CREATE MATERIALIZED VIEW inducted_hof_ca_mat AS {{query_2a.strip(';')}};\n",
    "\n",
    "SELECT * FROM inducted_hof_ca_mat;"
   ]
  },
  {
   "cell_type": "markdown",
   "metadata": {},
   "source": [
    "<br/><br/>\n",
    "\n",
    "---\n",
    "## Question 2b\n",
    "\n",
    "For this question, we want to compute the count of players who were inducted into the Hall of Fame and played baseball at a college in California for each `school_id` and `year_id` combination ordered by ascending `year_id`.\n",
    "\n",
    "You should write three queries that accomplish this task, but with different strategies:\n",
    "* Question 2bi: Use the `inducted_hof_ca` view;\n",
    "* Question 2bii Use the `inducted_hof_ca_mat` view; and\n",
    "* Question 2biii: **Do not use `inducted_hof_ca` view, `inducted_hof_ca_mat` materialized view, any common table expressions (CTEs), nor any subqueries.**\n",
    "\n",
    "For all subparts in Q2b, your table header should look like this:\n",
    "\n",
    "| school_id | year_id | count |\n",
    "| --- | --- | ---|"
   ]
  },
  {
   "cell_type": "markdown",
   "metadata": {
    "deletable": false,
    "editable": false
   },
   "source": [
    "### Question 2bi\n",
    "\n",
    "Write a query to accomplish the task above using the `inducted_hof_ca` view."
   ]
  },
  {
   "cell_type": "code",
   "execution_count": 32,
   "metadata": {
    "tags": [
     "otter_answer_cell"
    ]
   },
   "outputs": [
    {
     "data": {
      "text/html": [
       "<span style=\"None\">Running query in &#x27;postgresql://jovyan@127.0.0.1:5432/baseball&#x27;</span>"
      ],
      "text/plain": [
       "Running query in 'postgresql://jovyan@127.0.0.1:5432/baseball'"
      ]
     },
     "metadata": {},
     "output_type": "display_data"
    },
    {
     "data": {
      "text/html": [
       "<span style=\"color: green\">13 rows affected.</span>"
      ],
      "text/plain": [
       "13 rows affected."
      ]
     },
     "metadata": {},
     "output_type": "display_data"
    }
   ],
   "source": [
    "%%sql --save query_2bi result_2bi <<\n",
    "SELECT \n",
    "    school_id,\n",
    "    year_id, \n",
    "    COUNT(player_id) AS count\n",
    "FROM inducted_hof_ca\n",
    "GROUP BY school_id, year_id \n",
    "ORDER BY year_id ASC, school_id ASC\n",
    ";"
   ]
  },
  {
   "cell_type": "code",
   "execution_count": 33,
   "metadata": {
    "tags": [
     "otter_answer_cell"
    ]
   },
   "outputs": [
    {
     "data": {
      "text/html": [
       "<table>\n",
       "    <thead>\n",
       "        <tr>\n",
       "            <th>school_id</th>\n",
       "            <th>year_id</th>\n",
       "            <th>count</th>\n",
       "        </tr>\n",
       "    </thead>\n",
       "    <tbody>\n",
       "        <tr>\n",
       "            <td>ucla</td>\n",
       "            <td>1962</td>\n",
       "            <td>1</td>\n",
       "        </tr>\n",
       "        <tr>\n",
       "            <td>stmarysca</td>\n",
       "            <td>1971</td>\n",
       "            <td>1</td>\n",
       "        </tr>\n",
       "        <tr>\n",
       "            <td>camerri</td>\n",
       "            <td>1990</td>\n",
       "            <td>1</td>\n",
       "        </tr>\n",
       "        <tr>\n",
       "            <td>cafrecc</td>\n",
       "            <td>1992</td>\n",
       "            <td>1</td>\n",
       "        </tr>\n",
       "        <tr>\n",
       "            <td>usc</td>\n",
       "            <td>1992</td>\n",
       "            <td>1</td>\n",
       "        </tr>\n",
       "        <tr>\n",
       "            <td>calpoly</td>\n",
       "            <td>2002</td>\n",
       "            <td>4</td>\n",
       "        </tr>\n",
       "        <tr>\n",
       "            <td>sandiegost</td>\n",
       "            <td>2007</td>\n",
       "            <td>3</td>\n",
       "        </tr>\n",
       "        <tr>\n",
       "            <td>capasad</td>\n",
       "            <td>2008</td>\n",
       "            <td>1</td>\n",
       "        </tr>\n",
       "        <tr>\n",
       "            <td>sandiegost</td>\n",
       "            <td>2010</td>\n",
       "            <td>2</td>\n",
       "        </tr>\n",
       "        <tr>\n",
       "            <td>calavco</td>\n",
       "            <td>2011</td>\n",
       "            <td>1</td>\n",
       "        </tr>\n",
       "        <tr>\n",
       "            <td>usc</td>\n",
       "            <td>2011</td>\n",
       "            <td>2</td>\n",
       "        </tr>\n",
       "        <tr>\n",
       "            <td>usc</td>\n",
       "            <td>2015</td>\n",
       "            <td>3</td>\n",
       "        </tr>\n",
       "        <tr>\n",
       "            <td>cacypre</td>\n",
       "            <td>2018</td>\n",
       "            <td>2</td>\n",
       "        </tr>\n",
       "    </tbody>\n",
       "</table>"
      ],
      "text/plain": [
       "+------------+---------+-------+\n",
       "| school_id  | year_id | count |\n",
       "+------------+---------+-------+\n",
       "|    ucla    |   1962  |   1   |\n",
       "| stmarysca  |   1971  |   1   |\n",
       "|  camerri   |   1990  |   1   |\n",
       "|  cafrecc   |   1992  |   1   |\n",
       "|    usc     |   1992  |   1   |\n",
       "|  calpoly   |   2002  |   4   |\n",
       "| sandiegost |   2007  |   3   |\n",
       "|  capasad   |   2008  |   1   |\n",
       "| sandiegost |   2010  |   2   |\n",
       "|  calavco   |   2011  |   1   |\n",
       "|    usc     |   2011  |   2   |\n",
       "|    usc     |   2015  |   3   |\n",
       "|  cacypre   |   2018  |   2   |\n",
       "+------------+---------+-------+"
      ]
     },
     "execution_count": 33,
     "metadata": {},
     "output_type": "execute_result"
    }
   ],
   "source": [
    "# Do not delete/edit this cell!\n",
    "# You must run this cell before running the autograder.\n",
    "query_2bi = %sqlcmd snippets query_2bi\n",
    "grading_util.save_results(\"result_2bi\", query_2bi, result_2bi)\n",
    "result_2bi"
   ]
  },
  {
   "cell_type": "code",
   "execution_count": 34,
   "metadata": {
    "deletable": false,
    "editable": false
   },
   "outputs": [
    {
     "data": {
      "text/html": [
       "<p><strong><pre style='display: inline;'>q2bi</pre></strong> passed! 🌟</p>"
      ],
      "text/plain": [
       "q2bi results: All test cases passed!"
      ]
     },
     "execution_count": 34,
     "metadata": {},
     "output_type": "execute_result"
    }
   ],
   "source": [
    "grader.check(\"q2bi\")"
   ]
  },
  {
   "cell_type": "markdown",
   "metadata": {
    "deletable": false,
    "editable": false
   },
   "source": [
    "<br/><br/>\n",
    "\n",
    "### Question 2bii\n",
    "\n",
    "Now, write the query a second time using the materialized view `inducted_hof_ca_mat`."
   ]
  },
  {
   "cell_type": "code",
   "execution_count": 35,
   "metadata": {
    "scrolled": true,
    "tags": [
     "otter_answer_cell"
    ]
   },
   "outputs": [
    {
     "data": {
      "text/html": [
       "<span style=\"None\">Running query in &#x27;postgresql://jovyan@127.0.0.1:5432/baseball&#x27;</span>"
      ],
      "text/plain": [
       "Running query in 'postgresql://jovyan@127.0.0.1:5432/baseball'"
      ]
     },
     "metadata": {},
     "output_type": "display_data"
    },
    {
     "data": {
      "text/html": [
       "<span style=\"color: green\">13 rows affected.</span>"
      ],
      "text/plain": [
       "13 rows affected."
      ]
     },
     "metadata": {},
     "output_type": "display_data"
    }
   ],
   "source": [
    "%%sql --save query_2bii result_2bii <<\n",
    "SELECT \n",
    "    school_id,\n",
    "    year_id, \n",
    "    COUNT(player_id) AS count\n",
    "FROM inducted_hof_ca_mat\n",
    "GROUP BY school_id, year_id \n",
    "ORDER BY year_id ASC, school_id ASC\n",
    ";"
   ]
  },
  {
   "cell_type": "code",
   "execution_count": 36,
   "metadata": {
    "tags": [
     "otter_answer_cell"
    ]
   },
   "outputs": [
    {
     "data": {
      "text/html": [
       "<table>\n",
       "    <thead>\n",
       "        <tr>\n",
       "            <th>school_id</th>\n",
       "            <th>year_id</th>\n",
       "            <th>count</th>\n",
       "        </tr>\n",
       "    </thead>\n",
       "    <tbody>\n",
       "        <tr>\n",
       "            <td>ucla</td>\n",
       "            <td>1962</td>\n",
       "            <td>1</td>\n",
       "        </tr>\n",
       "        <tr>\n",
       "            <td>stmarysca</td>\n",
       "            <td>1971</td>\n",
       "            <td>1</td>\n",
       "        </tr>\n",
       "        <tr>\n",
       "            <td>camerri</td>\n",
       "            <td>1990</td>\n",
       "            <td>1</td>\n",
       "        </tr>\n",
       "        <tr>\n",
       "            <td>cafrecc</td>\n",
       "            <td>1992</td>\n",
       "            <td>1</td>\n",
       "        </tr>\n",
       "        <tr>\n",
       "            <td>usc</td>\n",
       "            <td>1992</td>\n",
       "            <td>1</td>\n",
       "        </tr>\n",
       "        <tr>\n",
       "            <td>calpoly</td>\n",
       "            <td>2002</td>\n",
       "            <td>4</td>\n",
       "        </tr>\n",
       "        <tr>\n",
       "            <td>sandiegost</td>\n",
       "            <td>2007</td>\n",
       "            <td>3</td>\n",
       "        </tr>\n",
       "        <tr>\n",
       "            <td>capasad</td>\n",
       "            <td>2008</td>\n",
       "            <td>1</td>\n",
       "        </tr>\n",
       "        <tr>\n",
       "            <td>sandiegost</td>\n",
       "            <td>2010</td>\n",
       "            <td>2</td>\n",
       "        </tr>\n",
       "        <tr>\n",
       "            <td>calavco</td>\n",
       "            <td>2011</td>\n",
       "            <td>1</td>\n",
       "        </tr>\n",
       "        <tr>\n",
       "            <td>usc</td>\n",
       "            <td>2011</td>\n",
       "            <td>2</td>\n",
       "        </tr>\n",
       "        <tr>\n",
       "            <td>usc</td>\n",
       "            <td>2015</td>\n",
       "            <td>3</td>\n",
       "        </tr>\n",
       "        <tr>\n",
       "            <td>cacypre</td>\n",
       "            <td>2018</td>\n",
       "            <td>2</td>\n",
       "        </tr>\n",
       "    </tbody>\n",
       "</table>"
      ],
      "text/plain": [
       "+------------+---------+-------+\n",
       "| school_id  | year_id | count |\n",
       "+------------+---------+-------+\n",
       "|    ucla    |   1962  |   1   |\n",
       "| stmarysca  |   1971  |   1   |\n",
       "|  camerri   |   1990  |   1   |\n",
       "|  cafrecc   |   1992  |   1   |\n",
       "|    usc     |   1992  |   1   |\n",
       "|  calpoly   |   2002  |   4   |\n",
       "| sandiegost |   2007  |   3   |\n",
       "|  capasad   |   2008  |   1   |\n",
       "| sandiegost |   2010  |   2   |\n",
       "|  calavco   |   2011  |   1   |\n",
       "|    usc     |   2011  |   2   |\n",
       "|    usc     |   2015  |   3   |\n",
       "|  cacypre   |   2018  |   2   |\n",
       "+------------+---------+-------+"
      ]
     },
     "execution_count": 36,
     "metadata": {},
     "output_type": "execute_result"
    }
   ],
   "source": [
    "# Do not delete/edit this cell!\n",
    "# You must run this cell before running the autograder.\n",
    "query_2bii = %sqlcmd snippets query_2bii\n",
    "grading_util.save_results(\"result_2bii\", query_2bii, result_2bii)\n",
    "result_2bii"
   ]
  },
  {
   "cell_type": "code",
   "execution_count": 37,
   "metadata": {
    "deletable": false,
    "editable": false
   },
   "outputs": [
    {
     "data": {
      "text/html": [
       "<p><strong><pre style='display: inline;'>q2bii</pre></strong> passed! 🍀</p>"
      ],
      "text/plain": [
       "q2bii results: All test cases passed!"
      ]
     },
     "execution_count": 37,
     "metadata": {},
     "output_type": "execute_result"
    }
   ],
   "source": [
    "grader.check(\"q2bii\")"
   ]
  },
  {
   "cell_type": "markdown",
   "metadata": {
    "deletable": false,
    "editable": false
   },
   "source": [
    "<br/><br/>\n",
    "\n",
    "### Question 2biii\n",
    "\n",
    "Finally, write the query a third time. Do **NOT** use the `inducted_hof_ca` view, nor the `inducted_hof_ca_mat` materialized view, nor any common table expressions (CTEs), nor any subqueries.\n",
    "\n",
    "**Note:**\n",
    "- For this query, `year_id` refers to player's year of induction into the Hall of Fame."
   ]
  },
  {
   "cell_type": "code",
   "execution_count": 38,
   "metadata": {
    "tags": [
     "otter_answer_cell"
    ]
   },
   "outputs": [
    {
     "data": {
      "text/html": [
       "<span style=\"None\">Running query in &#x27;postgresql://jovyan@127.0.0.1:5432/baseball&#x27;</span>"
      ],
      "text/plain": [
       "Running query in 'postgresql://jovyan@127.0.0.1:5432/baseball'"
      ]
     },
     "metadata": {},
     "output_type": "display_data"
    },
    {
     "data": {
      "text/html": [
       "<span style=\"color: green\">13 rows affected.</span>"
      ],
      "text/plain": [
       "13 rows affected."
      ]
     },
     "metadata": {},
     "output_type": "display_data"
    }
   ],
   "source": [
    "%%sql --save query_2biii result_2biii <<\n",
    "SELECT \n",
    "    cp.school_id,\n",
    "    h.year_id, \n",
    "    COUNT(p.player_id) AS count \n",
    "FROM people AS p \n",
    "INNER JOIN hall_of_fame AS h ON p.player_id = h.player_id\n",
    "INNER JOIN college_playing AS cp ON p.player_id = cp.player_id\n",
    "INNER JOIN schools AS s ON cp.school_id = s.school_id \n",
    "WHERE h.inducted = 'Y'\n",
    "AND s.school_state = 'CA'\n",
    "GROUP BY cp.school_id, h.year_id\n",
    "ORDER BY h.year_id ASC, cp.school_id ASC\n",
    ";"
   ]
  },
  {
   "cell_type": "code",
   "execution_count": 39,
   "metadata": {
    "tags": [
     "otter_answer_cell"
    ]
   },
   "outputs": [
    {
     "data": {
      "text/html": [
       "<table>\n",
       "    <thead>\n",
       "        <tr>\n",
       "            <th>school_id</th>\n",
       "            <th>year_id</th>\n",
       "            <th>count</th>\n",
       "        </tr>\n",
       "    </thead>\n",
       "    <tbody>\n",
       "        <tr>\n",
       "            <td>ucla</td>\n",
       "            <td>1962</td>\n",
       "            <td>1</td>\n",
       "        </tr>\n",
       "        <tr>\n",
       "            <td>stmarysca</td>\n",
       "            <td>1971</td>\n",
       "            <td>1</td>\n",
       "        </tr>\n",
       "        <tr>\n",
       "            <td>camerri</td>\n",
       "            <td>1990</td>\n",
       "            <td>1</td>\n",
       "        </tr>\n",
       "        <tr>\n",
       "            <td>cafrecc</td>\n",
       "            <td>1992</td>\n",
       "            <td>1</td>\n",
       "        </tr>\n",
       "        <tr>\n",
       "            <td>usc</td>\n",
       "            <td>1992</td>\n",
       "            <td>1</td>\n",
       "        </tr>\n",
       "        <tr>\n",
       "            <td>calpoly</td>\n",
       "            <td>2002</td>\n",
       "            <td>4</td>\n",
       "        </tr>\n",
       "        <tr>\n",
       "            <td>sandiegost</td>\n",
       "            <td>2007</td>\n",
       "            <td>3</td>\n",
       "        </tr>\n",
       "        <tr>\n",
       "            <td>capasad</td>\n",
       "            <td>2008</td>\n",
       "            <td>1</td>\n",
       "        </tr>\n",
       "        <tr>\n",
       "            <td>sandiegost</td>\n",
       "            <td>2010</td>\n",
       "            <td>2</td>\n",
       "        </tr>\n",
       "        <tr>\n",
       "            <td>calavco</td>\n",
       "            <td>2011</td>\n",
       "            <td>1</td>\n",
       "        </tr>\n",
       "        <tr>\n",
       "            <td>usc</td>\n",
       "            <td>2011</td>\n",
       "            <td>2</td>\n",
       "        </tr>\n",
       "        <tr>\n",
       "            <td>usc</td>\n",
       "            <td>2015</td>\n",
       "            <td>3</td>\n",
       "        </tr>\n",
       "        <tr>\n",
       "            <td>cacypre</td>\n",
       "            <td>2018</td>\n",
       "            <td>2</td>\n",
       "        </tr>\n",
       "    </tbody>\n",
       "</table>"
      ],
      "text/plain": [
       "+------------+---------+-------+\n",
       "| school_id  | year_id | count |\n",
       "+------------+---------+-------+\n",
       "|    ucla    |   1962  |   1   |\n",
       "| stmarysca  |   1971  |   1   |\n",
       "|  camerri   |   1990  |   1   |\n",
       "|  cafrecc   |   1992  |   1   |\n",
       "|    usc     |   1992  |   1   |\n",
       "|  calpoly   |   2002  |   4   |\n",
       "| sandiegost |   2007  |   3   |\n",
       "|  capasad   |   2008  |   1   |\n",
       "| sandiegost |   2010  |   2   |\n",
       "|  calavco   |   2011  |   1   |\n",
       "|    usc     |   2011  |   2   |\n",
       "|    usc     |   2015  |   3   |\n",
       "|  cacypre   |   2018  |   2   |\n",
       "+------------+---------+-------+"
      ]
     },
     "execution_count": 39,
     "metadata": {},
     "output_type": "execute_result"
    }
   ],
   "source": [
    "# Do not delete/edit this cell!\n",
    "# You must run this cell before running the autograder.\n",
    "query_2biii = %sqlcmd snippets query_2biii\n",
    "grading_util.save_results(\"result_2biii\", query_2biii, result_2biii)\n",
    "result_2biii"
   ]
  },
  {
   "cell_type": "code",
   "execution_count": 40,
   "metadata": {
    "deletable": false,
    "editable": false
   },
   "outputs": [
    {
     "data": {
      "text/html": [
       "<p><strong><pre style='display: inline;'>q2biii</pre></strong> passed! 🎉</p>"
      ],
      "text/plain": [
       "q2biii results: All test cases passed!"
      ]
     },
     "execution_count": 40,
     "metadata": {},
     "output_type": "execute_result"
    }
   ],
   "source": [
    "grader.check(\"q2biii\")"
   ]
  },
  {
   "cell_type": "markdown",
   "metadata": {
    "deletable": false,
    "editable": false
   },
   "source": [
    "<br/><br/>\n",
    "\n",
    "---\n",
    "\n",
    "## Question 2c\n",
    "Inspect the query plans for the three queries you wrote above by running the following cells."
   ]
  },
  {
   "cell_type": "code",
   "execution_count": 41,
   "metadata": {
    "deletable": false,
    "editable": false
   },
   "outputs": [
    {
     "name": "stdout",
     "output_type": "stream",
     "text": [
      "                                                                              QUERY PLAN                                                                               \n",
      "-----------------------------------------------------------------------------------------------------------------------------------------------------------------------\n",
      " GroupAggregate  (cost=520.03..520.69 rows=33 width=20) (actual time=4.815..4.825 rows=13 loops=1)\n",
      "   Group Key: inducted_hof_ca.year_id, inducted_hof_ca.school_id\n",
      "   ->  Sort  (cost=520.03..520.11 rows=33 width=21) (actual time=4.809..4.813 rows=23 loops=1)\n",
      "         Sort Key: inducted_hof_ca.year_id, inducted_hof_ca.school_id\n",
      "         Sort Method: quicksort  Memory: 26kB\n",
      "         ->  Subquery Scan on inducted_hof_ca  (cost=518.79..519.20 rows=33 width=21) (actual time=4.768..4.775 rows=23 loops=1)\n",
      "               ->  Sort  (cost=518.79..518.87 rows=33 width=257) (actual time=4.767..4.771 rows=23 loops=1)\n",
      "                     Sort Key: h.year_id, p.player_id\n",
      "                     Sort Method: quicksort  Memory: 26kB\n",
      "                     ->  Nested Loop  (cost=386.71..517.95 rows=33 width=257) (actual time=4.316..4.748 rows=23 loops=1)\n",
      "                           Join Filter: ((h.player_id)::text = (p.player_id)::text)\n",
      "                           ->  Hash Join  (cost=386.42..485.79 rows=96 width=30) (actual time=4.291..4.592 rows=23 loops=1)\n",
      "                                 Hash Cond: ((h.player_id)::text = (cp.player_id)::text)\n",
      "                                 ->  Seq Scan on hall_of_fame h  (cost=0.00..96.39 rows=323 width=13) (actual time=0.014..0.513 rows=323 loops=1)\n",
      "                                       Filter: ((inducted)::text = 'Y'::text)\n",
      "                                       Rows Removed by Filter: 3868\n",
      "                                 ->  Hash  (cost=361.99..361.99 rows=1955 width=17) (actual time=4.024..4.025 rows=2948 loops=1)\n",
      " (originally 1)  Memory Usage: 178kB   Buckets: 4096 (originally 2048)  Batches: 1\n",
      "                                       ->  Hash Join  (cost=29.79..361.99 rows=1955 width=17) (actual time=0.181..3.396 rows=2948 loops=1)\n",
      "                                             Hash Cond: ((cp.school_id)::text = (s.school_id)::text)\n",
      "                                             ->  Seq Scan on college_playing cp  (cost=0.00..286.50 rows=17350 width=17) (actual time=0.011..1.091 rows=17350 loops=1)\n",
      "                                             ->  Hash  (cost=28.09..28.09 rows=136 width=8) (actual time=0.149..0.150 rows=136 loops=1)\n",
      "                                                   Buckets: 1024  Batches: 1  Memory Usage: 14kB\n",
      "                                                   ->  Seq Scan on schools s  (cost=0.00..28.09 rows=136 width=8) (actual time=0.009..0.123 rows=136 loops=1)\n",
      "                                                         Filter: ((school_state)::text = 'CA'::text)\n",
      "                                                         Rows Removed by Filter: 1071\n",
      "                           ->  Index Only Scan using master_pkey on people p  (cost=0.29..0.32 rows=1 width=9) (actual time=0.006..0.006 rows=1 loops=23)\n",
      "                                 Index Cond: (player_id = (cp.player_id)::text)\n",
      "                                 Heap Fetches: 0\n",
      " Planning Time: 2.295 ms\n",
      " Execution Time: 4.969 ms\n",
      "(31 rows)\n",
      "\n"
     ]
    }
   ],
   "source": [
    "# just run this cell\n",
    "!psql -h localhost -d baseball -c \"EXPLAIN ANALYZE {query_2bi}\";"
   ]
  },
  {
   "cell_type": "code",
   "execution_count": 42,
   "metadata": {
    "deletable": false,
    "editable": false
   },
   "outputs": [
    {
     "name": "stdout",
     "output_type": "stream",
     "text": [
      "                                                          QUERY PLAN                                                          \n",
      "------------------------------------------------------------------------------------------------------------------------------\n",
      " Sort  (cost=23.67..24.17 rows=200 width=60) (actual time=0.053..0.054 rows=13 loops=1)\n",
      "   Sort Key: year_id, school_id\n",
      "   Sort Method: quicksort  Memory: 25kB\n",
      "   ->  HashAggregate  (cost=14.03..16.02 rows=200 width=60) (actual time=0.019..0.022 rows=13 loops=1)\n",
      "         Group Key: year_id, school_id\n",
      "         Batches: 1  Memory Usage: 40kB\n",
      "         ->  Seq Scan on inducted_hof_ca_mat  (cost=0.00..12.30 rows=230 width=90) (actual time=0.004..0.005 rows=23 loops=1)\n",
      " Planning Time: 0.262 ms\n",
      " Execution Time: 0.146 ms\n",
      "(9 rows)\n",
      "\n"
     ]
    }
   ],
   "source": [
    "# just run this cell\n",
    "!psql -h localhost -d baseball -c \"EXPLAIN ANALYZE {query_2bii}\";"
   ]
  },
  {
   "cell_type": "code",
   "execution_count": 43,
   "metadata": {
    "deletable": false,
    "editable": false
   },
   "outputs": [
    {
     "name": "stdout",
     "output_type": "stream",
     "text": [
      "                                                                        QUERY PLAN                                                                         \n",
      "-----------------------------------------------------------------------------------------------------------------------------------------------------------\n",
      " GroupAggregate  (cost=518.79..519.45 rows=33 width=20) (actual time=4.601..4.625 rows=13 loops=1)\n",
      "   Group Key: h.year_id, cp.school_id\n",
      "   ->  Sort  (cost=518.79..518.87 rows=33 width=21) (actual time=4.596..4.600 rows=23 loops=1)\n",
      "         Sort Key: h.year_id, cp.school_id\n",
      "         Sort Method: quicksort  Memory: 26kB\n",
      "         ->  Nested Loop  (cost=386.71..517.95 rows=33 width=21) (actual time=4.156..4.549 rows=23 loops=1)\n",
      "               Join Filter: ((h.player_id)::text = (p.player_id)::text)\n",
      "               ->  Hash Join  (cost=386.42..485.79 rows=96 width=30) (actual time=4.128..4.423 rows=23 loops=1)\n",
      "                     Hash Cond: ((h.player_id)::text = (cp.player_id)::text)\n",
      "                     ->  Seq Scan on hall_of_fame h  (cost=0.00..96.39 rows=323 width=13) (actual time=0.014..0.481 rows=323 loops=1)\n",
      "                           Filter: ((inducted)::text = 'Y'::text)\n",
      "                           Rows Removed by Filter: 3868\n",
      "                     ->  Hash  (cost=361.99..361.99 rows=1955 width=17) (actual time=3.893..3.894 rows=2948 loops=1)\n",
      "                           Buckets: 4096 (originally 2048)  Batches: 1 (originally 1)  Memory Usage: 178kB\n",
      "                           ->  Hash Join  (cost=29.79..361.99 rows=1955 width=17) (actual time=0.181..3.265 rows=2948 loops=1)\n",
      "                                 Hash Cond: ((cp.school_id)::text = (s.school_id)::text)\n",
      "                                 ->  Seq Scan on college_playing cp  (cost=0.00..286.50 rows=17350 width=17) (actual time=0.010..1.053 rows=17350 loops=1)\n",
      "                                 ->  Hash  (cost=28.09..28.09 rows=136 width=8) (actual time=0.151..0.152 rows=136 loops=1)\n",
      "                                       Buckets: 1024  Batches: 1  Memory Usage: 14kB\n",
      "                                       ->  Seq Scan on schools s  (cost=0.00..28.09 rows=136 width=8) (actual time=0.009..0.124 rows=136 loops=1)\n",
      "                                             Filter: ((school_state)::text = 'CA'::text)\n",
      "                                             Rows Removed by Filter: 1071\n",
      "               ->  Index Only Scan using master_pkey on people p  (cost=0.29..0.32 rows=1 width=9) (actual time=0.005..0.005 rows=1 loops=23)\n",
      "                     Index Cond: (player_id = (cp.player_id)::text)\n",
      "                     Heap Fetches: 0\n",
      " Planning Time: 2.231 ms\n",
      " Execution Time: 4.755 ms\n",
      "(27 rows)\n",
      "\n"
     ]
    }
   ],
   "source": [
    "# just run this cell\n",
    "!psql -h localhost -d baseball -c \"EXPLAIN ANALYZE {query_2biii}\";"
   ]
  },
  {
   "cell_type": "markdown",
   "metadata": {
    "deletable": false,
    "editable": false
   },
   "source": [
    "Then, record the execution time and cost for each query."
   ]
  },
  {
   "cell_type": "code",
   "execution_count": 44,
   "metadata": {
    "tags": [
     "otter_answer_cell"
    ]
   },
   "outputs": [],
   "source": [
    "with_view_cost = 520.69 \n",
    "with_view_timing = 4.739\n",
    "with_materialized_view_cost = 24.17\n",
    "with_materialized_view_timing = 0.418\n",
    "without_view_cost = 519.45\n",
    "without_view_timing = 5.057"
   ]
  },
  {
   "cell_type": "code",
   "execution_count": 45,
   "metadata": {
    "deletable": false,
    "editable": false
   },
   "outputs": [
    {
     "data": {
      "text/html": [
       "<p><strong><pre style='display: inline;'>q2c</pre></strong> passed! 🚀</p>"
      ],
      "text/plain": [
       "q2c results: All test cases passed!"
      ]
     },
     "execution_count": 45,
     "metadata": {},
     "output_type": "execute_result"
    }
   ],
   "source": [
    "grader.check(\"q2c\")"
   ]
  },
  {
   "cell_type": "markdown",
   "metadata": {
    "deletable": false,
    "editable": false
   },
   "source": [
    "<br/><br/>\n",
    "\n",
    "---\n",
    "\n",
    "## Question 2d\n",
    "\n",
    "Given your findings from inspecting the query plans in this question, as well as your understanding of views and materialized views from lectures, discuss the takeaways of using views and materialized views.\n",
    "\n",
    "### Question 2di\n",
    "\n",
    "**Assign the variable `q2di` to a list of _ALL_ of the below statements that are true.**\n",
    "\n",
    "A. Views will reduce the execution time and the cost of a query.<br/>\n",
    "B. Views will reduce the execution time of a query, but not the cost.<br/>\n",
    "C. Views will reduce the cost of a query, but not the execution time.<br/>\n",
    "D. Materialized views reduce the execution time and the cost of a query.<br/>\n",
    "E. Materialized views reduce the execution time, but not cost of a query.<br/>\n",
    "F. Materialized views reduce the cost of a query, but not the execution time.<br/>\n",
    "G. Materialized views will result in the same query plan as a query using views.<br/>\n",
    "H. Materialized views and views take the same time to create.<br/>\n",
    "I. Materialized views take less time to create than a view.<br/>\n",
    "J. Materialized views take more time to create than a view.<br/>\n",
    "    \n",
    "**Note:** Your answer should have the format like this if you think A and B are both true: `q2di = ['A', 'B']`. The autograder is **case sensitive** but order should not matter."
   ]
  },
  {
   "cell_type": "code",
   "execution_count": 46,
   "metadata": {
    "tags": [
     "otter_answer_cell"
    ]
   },
   "outputs": [],
   "source": [
    "q2di = ['D', 'J']"
   ]
  },
  {
   "cell_type": "code",
   "execution_count": 47,
   "metadata": {
    "deletable": false,
    "editable": false
   },
   "outputs": [
    {
     "data": {
      "text/html": [
       "<p><strong><pre style='display: inline;'>q2di</pre></strong> passed! 🌈</p>"
      ],
      "text/plain": [
       "q2di results: All test cases passed!"
      ]
     },
     "execution_count": 47,
     "metadata": {},
     "output_type": "execute_result"
    }
   ],
   "source": [
    "grader.check(\"q2di\")"
   ]
  },
  {
   "cell_type": "markdown",
   "metadata": {
    "deletable": false,
    "editable": false
   },
   "source": [
    "<!-- BEGIN QUESTION -->\n",
    "\n",
    "### Question 2dii\n",
    "\n",
    "1. **Explain your answer** to the previous part (Question 2di) based on your understanding both of the **theoretical aspects of query planning and optimization discussed in class**, as well as EXPLAIN ANALYZE results - but bear in mind that sometimes EXPLAIN ANALYZE results may be unpredictable/hard to explain (because of contention, caching, noise/randomness).\n",
    "2. If there were any options you did NOT select, **choose any one of them and explain why you did not select it.**\n",
    "\n",
    "**Please answer in at most 5 sentences** and **explicitly state which answer option(s) you chose or didn't choose** in addition to your explanations. For example, you could write, \"I chose (A) because...\" or \"I did NOT choose (B) because...\""
   ]
  },
  {
   "cell_type": "markdown",
   "metadata": {
    "tags": [
     "otter_answer_cell"
    ]
   },
   "source": [
    "I chose (D) because materialized views store computed resutlts we computed before hand, which reduced both execution time and cost for subsequent queries because we did not need to recompute them. I also chose (J) because materialized views take more time to create than regular views due to the computing overhead and storing the results. I did not choose (A) because regular views do not reduce execution time or cost because they simply saved queries that are executed. These outcomes are consistent with the explain analyze results."
   ]
  },
  {
   "cell_type": "markdown",
   "metadata": {
    "deletable": false,
    "editable": false
   },
   "source": [
    "<!-- END QUESTION -->\n",
    "\n",
    "<br><br>\n",
    "\n",
    "<hr style=\"border: 5px solid #003262;\" />\n",
    "<hr style=\"border: 1px solid #fdb515;\" />\n",
    "\n",
    "# Question 3: Predicate Pushdown\n",
    "In this question, we will explore the impact of predicates (i.e., filters) on a query's execution, particularly inspecting when the optimizer applies predicates."
   ]
  },
  {
   "cell_type": "markdown",
   "metadata": {
    "deletable": false,
    "editable": false
   },
   "source": [
    "\n",
    "## Question 3a\n",
    "\n",
    "Recall the `inducted_hof_ca` view created in `Question 2`. Run `EXPLAIN ANALYZE` for a query that that gets all rows from the view, and record the execution time and cost."
   ]
  },
  {
   "cell_type": "code",
   "execution_count": 48,
   "metadata": {
    "tags": [
     "otter_answer_cell"
    ]
   },
   "outputs": [
    {
     "name": "stderr",
     "output_type": "stream",
     "text": [
      "'EXPLAIN ANALYZE SELECT * FROM inducted_hof_ca\n",
      "' contains unsupported syntax. Falling back to parsing as a 'Command'.\n"
     ]
    },
    {
     "data": {
      "text/html": [
       "<span style=\"None\">Running query in &#x27;postgresql://jovyan@127.0.0.1:5432/baseball&#x27;</span>"
      ],
      "text/plain": [
       "Running query in 'postgresql://jovyan@127.0.0.1:5432/baseball'"
      ]
     },
     "metadata": {},
     "output_type": "display_data"
    },
    {
     "data": {
      "text/html": [
       "<span style=\"color: green\">24 rows affected.</span>"
      ],
      "text/plain": [
       "24 rows affected."
      ]
     },
     "metadata": {},
     "output_type": "display_data"
    },
    {
     "data": {
      "text/html": [
       "<table>\n",
       "    <thead>\n",
       "        <tr>\n",
       "            <th>QUERY PLAN</th>\n",
       "        </tr>\n",
       "    </thead>\n",
       "    <tbody>\n",
       "        <tr>\n",
       "            <td>Sort  (cost=528.21..528.30 rows=33 width=33) (actual time=4.400..4.404 rows=23 loops=1)</td>\n",
       "        </tr>\n",
       "        <tr>\n",
       "            <td>&nbsp;&nbsp;Sort Key: h.year_id, p.player_id</td>\n",
       "        </tr>\n",
       "        <tr>\n",
       "            <td>&nbsp;&nbsp;Sort Method: quicksort  Memory: 26kB</td>\n",
       "        </tr>\n",
       "        <tr>\n",
       "            <td>&nbsp;&nbsp;->  Nested Loop  (cost=386.71..527.38 rows=33 width=33) (actual time=4.029..4.390 rows=23 loops=1)</td>\n",
       "        </tr>\n",
       "        <tr>\n",
       "            <td>&nbsp;&nbsp;&nbsp;&nbsp;&nbsp;&nbsp;&nbsp;&nbsp;Join Filter: ((h.player_id)::text = (p.player_id)::text)</td>\n",
       "        </tr>\n",
       "        <tr>\n",
       "            <td>&nbsp;&nbsp;&nbsp;&nbsp;&nbsp;&nbsp;&nbsp;&nbsp;->  Hash Join  (cost=386.42..485.79 rows=96 width=30) (actual time=4.010..4.286 rows=23 loops=1)</td>\n",
       "        </tr>\n",
       "        <tr>\n",
       "            <td>&nbsp;&nbsp;&nbsp;&nbsp;&nbsp;&nbsp;&nbsp;&nbsp;&nbsp;&nbsp;&nbsp;&nbsp;&nbsp;&nbsp;Hash Cond: ((h.player_id)::text = (cp.player_id)::text)</td>\n",
       "        </tr>\n",
       "        <tr>\n",
       "            <td>&nbsp;&nbsp;&nbsp;&nbsp;&nbsp;&nbsp;&nbsp;&nbsp;&nbsp;&nbsp;&nbsp;&nbsp;&nbsp;&nbsp;->  Seq Scan on hall_of_fame h  (cost=0.00..96.39 rows=323 width=13) (actual time=0.009..0.449 rows=323 loops=1)</td>\n",
       "        </tr>\n",
       "        <tr>\n",
       "            <td>&nbsp;&nbsp;&nbsp;&nbsp;&nbsp;&nbsp;&nbsp;&nbsp;&nbsp;&nbsp;&nbsp;&nbsp;&nbsp;&nbsp;&nbsp;&nbsp;&nbsp;&nbsp;&nbsp;&nbsp;Filter: ((inducted)::text = 'Y'::text)</td>\n",
       "        </tr>\n",
       "        <tr>\n",
       "            <td>&nbsp;&nbsp;&nbsp;&nbsp;&nbsp;&nbsp;&nbsp;&nbsp;&nbsp;&nbsp;&nbsp;&nbsp;&nbsp;&nbsp;&nbsp;&nbsp;&nbsp;&nbsp;&nbsp;&nbsp;Rows Removed by Filter: 3868</td>\n",
       "        </tr>\n",
       "        <tr>\n",
       "            <td>&nbsp;&nbsp;&nbsp;&nbsp;&nbsp;&nbsp;&nbsp;&nbsp;&nbsp;&nbsp;&nbsp;&nbsp;&nbsp;&nbsp;->  Hash  (cost=361.99..361.99 rows=1955 width=17) (actual time=3.798..3.800 rows=2948 loops=1)</td>\n",
       "        </tr>\n",
       "        <tr>\n",
       "            <td>&nbsp;&nbsp;&nbsp;&nbsp;&nbsp;&nbsp;&nbsp;&nbsp;&nbsp;&nbsp;&nbsp;&nbsp;&nbsp;&nbsp;&nbsp;&nbsp;&nbsp;&nbsp;&nbsp;&nbsp;Buckets: 4096 (originally 2048)  Batches: 1 (originally 1)  Memory Usage: 178kB</td>\n",
       "        </tr>\n",
       "        <tr>\n",
       "            <td>&nbsp;&nbsp;&nbsp;&nbsp;&nbsp;&nbsp;&nbsp;&nbsp;&nbsp;&nbsp;&nbsp;&nbsp;&nbsp;&nbsp;&nbsp;&nbsp;&nbsp;&nbsp;&nbsp;&nbsp;->  Hash Join  (cost=29.79..361.99 rows=1955 width=17) (actual time=0.161..3.155 rows=2948 loops=1)</td>\n",
       "        </tr>\n",
       "        <tr>\n",
       "            <td>&nbsp;&nbsp;&nbsp;&nbsp;&nbsp;&nbsp;&nbsp;&nbsp;&nbsp;&nbsp;&nbsp;&nbsp;&nbsp;&nbsp;&nbsp;&nbsp;&nbsp;&nbsp;&nbsp;&nbsp;&nbsp;&nbsp;&nbsp;&nbsp;&nbsp;&nbsp;Hash Cond: ((cp.school_id)::text = (s.school_id)::text)</td>\n",
       "        </tr>\n",
       "        <tr>\n",
       "            <td>&nbsp;&nbsp;&nbsp;&nbsp;&nbsp;&nbsp;&nbsp;&nbsp;&nbsp;&nbsp;&nbsp;&nbsp;&nbsp;&nbsp;&nbsp;&nbsp;&nbsp;&nbsp;&nbsp;&nbsp;&nbsp;&nbsp;&nbsp;&nbsp;&nbsp;&nbsp;->  Seq Scan on college_playing cp  (cost=0.00..286.50 rows=17350 width=17) (actual time=0.003..0.975 rows=17350 loops=1)</td>\n",
       "        </tr>\n",
       "        <tr>\n",
       "            <td>&nbsp;&nbsp;&nbsp;&nbsp;&nbsp;&nbsp;&nbsp;&nbsp;&nbsp;&nbsp;&nbsp;&nbsp;&nbsp;&nbsp;&nbsp;&nbsp;&nbsp;&nbsp;&nbsp;&nbsp;&nbsp;&nbsp;&nbsp;&nbsp;&nbsp;&nbsp;->  Hash  (cost=28.09..28.09 rows=136 width=8) (actual time=0.151..0.152 rows=136 loops=1)</td>\n",
       "        </tr>\n",
       "        <tr>\n",
       "            <td>&nbsp;&nbsp;&nbsp;&nbsp;&nbsp;&nbsp;&nbsp;&nbsp;&nbsp;&nbsp;&nbsp;&nbsp;&nbsp;&nbsp;&nbsp;&nbsp;&nbsp;&nbsp;&nbsp;&nbsp;&nbsp;&nbsp;&nbsp;&nbsp;&nbsp;&nbsp;&nbsp;&nbsp;&nbsp;&nbsp;&nbsp;&nbsp;Buckets: 1024  Batches: 1  Memory Usage: 14kB</td>\n",
       "        </tr>\n",
       "        <tr>\n",
       "            <td>&nbsp;&nbsp;&nbsp;&nbsp;&nbsp;&nbsp;&nbsp;&nbsp;&nbsp;&nbsp;&nbsp;&nbsp;&nbsp;&nbsp;&nbsp;&nbsp;&nbsp;&nbsp;&nbsp;&nbsp;&nbsp;&nbsp;&nbsp;&nbsp;&nbsp;&nbsp;&nbsp;&nbsp;&nbsp;&nbsp;&nbsp;&nbsp;->  Seq Scan on schools s  (cost=0.00..28.09 rows=136 width=8) (actual time=0.010..0.129 rows=136 loops=1)</td>\n",
       "        </tr>\n",
       "        <tr>\n",
       "            <td>&nbsp;&nbsp;&nbsp;&nbsp;&nbsp;&nbsp;&nbsp;&nbsp;&nbsp;&nbsp;&nbsp;&nbsp;&nbsp;&nbsp;&nbsp;&nbsp;&nbsp;&nbsp;&nbsp;&nbsp;&nbsp;&nbsp;&nbsp;&nbsp;&nbsp;&nbsp;&nbsp;&nbsp;&nbsp;&nbsp;&nbsp;&nbsp;&nbsp;&nbsp;&nbsp;&nbsp;&nbsp;&nbsp;Filter: ((school_state)::text = 'CA'::text)</td>\n",
       "        </tr>\n",
       "        <tr>\n",
       "            <td>&nbsp;&nbsp;&nbsp;&nbsp;&nbsp;&nbsp;&nbsp;&nbsp;&nbsp;&nbsp;&nbsp;&nbsp;&nbsp;&nbsp;&nbsp;&nbsp;&nbsp;&nbsp;&nbsp;&nbsp;&nbsp;&nbsp;&nbsp;&nbsp;&nbsp;&nbsp;&nbsp;&nbsp;&nbsp;&nbsp;&nbsp;&nbsp;&nbsp;&nbsp;&nbsp;&nbsp;&nbsp;&nbsp;Rows Removed by Filter: 1071</td>\n",
       "        </tr>\n",
       "        <tr>\n",
       "            <td>&nbsp;&nbsp;&nbsp;&nbsp;&nbsp;&nbsp;&nbsp;&nbsp;->  Index Scan using master_pkey on people p  (cost=0.29..0.42 rows=1 width=21) (actual time=0.004..0.004 rows=1 loops=23)</td>\n",
       "        </tr>\n",
       "        <tr>\n",
       "            <td>&nbsp;&nbsp;&nbsp;&nbsp;&nbsp;&nbsp;&nbsp;&nbsp;&nbsp;&nbsp;&nbsp;&nbsp;&nbsp;&nbsp;Index Cond: ((player_id)::text = (cp.player_id)::text)</td>\n",
       "        </tr>\n",
       "        <tr>\n",
       "            <td>Planning Time: 1.604 ms</td>\n",
       "        </tr>\n",
       "        <tr>\n",
       "            <td>Execution Time: 4.445 ms</td>\n",
       "        </tr>\n",
       "    </tbody>\n",
       "</table>"
      ],
      "text/plain": [
       "+-----------------------------------------------------------------------------------------------------------------------------------------------------+\n",
       "|                                                                      QUERY PLAN                                                                     |\n",
       "+-----------------------------------------------------------------------------------------------------------------------------------------------------+\n",
       "|                               Sort  (cost=528.21..528.30 rows=33 width=33) (actual time=4.400..4.404 rows=23 loops=1)                               |\n",
       "|                                                            Sort Key: h.year_id, p.player_id                                                         |\n",
       "|                                                          Sort Method: quicksort  Memory: 26kB                                                       |\n",
       "|                           ->  Nested Loop  (cost=386.71..527.38 rows=33 width=33) (actual time=4.029..4.390 rows=23 loops=1)                        |\n",
       "|                                                   Join Filter: ((h.player_id)::text = (p.player_id)::text)                                          |\n",
       "|                               ->  Hash Join  (cost=386.42..485.79 rows=96 width=30) (actual time=4.010..4.286 rows=23 loops=1)                      |\n",
       "|                                                      Hash Cond: ((h.player_id)::text = (cp.player_id)::text)                                        |\n",
       "|                          ->  Seq Scan on hall_of_fame h  (cost=0.00..96.39 rows=323 width=13) (actual time=0.009..0.449 rows=323 loops=1)           |\n",
       "|                                                                  Filter: ((inducted)::text = 'Y'::text)                                             |\n",
       "|                                                                       Rows Removed by Filter: 3868                                                  |\n",
       "|                                  ->  Hash  (cost=361.99..361.99 rows=1955 width=17) (actual time=3.798..3.800 rows=2948 loops=1)                    |\n",
       "|                                             Buckets: 4096 (originally 2048)  Batches: 1 (originally 1)  Memory Usage: 178kB                         |\n",
       "|                                   ->  Hash Join  (cost=29.79..361.99 rows=1955 width=17) (actual time=0.161..3.155 rows=2948 loops=1)               |\n",
       "|                                                            Hash Cond: ((cp.school_id)::text = (s.school_id)::text)                                  |\n",
       "|                           ->  Seq Scan on college_playing cp  (cost=0.00..286.50 rows=17350 width=17) (actual time=0.003..0.975 rows=17350 loops=1) |\n",
       "|                                           ->  Hash  (cost=28.09..28.09 rows=136 width=8) (actual time=0.151..0.152 rows=136 loops=1)                |\n",
       "|                                                                    Buckets: 1024  Batches: 1  Memory Usage: 14kB                                    |\n",
       "|                                      ->  Seq Scan on schools s  (cost=0.00..28.09 rows=136 width=8) (actual time=0.010..0.129 rows=136 loops=1)     |\n",
       "|                                                                        Filter: ((school_state)::text = 'CA'::text)                                  |\n",
       "|                                                                                Rows Removed by Filter: 1071                                         |\n",
       "|                  ->  Index Scan using master_pkey on people p  (cost=0.29..0.42 rows=1 width=21) (actual time=0.004..0.004 rows=1 loops=23)         |\n",
       "|                                                       Index Cond: ((player_id)::text = (cp.player_id)::text)                                        |\n",
       "|                                                               Planning Time: 1.604 ms                                                               |\n",
       "|                                                               Execution Time: 4.445 ms                                                              |\n",
       "+-----------------------------------------------------------------------------------------------------------------------------------------------------+"
      ]
     },
     "execution_count": 48,
     "metadata": {},
     "output_type": "execute_result"
    }
   ],
   "source": [
    "%%sql\n",
    "EXPLAIN ANALYZE SELECT * FROM inducted_hof_ca\n",
    ";"
   ]
  },
  {
   "cell_type": "code",
   "execution_count": 49,
   "metadata": {
    "tags": [
     "otter_answer_cell"
    ]
   },
   "outputs": [],
   "source": [
    "query_view_cost = 528.30\n",
    "query_view_timing = 4.640"
   ]
  },
  {
   "cell_type": "code",
   "execution_count": 50,
   "metadata": {
    "deletable": false,
    "editable": false
   },
   "outputs": [
    {
     "data": {
      "text/html": [
       "<p><strong><pre style='display: inline;'>q3a</pre></strong> passed! 🎉</p>"
      ],
      "text/plain": [
       "q3a results: All test cases passed!"
      ]
     },
     "execution_count": 50,
     "metadata": {},
     "output_type": "execute_result"
    }
   ],
   "source": [
    "grader.check(\"q3a\")"
   ]
  },
  {
   "cell_type": "markdown",
   "metadata": {
    "deletable": false,
    "editable": false
   },
   "source": [
    "<br><br>\n",
    "\n",
    "---\n",
    "\n",
    "## Question 3b\n",
    "\n",
    "Now, run `EXPLAIN ANALYZE` on the same query as 3a, except now add a filter to only return rows from `inducted_hof_ca` where the year is after 2010. Inspect the query plan and record the execution time and cost."
   ]
  },
  {
   "cell_type": "code",
   "execution_count": 51,
   "metadata": {
    "tags": [
     "otter_answer_cell"
    ]
   },
   "outputs": [
    {
     "name": "stderr",
     "output_type": "stream",
     "text": [
      "'EXPLAIN ANALYZE \n",
      "SELECT * FROM inducted_hof_ca\n",
      "WHERE year_id > 2010\n",
      "' contains unsupported syntax. Falling back to parsing as a 'Command'.\n"
     ]
    },
    {
     "data": {
      "text/html": [
       "<span style=\"None\">Running query in &#x27;postgresql://jovyan@127.0.0.1:5432/baseball&#x27;</span>"
      ],
      "text/plain": [
       "Running query in 'postgresql://jovyan@127.0.0.1:5432/baseball'"
      ]
     },
     "metadata": {},
     "output_type": "display_data"
    },
    {
     "data": {
      "text/html": [
       "<span style=\"color: green\">21 rows affected.</span>"
      ],
      "text/plain": [
       "21 rows affected."
      ]
     },
     "metadata": {},
     "output_type": "display_data"
    },
    {
     "data": {
      "text/html": [
       "<table>\n",
       "    <thead>\n",
       "        <tr>\n",
       "            <th>QUERY PLAN</th>\n",
       "        </tr>\n",
       "    </thead>\n",
       "    <tbody>\n",
       "        <tr>\n",
       "            <td>Sort  (cost=209.85..209.85 rows=2 width=33) (actual time=0.654..0.655 rows=8 loops=1)</td>\n",
       "        </tr>\n",
       "        <tr>\n",
       "            <td>&nbsp;&nbsp;Sort Key: h.year_id, p.player_id</td>\n",
       "        </tr>\n",
       "        <tr>\n",
       "            <td>&nbsp;&nbsp;Sort Method: quicksort  Memory: 25kB</td>\n",
       "        </tr>\n",
       "        <tr>\n",
       "            <td>&nbsp;&nbsp;->  Nested Loop  (cost=0.85..209.84 rows=2 width=33) (actual time=0.374..0.629 rows=8 loops=1)</td>\n",
       "        </tr>\n",
       "        <tr>\n",
       "            <td>&nbsp;&nbsp;&nbsp;&nbsp;&nbsp;&nbsp;&nbsp;&nbsp;Join Filter: ((h.player_id)::text = (p.player_id)::text)</td>\n",
       "        </tr>\n",
       "        <tr>\n",
       "            <td>&nbsp;&nbsp;&nbsp;&nbsp;&nbsp;&nbsp;&nbsp;&nbsp;->  Nested Loop  (cost=0.56..207.24 rows=6 width=30) (actual time=0.366..0.596 rows=8 loops=1)</td>\n",
       "        </tr>\n",
       "        <tr>\n",
       "            <td>&nbsp;&nbsp;&nbsp;&nbsp;&nbsp;&nbsp;&nbsp;&nbsp;&nbsp;&nbsp;&nbsp;&nbsp;&nbsp;&nbsp;->  Nested Loop  (cost=0.29..190.63 rows=55 width=30) (actual time=0.359..0.502 rows=27 loops=1)</td>\n",
       "        </tr>\n",
       "        <tr>\n",
       "            <td>&nbsp;&nbsp;&nbsp;&nbsp;&nbsp;&nbsp;&nbsp;&nbsp;&nbsp;&nbsp;&nbsp;&nbsp;&nbsp;&nbsp;&nbsp;&nbsp;&nbsp;&nbsp;&nbsp;&nbsp;->  Seq Scan on hall_of_fame h  (cost=0.00..106.86 rows=21 width=13) (actual time=0.336..0.369 rows=31 loops=1)</td>\n",
       "        </tr>\n",
       "        <tr>\n",
       "            <td>&nbsp;&nbsp;&nbsp;&nbsp;&nbsp;&nbsp;&nbsp;&nbsp;&nbsp;&nbsp;&nbsp;&nbsp;&nbsp;&nbsp;&nbsp;&nbsp;&nbsp;&nbsp;&nbsp;&nbsp;&nbsp;&nbsp;&nbsp;&nbsp;&nbsp;&nbsp;Filter: ((year_id > 2010) AND ((inducted)::text = 'Y'::text))</td>\n",
       "        </tr>\n",
       "        <tr>\n",
       "            <td>&nbsp;&nbsp;&nbsp;&nbsp;&nbsp;&nbsp;&nbsp;&nbsp;&nbsp;&nbsp;&nbsp;&nbsp;&nbsp;&nbsp;&nbsp;&nbsp;&nbsp;&nbsp;&nbsp;&nbsp;&nbsp;&nbsp;&nbsp;&nbsp;&nbsp;&nbsp;Rows Removed by Filter: 4160</td>\n",
       "        </tr>\n",
       "        <tr>\n",
       "            <td>&nbsp;&nbsp;&nbsp;&nbsp;&nbsp;&nbsp;&nbsp;&nbsp;&nbsp;&nbsp;&nbsp;&nbsp;&nbsp;&nbsp;&nbsp;&nbsp;&nbsp;&nbsp;&nbsp;&nbsp;->  Index Only Scan using college_playing_pkey on college_playing cp  (cost=0.29..3.96 rows=3 width=17) (actual time=0.004..0.004 rows=1 loops=31)</td>\n",
       "        </tr>\n",
       "        <tr>\n",
       "            <td>&nbsp;&nbsp;&nbsp;&nbsp;&nbsp;&nbsp;&nbsp;&nbsp;&nbsp;&nbsp;&nbsp;&nbsp;&nbsp;&nbsp;&nbsp;&nbsp;&nbsp;&nbsp;&nbsp;&nbsp;&nbsp;&nbsp;&nbsp;&nbsp;&nbsp;&nbsp;Index Cond: (player_id = (h.player_id)::text)</td>\n",
       "        </tr>\n",
       "        <tr>\n",
       "            <td>&nbsp;&nbsp;&nbsp;&nbsp;&nbsp;&nbsp;&nbsp;&nbsp;&nbsp;&nbsp;&nbsp;&nbsp;&nbsp;&nbsp;&nbsp;&nbsp;&nbsp;&nbsp;&nbsp;&nbsp;&nbsp;&nbsp;&nbsp;&nbsp;&nbsp;&nbsp;Heap Fetches: 0</td>\n",
       "        </tr>\n",
       "        <tr>\n",
       "            <td>&nbsp;&nbsp;&nbsp;&nbsp;&nbsp;&nbsp;&nbsp;&nbsp;&nbsp;&nbsp;&nbsp;&nbsp;&nbsp;&nbsp;->  Index Scan using schools_pkey on schools s  (cost=0.28..0.30 rows=1 width=8) (actual time=0.003..0.003 rows=0 loops=27)</td>\n",
       "        </tr>\n",
       "        <tr>\n",
       "            <td>&nbsp;&nbsp;&nbsp;&nbsp;&nbsp;&nbsp;&nbsp;&nbsp;&nbsp;&nbsp;&nbsp;&nbsp;&nbsp;&nbsp;&nbsp;&nbsp;&nbsp;&nbsp;&nbsp;&nbsp;Index Cond: ((school_id)::text = (cp.school_id)::text)</td>\n",
       "        </tr>\n",
       "        <tr>\n",
       "            <td>&nbsp;&nbsp;&nbsp;&nbsp;&nbsp;&nbsp;&nbsp;&nbsp;&nbsp;&nbsp;&nbsp;&nbsp;&nbsp;&nbsp;&nbsp;&nbsp;&nbsp;&nbsp;&nbsp;&nbsp;Filter: ((school_state)::text = 'CA'::text)</td>\n",
       "        </tr>\n",
       "        <tr>\n",
       "            <td>&nbsp;&nbsp;&nbsp;&nbsp;&nbsp;&nbsp;&nbsp;&nbsp;&nbsp;&nbsp;&nbsp;&nbsp;&nbsp;&nbsp;&nbsp;&nbsp;&nbsp;&nbsp;&nbsp;&nbsp;Rows Removed by Filter: 1</td>\n",
       "        </tr>\n",
       "        <tr>\n",
       "            <td>&nbsp;&nbsp;&nbsp;&nbsp;&nbsp;&nbsp;&nbsp;&nbsp;->  Index Scan using master_pkey on people p  (cost=0.29..0.42 rows=1 width=21) (actual time=0.003..0.003 rows=1 loops=8)</td>\n",
       "        </tr>\n",
       "        <tr>\n",
       "            <td>&nbsp;&nbsp;&nbsp;&nbsp;&nbsp;&nbsp;&nbsp;&nbsp;&nbsp;&nbsp;&nbsp;&nbsp;&nbsp;&nbsp;Index Cond: ((player_id)::text = (cp.player_id)::text)</td>\n",
       "        </tr>\n",
       "        <tr>\n",
       "            <td>Planning Time: 1.416 ms</td>\n",
       "        </tr>\n",
       "        <tr>\n",
       "            <td>Execution Time: 0.689 ms</td>\n",
       "        </tr>\n",
       "    </tbody>\n",
       "</table>"
      ],
      "text/plain": [
       "+------------------------------------------------------------------------------------------------------------------------------------------------------------------------+\n",
       "|                                                                               QUERY PLAN                                                                               |\n",
       "+------------------------------------------------------------------------------------------------------------------------------------------------------------------------+\n",
       "|                                         Sort  (cost=209.85..209.85 rows=2 width=33) (actual time=0.654..0.655 rows=8 loops=1)                                          |\n",
       "|                                                                     Sort Key: h.year_id, p.player_id                                                                   |\n",
       "|                                                                   Sort Method: quicksort  Memory: 25kB                                                                 |\n",
       "|                                      ->  Nested Loop  (cost=0.85..209.84 rows=2 width=33) (actual time=0.374..0.629 rows=8 loops=1)                                    |\n",
       "|                                                            Join Filter: ((h.player_id)::text = (p.player_id)::text)                                                    |\n",
       "|                                         ->  Nested Loop  (cost=0.56..207.24 rows=6 width=30) (actual time=0.366..0.596 rows=8 loops=1)                                 |\n",
       "|                                           ->  Nested Loop  (cost=0.29..190.63 rows=55 width=30) (actual time=0.359..0.502 rows=27 loops=1)                             |\n",
       "|                                      ->  Seq Scan on hall_of_fame h  (cost=0.00..106.86 rows=21 width=13) (actual time=0.336..0.369 rows=31 loops=1)                   |\n",
       "|                                                                  Filter: ((year_id > 2010) AND ((inducted)::text = 'Y'::text))                                         |\n",
       "|                                                                                   Rows Removed by Filter: 4160                                                         |\n",
       "|                     ->  Index Only Scan using college_playing_pkey on college_playing cp  (cost=0.29..3.96 rows=3 width=17) (actual time=0.004..0.004 rows=1 loops=31) |\n",
       "|                                                                          Index Cond: (player_id = (h.player_id)::text)                                                 |\n",
       "|                                                                                         Heap Fetches: 0                                                                |\n",
       "|                             ->  Index Scan using schools_pkey on schools s  (cost=0.28..0.30 rows=1 width=8) (actual time=0.003..0.003 rows=0 loops=27)                |\n",
       "|                                                                   Index Cond: ((school_id)::text = (cp.school_id)::text)                                               |\n",
       "|                                                                        Filter: ((school_state)::text = 'CA'::text)                                                     |\n",
       "|                                                                                 Rows Removed by Filter: 1                                                              |\n",
       "|                           ->  Index Scan using master_pkey on people p  (cost=0.29..0.42 rows=1 width=21) (actual time=0.003..0.003 rows=1 loops=8)                    |\n",
       "|                                                                Index Cond: ((player_id)::text = (cp.player_id)::text)                                                  |\n",
       "|                                                                        Planning Time: 1.416 ms                                                                         |\n",
       "|                                                                        Execution Time: 0.689 ms                                                                        |\n",
       "+------------------------------------------------------------------------------------------------------------------------------------------------------------------------+"
      ]
     },
     "execution_count": 51,
     "metadata": {},
     "output_type": "execute_result"
    }
   ],
   "source": [
    "%%sql\n",
    "EXPLAIN ANALYZE \n",
    "SELECT * FROM inducted_hof_ca\n",
    "WHERE year_id > 2010\n",
    ";"
   ]
  },
  {
   "cell_type": "code",
   "execution_count": 52,
   "metadata": {
    "tags": [
     "otter_answer_cell"
    ]
   },
   "outputs": [],
   "source": [
    "query_view_with_filter_cost = 209.85\n",
    "query_view_with_filter_timing = 0.802"
   ]
  },
  {
   "cell_type": "code",
   "execution_count": 53,
   "metadata": {
    "deletable": false,
    "editable": false
   },
   "outputs": [
    {
     "data": {
      "text/html": [
       "<p><strong><pre style='display: inline;'>q3b</pre></strong> passed! 🌈</p>"
      ],
      "text/plain": [
       "q3b results: All test cases passed!"
      ]
     },
     "execution_count": 53,
     "metadata": {},
     "output_type": "execute_result"
    }
   ],
   "source": [
    "grader.check(\"q3b\")"
   ]
  },
  {
   "cell_type": "markdown",
   "metadata": {
    "deletable": false,
    "editable": false
   },
   "source": [
    "<!-- BEGIN QUESTION -->\n",
    "\n",
    "## Question 3c\n",
    "\n",
    "Given your findings from inspecting the query plans of queries from Questions 3a and 3b, fill in the blank and **justify your answer**. Explain your answer based on your understanding both of the **theoretical aspects of query planning and optimization discussed in class**, as well as EXPLAIN ANALYZE results. Your response should be no longer than 3 sentences.\n",
    "\n",
    "**Note:** Your answer should be formatted as follows if you think option A is true: `(A) because ...`\n",
    "\n",
    "**Adding a filter ___ the cost.**\n",
    "<br>\n",
    "A. increased\n",
    "<br>\n",
    "B. decreased\n",
    "<br>\n",
    "C. did not change"
   ]
  },
  {
   "cell_type": "markdown",
   "metadata": {
    "tags": [
     "otter_answer_cell"
    ]
   },
   "source": [
    "(B) because it reduced the number of rows being processed. Without a filter the cost was 528.30 with a filter we saw cost reduce to 209.85."
   ]
  },
  {
   "cell_type": "markdown",
   "metadata": {
    "deletable": false,
    "editable": false
   },
   "source": [
    "<!-- END QUESTION -->\n",
    "\n",
    "<!-- BEGIN QUESTION -->\n",
    "\n",
    "<br><br>\n",
    "\n",
    "---\n",
    "\n",
    "## Question 3d\n",
    "\n",
    "Given your findings from inspecting the query plans of queries from Questions 3a and 3b, fill in the blank and **justify your answer**. Explain your answer based on your understanding both of the **theoretical aspects of query planning and optimization discussed in class**, as well as EXPLAIN ANALYZE results. Your response should be no longer than 3 sentences.\n",
    "\n",
    "**Note:** Your answer should be formatted as follows if you think option A is true: `(A) because ...`\n",
    "\n",
    "**Adding a filter ___ the execution time.**\n",
    "<br>\n",
    "A. increased\n",
    "<br>\n",
    "B. decreased\n",
    "<br>\n",
    "C. did not change"
   ]
  },
  {
   "cell_type": "markdown",
   "metadata": {
    "tags": [
     "otter_answer_cell"
    ]
   },
   "source": [
    "(B) because without filter, the time was 4.640 while with a filter the time was reduced to 0.802. "
   ]
  },
  {
   "cell_type": "markdown",
   "metadata": {
    "deletable": false,
    "editable": false
   },
   "source": [
    "<!-- END QUESTION -->\n",
    "\n",
    "<br><br>\n",
    "\n",
    "<hr style=\"border: 5px solid #003262;\" />\n",
    "<hr style=\"border: 1px solid #fdb515;\" />\n",
    "\n",
    "# Question 4: Join Approaches\n",
    "\n",
    "In this question, we'll explore different join approaches (Nested Loop Join, Merge Join, Hash Join) and discuss how the query optimizer picks the best approach."
   ]
  },
  {
   "cell_type": "markdown",
   "metadata": {
    "deletable": false,
    "editable": false
   },
   "source": [
    "<br/><br/>\n",
    "\n",
    "---\n",
    "\n",
    "## Question 4a\n",
    "Perform an inner join on the `people` and `college_playing` tables on the `player_id` column. Select all columns. (No need to run `EXPLAIN ANALYZE` here, we do it for you below.)"
   ]
  },
  {
   "cell_type": "code",
   "execution_count": 54,
   "metadata": {
    "tags": [
     "otter_answer_cell"
    ]
   },
   "outputs": [
    {
     "data": {
      "text/html": [
       "<span style=\"None\">Running query in &#x27;postgresql://jovyan@127.0.0.1:5432/baseball&#x27;</span>"
      ],
      "text/plain": [
       "Running query in 'postgresql://jovyan@127.0.0.1:5432/baseball'"
      ]
     },
     "metadata": {},
     "output_type": "display_data"
    },
    {
     "data": {
      "text/html": [
       "<span style=\"color: green\">17350 rows affected.</span>"
      ],
      "text/plain": [
       "17350 rows affected."
      ]
     },
     "metadata": {},
     "output_type": "display_data"
    }
   ],
   "source": [
    "%%sql --save query_4a result_4a <<\n",
    "SELECT * \n",
    "FROM people AS p\n",
    "INNER JOIN college_playing AS cp\n",
    "ON p.player_id = cp.player_id\n",
    ";"
   ]
  },
  {
   "cell_type": "code",
   "execution_count": 55,
   "metadata": {
    "tags": [
     "otter_answer_cell"
    ]
   },
   "outputs": [
    {
     "data": {
      "text/html": [
       "<div>\n",
       "<style scoped>\n",
       "    .dataframe tbody tr th:only-of-type {\n",
       "        vertical-align: middle;\n",
       "    }\n",
       "\n",
       "    .dataframe tbody tr th {\n",
       "        vertical-align: top;\n",
       "    }\n",
       "\n",
       "    .dataframe thead th {\n",
       "        text-align: right;\n",
       "    }\n",
       "</style>\n",
       "<table border=\"1\" class=\"dataframe\">\n",
       "  <thead>\n",
       "    <tr style=\"text-align: right;\">\n",
       "      <th></th>\n",
       "      <th>player_id</th>\n",
       "      <th>birth_year</th>\n",
       "      <th>birth_month</th>\n",
       "      <th>birthday</th>\n",
       "      <th>birth_country</th>\n",
       "      <th>birth_state</th>\n",
       "      <th>birth_city</th>\n",
       "      <th>death_year</th>\n",
       "      <th>death_month</th>\n",
       "      <th>death_day</th>\n",
       "      <th>...</th>\n",
       "      <th>height</th>\n",
       "      <th>bats</th>\n",
       "      <th>throws</th>\n",
       "      <th>debut</th>\n",
       "      <th>final_game</th>\n",
       "      <th>retro_id</th>\n",
       "      <th>bbref_id</th>\n",
       "      <th>player_id</th>\n",
       "      <th>school_id</th>\n",
       "      <th>year_id</th>\n",
       "    </tr>\n",
       "  </thead>\n",
       "  <tbody>\n",
       "    <tr>\n",
       "      <th>0</th>\n",
       "      <td>aardsda01</td>\n",
       "      <td>1981</td>\n",
       "      <td>12.0</td>\n",
       "      <td>27.0</td>\n",
       "      <td>USA</td>\n",
       "      <td>CO</td>\n",
       "      <td>Denver</td>\n",
       "      <td>NaN</td>\n",
       "      <td>NaN</td>\n",
       "      <td>NaN</td>\n",
       "      <td>...</td>\n",
       "      <td>75.0</td>\n",
       "      <td>R</td>\n",
       "      <td>R</td>\n",
       "      <td>2004-04-06</td>\n",
       "      <td>2015-08-23</td>\n",
       "      <td>aardd001</td>\n",
       "      <td>aardsda01</td>\n",
       "      <td>aardsda01</td>\n",
       "      <td>pennst</td>\n",
       "      <td>2001</td>\n",
       "    </tr>\n",
       "    <tr>\n",
       "      <th>1</th>\n",
       "      <td>aardsda01</td>\n",
       "      <td>1981</td>\n",
       "      <td>12.0</td>\n",
       "      <td>27.0</td>\n",
       "      <td>USA</td>\n",
       "      <td>CO</td>\n",
       "      <td>Denver</td>\n",
       "      <td>NaN</td>\n",
       "      <td>NaN</td>\n",
       "      <td>NaN</td>\n",
       "      <td>...</td>\n",
       "      <td>75.0</td>\n",
       "      <td>R</td>\n",
       "      <td>R</td>\n",
       "      <td>2004-04-06</td>\n",
       "      <td>2015-08-23</td>\n",
       "      <td>aardd001</td>\n",
       "      <td>aardsda01</td>\n",
       "      <td>aardsda01</td>\n",
       "      <td>rice</td>\n",
       "      <td>2002</td>\n",
       "    </tr>\n",
       "    <tr>\n",
       "      <th>2</th>\n",
       "      <td>aardsda01</td>\n",
       "      <td>1981</td>\n",
       "      <td>12.0</td>\n",
       "      <td>27.0</td>\n",
       "      <td>USA</td>\n",
       "      <td>CO</td>\n",
       "      <td>Denver</td>\n",
       "      <td>NaN</td>\n",
       "      <td>NaN</td>\n",
       "      <td>NaN</td>\n",
       "      <td>...</td>\n",
       "      <td>75.0</td>\n",
       "      <td>R</td>\n",
       "      <td>R</td>\n",
       "      <td>2004-04-06</td>\n",
       "      <td>2015-08-23</td>\n",
       "      <td>aardd001</td>\n",
       "      <td>aardsda01</td>\n",
       "      <td>aardsda01</td>\n",
       "      <td>rice</td>\n",
       "      <td>2003</td>\n",
       "    </tr>\n",
       "  </tbody>\n",
       "</table>\n",
       "<p>3 rows × 27 columns</p>\n",
       "</div>"
      ],
      "text/plain": [
       "   player_id  birth_year  birth_month  birthday birth_country birth_state  \\\n",
       "0  aardsda01        1981         12.0      27.0           USA          CO   \n",
       "1  aardsda01        1981         12.0      27.0           USA          CO   \n",
       "2  aardsda01        1981         12.0      27.0           USA          CO   \n",
       "\n",
       "  birth_city  death_year  death_month  death_day  ... height bats throws  \\\n",
       "0     Denver         NaN          NaN        NaN  ...   75.0    R      R   \n",
       "1     Denver         NaN          NaN        NaN  ...   75.0    R      R   \n",
       "2     Denver         NaN          NaN        NaN  ...   75.0    R      R   \n",
       "\n",
       "        debut  final_game  retro_id   bbref_id  player_id school_id year_id  \n",
       "0  2004-04-06  2015-08-23  aardd001  aardsda01  aardsda01    pennst    2001  \n",
       "1  2004-04-06  2015-08-23  aardd001  aardsda01  aardsda01      rice    2002  \n",
       "2  2004-04-06  2015-08-23  aardd001  aardsda01  aardsda01      rice    2003  \n",
       "\n",
       "[3 rows x 27 columns]"
      ]
     },
     "metadata": {},
     "output_type": "display_data"
    },
    {
     "name": "stdout",
     "output_type": "stream",
     "text": [
      "                                                         QUERY PLAN                                                          \n",
      "-----------------------------------------------------------------------------------------------------------------------------\n",
      " Hash Join  (cost=861.83..1193.88 rows=17350 width=167) (actual time=7.186..15.896 rows=17350 loops=1)\n",
      "   Hash Cond: ((cp.player_id)::text = (p.player_id)::text)\n",
      "   ->  Seq Scan on college_playing cp  (cost=0.00..286.50 rows=17350 width=21) (actual time=0.012..1.137 rows=17350 loops=1)\n",
      "   ->  Hash  (cost=619.70..619.70 rows=19370 width=146) (actual time=7.008..7.010 rows=19370 loops=1)\n",
      "         Buckets: 32768  Batches: 1  Memory Usage: 3633kB\n",
      "         ->  Seq Scan on people p  (cost=0.00..619.70 rows=19370 width=146) (actual time=0.009..1.553 rows=19370 loops=1)\n",
      " Planning Time: 0.940 ms\n",
      " Execution Time: 16.510 ms\n",
      "(8 rows)\n",
      "\n"
     ]
    }
   ],
   "source": [
    "# Do not delete/edit this cell!\n",
    "# You must run this cell before running the autograder.\n",
    "query_4a = %sqlcmd snippets query_4a\n",
    "grading_util.save_results(\"result_4a\", query_4a, result_4a);\n",
    "\n",
    "display(result_4a.DataFrame().head(3))\n",
    "\n",
    "!psql -h localhost -d baseball -c \"EXPLAIN ANALYZE {query_4a}\";"
   ]
  },
  {
   "cell_type": "markdown",
   "metadata": {
    "deletable": false,
    "editable": false
   },
   "source": [
    "If you haven't already, run the cell above to inspect the query plan for your command.\n",
    "\n",
    "**Which join approach did the query optimizer choose?** \n",
    "\n",
    "A. Nested Loop Join<br/>\n",
    "B. Merge Join<br/>\n",
    "C. Hash Join<br/>\n",
    "D. None of the Above\n",
    "\n",
    "Assign the variable `q4a` to the correct letter choice above, e.g., `q4a = 'A'`."
   ]
  },
  {
   "cell_type": "code",
   "execution_count": 56,
   "metadata": {
    "tags": [
     "otter_answer_cell"
    ]
   },
   "outputs": [],
   "source": [
    "q4a = 'C'"
   ]
  },
  {
   "cell_type": "code",
   "execution_count": 57,
   "metadata": {
    "deletable": false,
    "editable": false
   },
   "outputs": [
    {
     "data": {
      "text/html": [
       "<p><strong><pre style='display: inline;'>q4a</pre></strong> passed! 🌟</p>"
      ],
      "text/plain": [
       "q4a results: All test cases passed!"
      ]
     },
     "execution_count": 57,
     "metadata": {},
     "output_type": "execute_result"
    }
   ],
   "source": [
    "grader.check(\"q4a\")"
   ]
  },
  {
   "cell_type": "markdown",
   "metadata": {
    "deletable": false,
    "editable": false
   },
   "source": [
    "<br><br>\n",
    "\n",
    "---\n",
    "\n",
    "## Question 4b\n",
    "\n",
    "Perform the same query in Question 4a, but now also **sort the output by `player_id`**."
   ]
  },
  {
   "cell_type": "code",
   "execution_count": 58,
   "metadata": {
    "tags": [
     "otter_answer_cell"
    ]
   },
   "outputs": [
    {
     "data": {
      "text/html": [
       "<span style=\"None\">Running query in &#x27;postgresql://jovyan@127.0.0.1:5432/baseball&#x27;</span>"
      ],
      "text/plain": [
       "Running query in 'postgresql://jovyan@127.0.0.1:5432/baseball'"
      ]
     },
     "metadata": {},
     "output_type": "display_data"
    },
    {
     "data": {
      "text/html": [
       "<span style=\"color: green\">17350 rows affected.</span>"
      ],
      "text/plain": [
       "17350 rows affected."
      ]
     },
     "metadata": {},
     "output_type": "display_data"
    }
   ],
   "source": [
    "%%sql --save query_4b result_4b <<\n",
    "SELECT * \n",
    "FROM people AS p \n",
    "INNER JOIN college_playing AS cp \n",
    "ON p.player_id = cp.player_id \n",
    "ORDER BY p.player_id ASC\n",
    ";"
   ]
  },
  {
   "cell_type": "code",
   "execution_count": 59,
   "metadata": {
    "tags": [
     "otter_answer_cell"
    ]
   },
   "outputs": [
    {
     "data": {
      "text/html": [
       "<div>\n",
       "<style scoped>\n",
       "    .dataframe tbody tr th:only-of-type {\n",
       "        vertical-align: middle;\n",
       "    }\n",
       "\n",
       "    .dataframe tbody tr th {\n",
       "        vertical-align: top;\n",
       "    }\n",
       "\n",
       "    .dataframe thead th {\n",
       "        text-align: right;\n",
       "    }\n",
       "</style>\n",
       "<table border=\"1\" class=\"dataframe\">\n",
       "  <thead>\n",
       "    <tr style=\"text-align: right;\">\n",
       "      <th></th>\n",
       "      <th>player_id</th>\n",
       "      <th>birth_year</th>\n",
       "      <th>birth_month</th>\n",
       "      <th>birthday</th>\n",
       "      <th>birth_country</th>\n",
       "      <th>birth_state</th>\n",
       "      <th>birth_city</th>\n",
       "      <th>death_year</th>\n",
       "      <th>death_month</th>\n",
       "      <th>death_day</th>\n",
       "      <th>...</th>\n",
       "      <th>height</th>\n",
       "      <th>bats</th>\n",
       "      <th>throws</th>\n",
       "      <th>debut</th>\n",
       "      <th>final_game</th>\n",
       "      <th>retro_id</th>\n",
       "      <th>bbref_id</th>\n",
       "      <th>player_id</th>\n",
       "      <th>school_id</th>\n",
       "      <th>year_id</th>\n",
       "    </tr>\n",
       "  </thead>\n",
       "  <tbody>\n",
       "    <tr>\n",
       "      <th>0</th>\n",
       "      <td>aardsda01</td>\n",
       "      <td>1981</td>\n",
       "      <td>12.0</td>\n",
       "      <td>27.0</td>\n",
       "      <td>USA</td>\n",
       "      <td>CO</td>\n",
       "      <td>Denver</td>\n",
       "      <td>NaN</td>\n",
       "      <td>NaN</td>\n",
       "      <td>NaN</td>\n",
       "      <td>...</td>\n",
       "      <td>75.0</td>\n",
       "      <td>R</td>\n",
       "      <td>R</td>\n",
       "      <td>2004-04-06</td>\n",
       "      <td>2015-08-23</td>\n",
       "      <td>aardd001</td>\n",
       "      <td>aardsda01</td>\n",
       "      <td>aardsda01</td>\n",
       "      <td>pennst</td>\n",
       "      <td>2001</td>\n",
       "    </tr>\n",
       "    <tr>\n",
       "      <th>1</th>\n",
       "      <td>aardsda01</td>\n",
       "      <td>1981</td>\n",
       "      <td>12.0</td>\n",
       "      <td>27.0</td>\n",
       "      <td>USA</td>\n",
       "      <td>CO</td>\n",
       "      <td>Denver</td>\n",
       "      <td>NaN</td>\n",
       "      <td>NaN</td>\n",
       "      <td>NaN</td>\n",
       "      <td>...</td>\n",
       "      <td>75.0</td>\n",
       "      <td>R</td>\n",
       "      <td>R</td>\n",
       "      <td>2004-04-06</td>\n",
       "      <td>2015-08-23</td>\n",
       "      <td>aardd001</td>\n",
       "      <td>aardsda01</td>\n",
       "      <td>aardsda01</td>\n",
       "      <td>rice</td>\n",
       "      <td>2002</td>\n",
       "    </tr>\n",
       "    <tr>\n",
       "      <th>2</th>\n",
       "      <td>aardsda01</td>\n",
       "      <td>1981</td>\n",
       "      <td>12.0</td>\n",
       "      <td>27.0</td>\n",
       "      <td>USA</td>\n",
       "      <td>CO</td>\n",
       "      <td>Denver</td>\n",
       "      <td>NaN</td>\n",
       "      <td>NaN</td>\n",
       "      <td>NaN</td>\n",
       "      <td>...</td>\n",
       "      <td>75.0</td>\n",
       "      <td>R</td>\n",
       "      <td>R</td>\n",
       "      <td>2004-04-06</td>\n",
       "      <td>2015-08-23</td>\n",
       "      <td>aardd001</td>\n",
       "      <td>aardsda01</td>\n",
       "      <td>aardsda01</td>\n",
       "      <td>rice</td>\n",
       "      <td>2003</td>\n",
       "    </tr>\n",
       "  </tbody>\n",
       "</table>\n",
       "<p>3 rows × 27 columns</p>\n",
       "</div>"
      ],
      "text/plain": [
       "   player_id  birth_year  birth_month  birthday birth_country birth_state  \\\n",
       "0  aardsda01        1981         12.0      27.0           USA          CO   \n",
       "1  aardsda01        1981         12.0      27.0           USA          CO   \n",
       "2  aardsda01        1981         12.0      27.0           USA          CO   \n",
       "\n",
       "  birth_city  death_year  death_month  death_day  ... height bats throws  \\\n",
       "0     Denver         NaN          NaN        NaN  ...   75.0    R      R   \n",
       "1     Denver         NaN          NaN        NaN  ...   75.0    R      R   \n",
       "2     Denver         NaN          NaN        NaN  ...   75.0    R      R   \n",
       "\n",
       "        debut  final_game  retro_id   bbref_id  player_id school_id year_id  \n",
       "0  2004-04-06  2015-08-23  aardd001  aardsda01  aardsda01    pennst    2001  \n",
       "1  2004-04-06  2015-08-23  aardd001  aardsda01  aardsda01      rice    2002  \n",
       "2  2004-04-06  2015-08-23  aardd001  aardsda01  aardsda01      rice    2003  \n",
       "\n",
       "[3 rows x 27 columns]"
      ]
     },
     "metadata": {},
     "output_type": "display_data"
    },
    {
     "name": "stdout",
     "output_type": "stream",
     "text": [
      "                                                                          QUERY PLAN                                                                           \n",
      "---------------------------------------------------------------------------------------------------------------------------------------------------------------\n",
      " Merge Join  (cost=0.57..1910.20 rows=17350 width=167) (actual time=0.034..14.010 rows=17350 loops=1)\n",
      "   Merge Cond: ((p.player_id)::text = (cp.player_id)::text)\n",
      "   ->  Index Scan using master_pkey on people p  (cost=0.29..1024.36 rows=19370 width=146) (actual time=0.013..3.013 rows=19368 loops=1)\n",
      "   ->  Index Only Scan using college_playing_pkey on college_playing cp  (cost=0.29..620.54 rows=17350 width=21) (actual time=0.016..1.806 rows=17350 loops=1)\n",
      "         Heap Fetches: 0\n",
      " Planning Time: 0.828 ms\n",
      " Execution Time: 14.612 ms\n",
      "(7 rows)\n",
      "\n"
     ]
    }
   ],
   "source": [
    "# Do not delete/edit this cell!\n",
    "# You must run this cell before running the autograder.\n",
    "query_4b = %sqlcmd snippets query_4b\n",
    "grading_util.save_results(\"result_4b\", query_4b, result_4b);\n",
    "\n",
    "display(result_4b.DataFrame().head(3))\n",
    "\n",
    "!psql -h localhost -d baseball -c \"EXPLAIN ANALYZE {query_4b}\";"
   ]
  },
  {
   "cell_type": "markdown",
   "metadata": {
    "deletable": false,
    "editable": false
   },
   "source": [
    "If you haven't already, run the cell above to inspect the query plan for your command.\n",
    "\n",
    "**Which join approach did the query optimizer choose?** \n",
    "\n",
    "A. Nested Loop Join<br/>\n",
    "B. Merge Join<br/>\n",
    "C. Hash Join<br/>\n",
    "D. None of the Above\n",
    "\n",
    "Assign the variable `q4b` to the correct letter choice above, e.g., `q4b = 'A'`."
   ]
  },
  {
   "cell_type": "code",
   "execution_count": 60,
   "metadata": {
    "tags": [
     "otter_answer_cell"
    ]
   },
   "outputs": [],
   "source": [
    "q4b = 'B'"
   ]
  },
  {
   "cell_type": "code",
   "execution_count": 61,
   "metadata": {
    "deletable": false,
    "editable": false
   },
   "outputs": [
    {
     "data": {
      "text/html": [
       "<p><strong><pre style='display: inline;'>q4b</pre></strong> passed! 🌈</p>"
      ],
      "text/plain": [
       "q4b results: All test cases passed!"
      ]
     },
     "execution_count": 61,
     "metadata": {},
     "output_type": "execute_result"
    }
   ],
   "source": [
    "grader.check(\"q4b\")"
   ]
  },
  {
   "cell_type": "markdown",
   "metadata": {
    "deletable": false,
    "editable": false
   },
   "source": [
    "<br><br>\n",
    "\n",
    "---\n",
    "## Question 4c\n",
    "Write a query to retrieve all possible player pair permutations (e.g. `(Player 1, Player 2)` is treated as a different pairing from `(Player 2, Player 1)` because the order matters). Select all columns, but **limit to 1000 rows** to ensure your query doesn't take an exorbitant amount of time to run.\n",
    "\n",
    "**Hint:** You can do this by performing an inner join of the `people` table on itself with an inequality condition."
   ]
  },
  {
   "cell_type": "code",
   "execution_count": 62,
   "metadata": {
    "tags": [
     "otter_answer_cell"
    ]
   },
   "outputs": [
    {
     "data": {
      "text/html": [
       "<span style=\"None\">Running query in &#x27;postgresql://jovyan@127.0.0.1:5432/baseball&#x27;</span>"
      ],
      "text/plain": [
       "Running query in 'postgresql://jovyan@127.0.0.1:5432/baseball'"
      ]
     },
     "metadata": {},
     "output_type": "display_data"
    },
    {
     "data": {
      "text/html": [
       "<span style=\"color: green\">1000 rows affected.</span>"
      ],
      "text/plain": [
       "1000 rows affected."
      ]
     },
     "metadata": {},
     "output_type": "display_data"
    }
   ],
   "source": [
    "%%sql --save query_4c result_4c <<\n",
    "SELECT p1.*, p2.* \n",
    "FROM people AS p1 \n",
    "INNER JOIN people AS p2 \n",
    "ON p1.player_id <> p2.player_id\n",
    "LIMIT 1000\n",
    ";"
   ]
  },
  {
   "cell_type": "code",
   "execution_count": 63,
   "metadata": {
    "tags": [
     "otter_answer_cell"
    ]
   },
   "outputs": [
    {
     "data": {
      "text/html": [
       "<div>\n",
       "<style scoped>\n",
       "    .dataframe tbody tr th:only-of-type {\n",
       "        vertical-align: middle;\n",
       "    }\n",
       "\n",
       "    .dataframe tbody tr th {\n",
       "        vertical-align: top;\n",
       "    }\n",
       "\n",
       "    .dataframe thead th {\n",
       "        text-align: right;\n",
       "    }\n",
       "</style>\n",
       "<table border=\"1\" class=\"dataframe\">\n",
       "  <thead>\n",
       "    <tr style=\"text-align: right;\">\n",
       "      <th></th>\n",
       "      <th>player_id</th>\n",
       "      <th>birth_year</th>\n",
       "      <th>birth_month</th>\n",
       "      <th>birthday</th>\n",
       "      <th>birth_country</th>\n",
       "      <th>birth_state</th>\n",
       "      <th>birth_city</th>\n",
       "      <th>death_year</th>\n",
       "      <th>death_month</th>\n",
       "      <th>death_day</th>\n",
       "      <th>...</th>\n",
       "      <th>name_last</th>\n",
       "      <th>name_given</th>\n",
       "      <th>weight</th>\n",
       "      <th>height</th>\n",
       "      <th>bats</th>\n",
       "      <th>throws</th>\n",
       "      <th>debut</th>\n",
       "      <th>final_game</th>\n",
       "      <th>retro_id</th>\n",
       "      <th>bbref_id</th>\n",
       "    </tr>\n",
       "  </thead>\n",
       "  <tbody>\n",
       "    <tr>\n",
       "      <th>0</th>\n",
       "      <td>aardsda01</td>\n",
       "      <td>1981</td>\n",
       "      <td>12</td>\n",
       "      <td>27</td>\n",
       "      <td>USA</td>\n",
       "      <td>CO</td>\n",
       "      <td>Denver</td>\n",
       "      <td>None</td>\n",
       "      <td>None</td>\n",
       "      <td>None</td>\n",
       "      <td>...</td>\n",
       "      <td>Aaron</td>\n",
       "      <td>Henry Louis</td>\n",
       "      <td>180.0</td>\n",
       "      <td>72.0</td>\n",
       "      <td>R</td>\n",
       "      <td>R</td>\n",
       "      <td>1954-04-13</td>\n",
       "      <td>1976-10-03</td>\n",
       "      <td>aaroh101</td>\n",
       "      <td>aaronha01</td>\n",
       "    </tr>\n",
       "    <tr>\n",
       "      <th>1</th>\n",
       "      <td>aardsda01</td>\n",
       "      <td>1981</td>\n",
       "      <td>12</td>\n",
       "      <td>27</td>\n",
       "      <td>USA</td>\n",
       "      <td>CO</td>\n",
       "      <td>Denver</td>\n",
       "      <td>None</td>\n",
       "      <td>None</td>\n",
       "      <td>None</td>\n",
       "      <td>...</td>\n",
       "      <td>Aaron</td>\n",
       "      <td>Tommie Lee</td>\n",
       "      <td>190.0</td>\n",
       "      <td>75.0</td>\n",
       "      <td>R</td>\n",
       "      <td>R</td>\n",
       "      <td>1962-04-10</td>\n",
       "      <td>1971-09-26</td>\n",
       "      <td>aarot101</td>\n",
       "      <td>aaronto01</td>\n",
       "    </tr>\n",
       "    <tr>\n",
       "      <th>2</th>\n",
       "      <td>aardsda01</td>\n",
       "      <td>1981</td>\n",
       "      <td>12</td>\n",
       "      <td>27</td>\n",
       "      <td>USA</td>\n",
       "      <td>CO</td>\n",
       "      <td>Denver</td>\n",
       "      <td>None</td>\n",
       "      <td>None</td>\n",
       "      <td>None</td>\n",
       "      <td>...</td>\n",
       "      <td>Aase</td>\n",
       "      <td>Donald William</td>\n",
       "      <td>190.0</td>\n",
       "      <td>75.0</td>\n",
       "      <td>R</td>\n",
       "      <td>R</td>\n",
       "      <td>1977-07-26</td>\n",
       "      <td>1990-10-03</td>\n",
       "      <td>aased001</td>\n",
       "      <td>aasedo01</td>\n",
       "    </tr>\n",
       "  </tbody>\n",
       "</table>\n",
       "<p>3 rows × 48 columns</p>\n",
       "</div>"
      ],
      "text/plain": [
       "   player_id  birth_year  birth_month  birthday birth_country birth_state  \\\n",
       "0  aardsda01        1981           12        27           USA          CO   \n",
       "1  aardsda01        1981           12        27           USA          CO   \n",
       "2  aardsda01        1981           12        27           USA          CO   \n",
       "\n",
       "  birth_city death_year death_month death_day  ... name_last      name_given  \\\n",
       "0     Denver       None        None      None  ...     Aaron     Henry Louis   \n",
       "1     Denver       None        None      None  ...     Aaron      Tommie Lee   \n",
       "2     Denver       None        None      None  ...      Aase  Donald William   \n",
       "\n",
       "  weight height bats throws       debut  final_game  retro_id   bbref_id  \n",
       "0  180.0   72.0    R      R  1954-04-13  1976-10-03  aaroh101  aaronha01  \n",
       "1  190.0   75.0    R      R  1962-04-10  1971-09-26  aarot101  aaronto01  \n",
       "2  190.0   75.0    R      R  1977-07-26  1990-10-03  aased001   aasedo01  \n",
       "\n",
       "[3 rows x 48 columns]"
      ]
     },
     "metadata": {},
     "output_type": "display_data"
    },
    {
     "name": "stdout",
     "output_type": "stream",
     "text": [
      "                                                           QUERY PLAN                                                           \n",
      "--------------------------------------------------------------------------------------------------------------------------------\n",
      " Limit  (cost=0.00..15.00 rows=1000 width=292) (actual time=0.027..0.797 rows=1000 loops=1)\n",
      "   ->  Nested Loop  (cost=0.00..5629241.33 rows=375177530 width=292) (actual time=0.026..0.739 rows=1000 loops=1)\n",
      "         Join Filter: ((p1.player_id)::text <> (p2.player_id)::text)\n",
      "         Rows Removed by Join Filter: 1\n",
      "         ->  Seq Scan on people p1  (cost=0.00..619.70 rows=19370 width=146) (actual time=0.011..0.012 rows=1 loops=1)\n",
      "         ->  Materialize  (cost=0.00..716.55 rows=19370 width=146) (actual time=0.007..0.378 rows=1001 loops=1)\n",
      "               ->  Seq Scan on people p2  (cost=0.00..619.70 rows=19370 width=146) (actual time=0.001..0.081 rows=1001 loops=1)\n",
      " Planning Time: 0.640 ms\n",
      " Execution Time: 0.944 ms\n",
      "(9 rows)\n",
      "\n"
     ]
    }
   ],
   "source": [
    "# Do not delete/edit this cell!\n",
    "# You must run this cell before running the autograder.\n",
    "query_4c = %sqlcmd snippets query_4c\n",
    "grading_util.save_results(\"result_4c\", query_4c, result_4c);\n",
    "\n",
    "display(result_4c.DataFrame().head(3))\n",
    "\n",
    "!psql -h localhost -d baseball -c \"EXPLAIN ANALYZE {query_4c}\";"
   ]
  },
  {
   "cell_type": "markdown",
   "metadata": {
    "deletable": false,
    "editable": false
   },
   "source": [
    "If you haven't already, run the cell above to inspect the query plan for your command.\n",
    "\n",
    "**Which join approach did the query optimizer choose?** \n",
    "\n",
    "A. Nested Loop Join<br/>\n",
    "B. Merge Join<br/>\n",
    "C. Hash Join<br/>\n",
    "D. None of the Above\n",
    "\n",
    "Assign the variable `q4c` to the correct letter choice above, e.g., `q4c = 'A'`."
   ]
  },
  {
   "cell_type": "code",
   "execution_count": 64,
   "metadata": {
    "tags": [
     "otter_answer_cell"
    ]
   },
   "outputs": [],
   "source": [
    "q4c = 'A'"
   ]
  },
  {
   "cell_type": "code",
   "execution_count": 65,
   "metadata": {
    "deletable": false,
    "editable": false
   },
   "outputs": [
    {
     "data": {
      "text/html": [
       "<p><strong><pre style='display: inline;'>q4c</pre></strong> passed! 🎉</p>"
      ],
      "text/plain": [
       "q4c results: All test cases passed!"
      ]
     },
     "execution_count": 65,
     "metadata": {},
     "output_type": "execute_result"
    }
   ],
   "source": [
    "grader.check(\"q4c\")"
   ]
  },
  {
   "cell_type": "markdown",
   "metadata": {
    "deletable": false,
    "editable": false
   },
   "source": [
    "<!-- BEGIN QUESTION -->\n",
    "\n",
    "<br><br>\n",
    "\n",
    "---\n",
    "## Question 4d\n",
    "\n",
    "Given your findings above, why did the query optimizer ultimately choose the specific join approach you found in each of the above three scenarios in Questions 4a, 4b, and 4c? Feel free to discuss the pros and cons of each join approach as well.\n",
    "\n",
    "If you feel stuck, here are some things to consider: Does a non-equijoin constrain us to certain join approaches? What's an added benefit in regards to the output of merge join? How does table size affect which join is used?\n",
    "\n",
    "**Note:**\n",
    "- **Explain your answer** based on your understanding both of the **theoretical aspects of query planning and optimization discussed in class**, as well as EXPLAIN ANALYZE results - but bear in mind that sometimes EXPLAIN ANALYZE results may be unpredictable/hard to explain (because of contention, caching, noise/randomness).\n",
    "- Restate your answer for each of the subparts. You should write no more than 5 sentences. Your answer should be formatted as follows: \n",
    "```\n",
    "Q4a: (A) because ...\n",
    "Q4b: (A) because ...\n",
    "Q4c: (A) because ...\n",
    "```"
   ]
  },
  {
   "cell_type": "markdown",
   "metadata": {
    "tags": [
     "otter_answer_cell"
    ]
   },
   "source": [
    "Q4a: (C) because the condition we had was a '='. Hash joins are efficient on large tables with indexed join keys\n",
    "Q4b: (B) because merge join is more optimal when we have the order by statement. \n",
    "Q4c: (A) because nested loop is more optimal when we have the permutations."
   ]
  },
  {
   "cell_type": "markdown",
   "metadata": {
    "deletable": false,
    "editable": false
   },
   "source": [
    "<!-- END QUESTION -->\n",
    "\n",
    "<br/><br/><br/>\n",
    "\n",
    "<hr style=\"border: 5px solid #003262;\" />\n",
    "<hr style=\"border: 1px solid #fdb515;\" />\n",
    "\n",
    "# Question 5: Indexes, Part 1\n",
    "\n",
    "In Questions 5, 6, and 7, you will analyze how indexes impact query performance."
   ]
  },
  {
   "cell_type": "markdown",
   "metadata": {
    "deletable": false,
    "editable": false
   },
   "source": [
    "<br/>\n",
    "\n",
    "---\n",
    "\n",
    "## Question 5a\n",
    "\n",
    "For each `player_id`, determine their average yearly `salary` (call this `average_salary`), the first year in which they played baseball professionally (call this `first_year`), the last year in which they played baseball professionally (call this `last_year`), and the total number of years they played baseball professionally (call this `num_years`).\n",
    "\n",
    "Only include players that have batted in exactly 10 games in a given year (the number of games in which a player batted can be found in the `g_batting` column of the `appearances` table).\n",
    "\n",
    "Your query should join the `salaries` and `appearances` table on all the common columns `year_id`, `team_id`, and `player_id`, so feel free to use a natural join. Your table header should look like this:\n",
    "\n",
    "| player_id | average_salary | first_year | last_year | num_years |\n",
    "| --- | --- | --- | --- | --- |"
   ]
  },
  {
   "cell_type": "code",
   "execution_count": 66,
   "metadata": {
    "tags": [
     "otter_answer_cell"
    ]
   },
   "outputs": [
    {
     "data": {
      "text/html": [
       "<span style=\"None\">Running query in &#x27;postgresql://jovyan@127.0.0.1:5432/baseball&#x27;</span>"
      ],
      "text/plain": [
       "Running query in 'postgresql://jovyan@127.0.0.1:5432/baseball'"
      ]
     },
     "metadata": {},
     "output_type": "display_data"
    },
    {
     "data": {
      "text/html": [
       "<span style=\"color: green\">10 rows affected.</span>"
      ],
      "text/plain": [
       "10 rows affected."
      ]
     },
     "metadata": {},
     "output_type": "display_data"
    },
    {
     "data": {
      "text/html": [
       "<table>\n",
       "    <thead>\n",
       "        <tr>\n",
       "            <th>year_id</th>\n",
       "            <th>team_id</th>\n",
       "            <th>lg_id</th>\n",
       "            <th>player_id</th>\n",
       "            <th>g_all</th>\n",
       "            <th>gs</th>\n",
       "            <th>g_batting</th>\n",
       "            <th>g_defense</th>\n",
       "            <th>g_p</th>\n",
       "            <th>g_c</th>\n",
       "            <th>g_1b</th>\n",
       "            <th>g_2b</th>\n",
       "            <th>g_3b</th>\n",
       "            <th>g_ss</th>\n",
       "            <th>g_lf</th>\n",
       "            <th>g_cf</th>\n",
       "            <th>g_rf</th>\n",
       "            <th>g_of</th>\n",
       "            <th>g_dh</th>\n",
       "            <th>g_ph</th>\n",
       "            <th>g_pr</th>\n",
       "        </tr>\n",
       "    </thead>\n",
       "    <tbody>\n",
       "        <tr>\n",
       "            <td>1871</td>\n",
       "            <td>TRO</td>\n",
       "            <td>NA</td>\n",
       "            <td>abercda01</td>\n",
       "            <td>1</td>\n",
       "            <td>1</td>\n",
       "            <td>1</td>\n",
       "            <td>1</td>\n",
       "            <td>0</td>\n",
       "            <td>0</td>\n",
       "            <td>0</td>\n",
       "            <td>0</td>\n",
       "            <td>0</td>\n",
       "            <td>1</td>\n",
       "            <td>0</td>\n",
       "            <td>0</td>\n",
       "            <td>0</td>\n",
       "            <td>0</td>\n",
       "            <td>0</td>\n",
       "            <td>0</td>\n",
       "            <td>0</td>\n",
       "        </tr>\n",
       "        <tr>\n",
       "            <td>1871</td>\n",
       "            <td>RC1</td>\n",
       "            <td>NA</td>\n",
       "            <td>addybo01</td>\n",
       "            <td>25</td>\n",
       "            <td>25</td>\n",
       "            <td>25</td>\n",
       "            <td>25</td>\n",
       "            <td>0</td>\n",
       "            <td>0</td>\n",
       "            <td>0</td>\n",
       "            <td>22</td>\n",
       "            <td>0</td>\n",
       "            <td>3</td>\n",
       "            <td>0</td>\n",
       "            <td>0</td>\n",
       "            <td>0</td>\n",
       "            <td>0</td>\n",
       "            <td>0</td>\n",
       "            <td>0</td>\n",
       "            <td>0</td>\n",
       "        </tr>\n",
       "        <tr>\n",
       "            <td>1871</td>\n",
       "            <td>CL1</td>\n",
       "            <td>NA</td>\n",
       "            <td>allisar01</td>\n",
       "            <td>29</td>\n",
       "            <td>29</td>\n",
       "            <td>29</td>\n",
       "            <td>29</td>\n",
       "            <td>0</td>\n",
       "            <td>0</td>\n",
       "            <td>0</td>\n",
       "            <td>2</td>\n",
       "            <td>0</td>\n",
       "            <td>0</td>\n",
       "            <td>0</td>\n",
       "            <td>29</td>\n",
       "            <td>0</td>\n",
       "            <td>29</td>\n",
       "            <td>0</td>\n",
       "            <td>0</td>\n",
       "            <td>0</td>\n",
       "        </tr>\n",
       "        <tr>\n",
       "            <td>1871</td>\n",
       "            <td>WS3</td>\n",
       "            <td>NA</td>\n",
       "            <td>allisdo01</td>\n",
       "            <td>27</td>\n",
       "            <td>27</td>\n",
       "            <td>27</td>\n",
       "            <td>27</td>\n",
       "            <td>0</td>\n",
       "            <td>27</td>\n",
       "            <td>0</td>\n",
       "            <td>0</td>\n",
       "            <td>0</td>\n",
       "            <td>0</td>\n",
       "            <td>0</td>\n",
       "            <td>0</td>\n",
       "            <td>0</td>\n",
       "            <td>0</td>\n",
       "            <td>0</td>\n",
       "            <td>0</td>\n",
       "            <td>0</td>\n",
       "        </tr>\n",
       "        <tr>\n",
       "            <td>1871</td>\n",
       "            <td>RC1</td>\n",
       "            <td>NA</td>\n",
       "            <td>ansonca01</td>\n",
       "            <td>25</td>\n",
       "            <td>25</td>\n",
       "            <td>25</td>\n",
       "            <td>25</td>\n",
       "            <td>0</td>\n",
       "            <td>5</td>\n",
       "            <td>1</td>\n",
       "            <td>2</td>\n",
       "            <td>20</td>\n",
       "            <td>0</td>\n",
       "            <td>1</td>\n",
       "            <td>0</td>\n",
       "            <td>0</td>\n",
       "            <td>1</td>\n",
       "            <td>0</td>\n",
       "            <td>0</td>\n",
       "            <td>0</td>\n",
       "        </tr>\n",
       "        <tr>\n",
       "            <td>1871</td>\n",
       "            <td>FW1</td>\n",
       "            <td>NA</td>\n",
       "            <td>armstbo01</td>\n",
       "            <td>12</td>\n",
       "            <td>12</td>\n",
       "            <td>12</td>\n",
       "            <td>12</td>\n",
       "            <td>0</td>\n",
       "            <td>0</td>\n",
       "            <td>0</td>\n",
       "            <td>0</td>\n",
       "            <td>0</td>\n",
       "            <td>0</td>\n",
       "            <td>0</td>\n",
       "            <td>11</td>\n",
       "            <td>1</td>\n",
       "            <td>12</td>\n",
       "            <td>0</td>\n",
       "            <td>0</td>\n",
       "            <td>0</td>\n",
       "        </tr>\n",
       "        <tr>\n",
       "            <td>1871</td>\n",
       "            <td>RC1</td>\n",
       "            <td>NA</td>\n",
       "            <td>barkeal01</td>\n",
       "            <td>1</td>\n",
       "            <td>1</td>\n",
       "            <td>1</td>\n",
       "            <td>1</td>\n",
       "            <td>0</td>\n",
       "            <td>0</td>\n",
       "            <td>0</td>\n",
       "            <td>0</td>\n",
       "            <td>0</td>\n",
       "            <td>0</td>\n",
       "            <td>1</td>\n",
       "            <td>0</td>\n",
       "            <td>0</td>\n",
       "            <td>1</td>\n",
       "            <td>0</td>\n",
       "            <td>0</td>\n",
       "            <td>0</td>\n",
       "        </tr>\n",
       "        <tr>\n",
       "            <td>1871</td>\n",
       "            <td>BS1</td>\n",
       "            <td>NA</td>\n",
       "            <td>barnero01</td>\n",
       "            <td>31</td>\n",
       "            <td>31</td>\n",
       "            <td>31</td>\n",
       "            <td>31</td>\n",
       "            <td>0</td>\n",
       "            <td>0</td>\n",
       "            <td>0</td>\n",
       "            <td>16</td>\n",
       "            <td>0</td>\n",
       "            <td>15</td>\n",
       "            <td>0</td>\n",
       "            <td>0</td>\n",
       "            <td>0</td>\n",
       "            <td>0</td>\n",
       "            <td>0</td>\n",
       "            <td>0</td>\n",
       "            <td>0</td>\n",
       "        </tr>\n",
       "        <tr>\n",
       "            <td>1871</td>\n",
       "            <td>FW1</td>\n",
       "            <td>NA</td>\n",
       "            <td>barrebi01</td>\n",
       "            <td>1</td>\n",
       "            <td>1</td>\n",
       "            <td>1</td>\n",
       "            <td>1</td>\n",
       "            <td>0</td>\n",
       "            <td>1</td>\n",
       "            <td>0</td>\n",
       "            <td>0</td>\n",
       "            <td>1</td>\n",
       "            <td>0</td>\n",
       "            <td>0</td>\n",
       "            <td>0</td>\n",
       "            <td>0</td>\n",
       "            <td>0</td>\n",
       "            <td>0</td>\n",
       "            <td>0</td>\n",
       "            <td>0</td>\n",
       "        </tr>\n",
       "        <tr>\n",
       "            <td>1871</td>\n",
       "            <td>BS1</td>\n",
       "            <td>NA</td>\n",
       "            <td>barrofr01</td>\n",
       "            <td>18</td>\n",
       "            <td>17</td>\n",
       "            <td>18</td>\n",
       "            <td>18</td>\n",
       "            <td>0</td>\n",
       "            <td>0</td>\n",
       "            <td>0</td>\n",
       "            <td>1</td>\n",
       "            <td>0</td>\n",
       "            <td>0</td>\n",
       "            <td>13</td>\n",
       "            <td>0</td>\n",
       "            <td>4</td>\n",
       "            <td>17</td>\n",
       "            <td>0</td>\n",
       "            <td>0</td>\n",
       "            <td>0</td>\n",
       "        </tr>\n",
       "    </tbody>\n",
       "</table>"
      ],
      "text/plain": [
       "+---------+---------+-------+-----------+-------+----+-----------+-----------+-----+-----+------+------+------+------+------+------+------+------+------+------+------+\n",
       "| year_id | team_id | lg_id | player_id | g_all | gs | g_batting | g_defense | g_p | g_c | g_1b | g_2b | g_3b | g_ss | g_lf | g_cf | g_rf | g_of | g_dh | g_ph | g_pr |\n",
       "+---------+---------+-------+-----------+-------+----+-----------+-----------+-----+-----+------+------+------+------+------+------+------+------+------+------+------+\n",
       "|   1871  |   TRO   |   NA  | abercda01 |   1   | 1  |     1     |     1     |  0  |  0  |  0   |  0   |  0   |  1   |  0   |  0   |  0   |  0   |  0   |  0   |  0   |\n",
       "|   1871  |   RC1   |   NA  |  addybo01 |   25  | 25 |     25    |     25    |  0  |  0  |  0   |  22  |  0   |  3   |  0   |  0   |  0   |  0   |  0   |  0   |  0   |\n",
       "|   1871  |   CL1   |   NA  | allisar01 |   29  | 29 |     29    |     29    |  0  |  0  |  0   |  2   |  0   |  0   |  0   |  29  |  0   |  29  |  0   |  0   |  0   |\n",
       "|   1871  |   WS3   |   NA  | allisdo01 |   27  | 27 |     27    |     27    |  0  |  27 |  0   |  0   |  0   |  0   |  0   |  0   |  0   |  0   |  0   |  0   |  0   |\n",
       "|   1871  |   RC1   |   NA  | ansonca01 |   25  | 25 |     25    |     25    |  0  |  5  |  1   |  2   |  20  |  0   |  1   |  0   |  0   |  1   |  0   |  0   |  0   |\n",
       "|   1871  |   FW1   |   NA  | armstbo01 |   12  | 12 |     12    |     12    |  0  |  0  |  0   |  0   |  0   |  0   |  0   |  11  |  1   |  12  |  0   |  0   |  0   |\n",
       "|   1871  |   RC1   |   NA  | barkeal01 |   1   | 1  |     1     |     1     |  0  |  0  |  0   |  0   |  0   |  0   |  1   |  0   |  0   |  1   |  0   |  0   |  0   |\n",
       "|   1871  |   BS1   |   NA  | barnero01 |   31  | 31 |     31    |     31    |  0  |  0  |  0   |  16  |  0   |  15  |  0   |  0   |  0   |  0   |  0   |  0   |  0   |\n",
       "|   1871  |   FW1   |   NA  | barrebi01 |   1   | 1  |     1     |     1     |  0  |  1  |  0   |  0   |  1   |  0   |  0   |  0   |  0   |  0   |  0   |  0   |  0   |\n",
       "|   1871  |   BS1   |   NA  | barrofr01 |   18  | 17 |     18    |     18    |  0  |  0  |  0   |  1   |  0   |  0   |  13  |  0   |  4   |  17  |  0   |  0   |  0   |\n",
       "+---------+---------+-------+-----------+-------+----+-----------+-----------+-----+-----+------+------+------+------+------+------+------+------+------+------+------+"
      ]
     },
     "execution_count": 66,
     "metadata": {},
     "output_type": "execute_result"
    }
   ],
   "source": [
    "%%sql\n",
    "select *\n",
    "from appearances\n",
    "limit 10;"
   ]
  },
  {
   "cell_type": "code",
   "execution_count": 67,
   "metadata": {
    "scrolled": true,
    "tags": [
     "otter_answer_cell"
    ]
   },
   "outputs": [
    {
     "data": {
      "text/html": [
       "<span style=\"None\">Running query in &#x27;postgresql://jovyan@127.0.0.1:5432/baseball&#x27;</span>"
      ],
      "text/plain": [
       "Running query in 'postgresql://jovyan@127.0.0.1:5432/baseball'"
      ]
     },
     "metadata": {},
     "output_type": "display_data"
    },
    {
     "data": {
      "text/html": [
       "<span style=\"color: green\">134 rows affected.</span>"
      ],
      "text/plain": [
       "134 rows affected."
      ]
     },
     "metadata": {},
     "output_type": "display_data"
    }
   ],
   "source": [
    "%%sql --save query_5a result_5a <<\n",
    "SELECT \n",
    "a.player_id, \n",
    "AVG(s.salary) AS average_salary, \n",
    "MIN(a.year_id) AS first_year, \n",
    "MAX(a.year_id) AS last_year, \n",
    "COUNT(DISTINCT a.year_id) AS num_years \n",
    "FROM appearances AS a \n",
    "JOIN salaries AS s\n",
    "USING(player_id, year_id, team_id)\n",
    "WHERE a.g_batting = 10\n",
    "GROUP BY a.player_id\n",
    ";"
   ]
  },
  {
   "cell_type": "code",
   "execution_count": 68,
   "metadata": {
    "tags": [
     "otter_answer_cell"
    ]
   },
   "outputs": [
    {
     "data": {
      "text/html": [
       "<div>\n",
       "<style scoped>\n",
       "    .dataframe tbody tr th:only-of-type {\n",
       "        vertical-align: middle;\n",
       "    }\n",
       "\n",
       "    .dataframe tbody tr th {\n",
       "        vertical-align: top;\n",
       "    }\n",
       "\n",
       "    .dataframe thead th {\n",
       "        text-align: right;\n",
       "    }\n",
       "</style>\n",
       "<table border=\"1\" class=\"dataframe\">\n",
       "  <thead>\n",
       "    <tr style=\"text-align: right;\">\n",
       "      <th></th>\n",
       "      <th>player_id</th>\n",
       "      <th>average_salary</th>\n",
       "      <th>first_year</th>\n",
       "      <th>last_year</th>\n",
       "      <th>num_years</th>\n",
       "    </tr>\n",
       "  </thead>\n",
       "  <tbody>\n",
       "    <tr>\n",
       "      <th>0</th>\n",
       "      <td>anderla02</td>\n",
       "      <td>240000.0</td>\n",
       "      <td>1986</td>\n",
       "      <td>1986</td>\n",
       "      <td>1</td>\n",
       "    </tr>\n",
       "    <tr>\n",
       "      <th>1</th>\n",
       "      <td>ashbyan01</td>\n",
       "      <td>109000.0</td>\n",
       "      <td>1992</td>\n",
       "      <td>1992</td>\n",
       "      <td>1</td>\n",
       "    </tr>\n",
       "    <tr>\n",
       "      <th>2</th>\n",
       "      <td>ayraubo01</td>\n",
       "      <td>125000.0</td>\n",
       "      <td>1993</td>\n",
       "      <td>1993</td>\n",
       "      <td>1</td>\n",
       "    </tr>\n",
       "  </tbody>\n",
       "</table>\n",
       "</div>"
      ],
      "text/plain": [
       "   player_id  average_salary  first_year  last_year  num_years\n",
       "0  anderla02        240000.0        1986       1986          1\n",
       "1  ashbyan01        109000.0        1992       1992          1\n",
       "2  ayraubo01        125000.0        1993       1993          1"
      ]
     },
     "metadata": {},
     "output_type": "display_data"
    },
    {
     "name": "stdout",
     "output_type": "stream",
     "text": [
      "                                                                   QUERY PLAN                                                                   \n",
      "------------------------------------------------------------------------------------------------------------------------------------------------\n",
      " GroupAggregate  (cost=3563.48..3563.51 rows=1 width=33) (actual time=15.435..15.557 rows=134 loops=1)\n",
      "   Group Key: a.player_id\n",
      "   ->  Sort  (cost=3563.48..3563.49 rows=1 width=21) (actual time=15.353..15.361 rows=138 loops=1)\n",
      "         Sort Key: a.player_id\n",
      "         Sort Method: quicksort  Memory: 35kB\n",
      "         ->  Hash Join  (cost=2896.07..3563.47 rows=1 width=21) (actual time=10.120..15.206 rows=138 loops=1)\n",
      "               Hash Cond: (((s.player_id)::text = (a.player_id)::text) AND (s.year_id = a.year_id) AND ((s.team_id)::text = (a.team_id)::text))\n",
      "               ->  Seq Scan on salaries s  (cost=0.00..459.28 rows=26428 width=25) (actual time=0.011..1.604 rows=26428 loops=1)\n",
      "               ->  Hash  (cost=2873.20..2873.20 rows=1307 width=17) (actual time=9.994..9.995 rows=1347 loops=1)\n",
      "                     Buckets: 2048  Batches: 1  Memory Usage: 85kB\n",
      "                     ->  Seq Scan on appearances a  (cost=0.00..2873.20 rows=1307 width=17) (actual time=0.011..9.651 rows=1347 loops=1)\n",
      "                           Filter: (g_batting = 10)\n",
      "                           Rows Removed by Filter: 102909\n",
      " Planning Time: 1.171 ms\n",
      " Execution Time: 15.650 ms\n",
      "(15 rows)\n",
      "\n"
     ]
    }
   ],
   "source": [
    "# Do not delete/edit this cell!\n",
    "# You must run this cell before running the autograder.\n",
    "query_5a = %sqlcmd snippets query_5a\n",
    "grading_util.save_results(\"result_5a\", query_5a, result_5a);\n",
    "\n",
    "display(result_5a.DataFrame().head(3))\n",
    "\n",
    "!psql -h localhost -d baseball -c \"EXPLAIN ANALYZE {query_5a}\";"
   ]
  },
  {
   "cell_type": "markdown",
   "metadata": {
    "deletable": false,
    "editable": false
   },
   "source": [
    "Inspect the query plan above and record the execution time and cost."
   ]
  },
  {
   "cell_type": "code",
   "execution_count": 69,
   "metadata": {
    "tags": [
     "otter_answer_cell"
    ]
   },
   "outputs": [],
   "source": [
    "result_5a_cost = 3563.36\n",
    "result_5a_timing = 15.931"
   ]
  },
  {
   "cell_type": "code",
   "execution_count": 70,
   "metadata": {
    "deletable": false,
    "editable": false
   },
   "outputs": [
    {
     "data": {
      "text/html": [
       "<p><strong><pre style='display: inline;'>q5a</pre></strong> passed! 🍀</p>"
      ],
      "text/plain": [
       "q5a results: All test cases passed!"
      ]
     },
     "execution_count": 70,
     "metadata": {},
     "output_type": "execute_result"
    }
   ],
   "source": [
    "grader.check(\"q5a\")"
   ]
  },
  {
   "cell_type": "markdown",
   "metadata": {
    "deletable": false,
    "editable": false
   },
   "source": [
    "<br><br>\n",
    "\n",
    "---\n",
    "## Question 5b\n",
    "\n",
    "Add an index with name `appearances_g_batting_idx` on the `g_batting` column of the `appearances` table."
   ]
  },
  {
   "cell_type": "code",
   "execution_count": 71,
   "metadata": {
    "tags": [
     "otter_answer_cell"
    ]
   },
   "outputs": [
    {
     "data": {
      "text/html": [
       "<span style=\"None\">Running query in &#x27;postgresql://jovyan@127.0.0.1:5432/baseball&#x27;</span>"
      ],
      "text/plain": [
       "Running query in 'postgresql://jovyan@127.0.0.1:5432/baseball'"
      ]
     },
     "metadata": {},
     "output_type": "display_data"
    },
    {
     "data": {
      "text/html": [
       "<table>\n",
       "    <thead>\n",
       "        <tr>\n",
       "        </tr>\n",
       "    </thead>\n",
       "    <tbody>\n",
       "    </tbody>\n",
       "</table>"
      ],
      "text/plain": [
       "++\n",
       "||\n",
       "++\n",
       "++"
      ]
     },
     "execution_count": 71,
     "metadata": {},
     "output_type": "execute_result"
    }
   ],
   "source": [
    "%%sql\n",
    "DROP INDEX IF EXISTS appearances_g_batting_idx;\n",
    "CREATE INDEX appearances_g_batting_idx ON appearances (g_batting)\n",
    ";"
   ]
  },
  {
   "cell_type": "markdown",
   "metadata": {
    "deletable": false,
    "editable": false
   },
   "source": [
    "Now, re-inspect the query plan of the query from `Question 5a` and record its execution time and cost."
   ]
  },
  {
   "cell_type": "code",
   "execution_count": 72,
   "metadata": {
    "deletable": false,
    "editable": false
   },
   "outputs": [
    {
     "name": "stdout",
     "output_type": "stream",
     "text": [
      "                                                                           QUERY PLAN                                                                            \n",
      "-----------------------------------------------------------------------------------------------------------------------------------------------------------------\n",
      " GroupAggregate  (cost=2293.92..2293.95 rows=1 width=33) (actual time=7.256..7.379 rows=134 loops=1)\n",
      "   Group Key: a.player_id\n",
      "   ->  Sort  (cost=2293.92..2293.93 rows=1 width=21) (actual time=7.209..7.218 rows=138 loops=1)\n",
      "         Sort Key: a.player_id\n",
      "         Sort Method: quicksort  Memory: 35kB\n",
      "         ->  Hash Join  (cost=1626.51..2293.91 rows=1 width=21) (actual time=2.104..7.071 rows=138 loops=1)\n",
      "               Hash Cond: (((s.player_id)::text = (a.player_id)::text) AND (s.year_id = a.year_id) AND ((s.team_id)::text = (a.team_id)::text))\n",
      "               ->  Seq Scan on salaries s  (cost=0.00..459.28 rows=26428 width=25) (actual time=0.008..1.573 rows=26428 loops=1)\n",
      "               ->  Hash  (cost=1603.64..1603.64 rows=1307 width=17) (actual time=1.984..1.985 rows=1347 loops=1)\n",
      "                     Buckets: 2048  Batches: 1  Memory Usage: 85kB\n",
      "                     ->  Bitmap Heap Scan on appearances a  (cost=18.42..1603.64 rows=1307 width=17) (actual time=0.270..1.690 rows=1347 loops=1)\n",
      "                           Recheck Cond: (g_batting = 10)\n",
      "                           Heap Blocks: exact=899\n",
      "                           ->  Bitmap Index Scan on appearances_g_batting_idx  (cost=0.00..18.10 rows=1307 width=0) (actual time=0.167..0.167 rows=1347 loops=1)\n",
      "                                 Index Cond: (g_batting = 10)\n",
      " Planning Time: 1.227 ms\n",
      " Execution Time: 7.501 ms\n",
      "(17 rows)\n",
      "\n"
     ]
    }
   ],
   "source": [
    "# just run this cell\n",
    "!psql -h localhost -d baseball -c \"EXPLAIN ANALYZE {query_5a}\";"
   ]
  },
  {
   "cell_type": "code",
   "execution_count": 73,
   "metadata": {
    "tags": [
     "otter_answer_cell"
    ]
   },
   "outputs": [],
   "source": [
    "result_5b_cost = 2292.03\n",
    "result_5b_timing = 7.741"
   ]
  },
  {
   "cell_type": "code",
   "execution_count": 74,
   "metadata": {
    "deletable": false,
    "editable": false
   },
   "outputs": [
    {
     "data": {
      "text/html": [
       "<p><strong><pre style='display: inline;'>q5b</pre></strong> passed! 🎉</p>"
      ],
      "text/plain": [
       "q5b results: All test cases passed!"
      ]
     },
     "execution_count": 74,
     "metadata": {},
     "output_type": "execute_result"
    }
   ],
   "source": [
    "grader.check(\"q5b\")"
   ]
  },
  {
   "cell_type": "markdown",
   "metadata": {
    "deletable": false,
    "editable": false
   },
   "source": [
    "<br><br>\n",
    "\n",
    "---\n",
    "## Question 5c\n",
    "\n",
    "Write a query to add an index with name `salary_idx` on the `salary` column of the `salaries` table. Make sure to drop the previous index in Question 5b first (which we've provided in the starter code)!"
   ]
  },
  {
   "cell_type": "code",
   "execution_count": 75,
   "metadata": {
    "tags": [
     "otter_answer_cell"
    ]
   },
   "outputs": [
    {
     "data": {
      "text/html": [
       "<span style=\"None\">Running query in &#x27;postgresql://jovyan@127.0.0.1:5432/baseball&#x27;</span>"
      ],
      "text/plain": [
       "Running query in 'postgresql://jovyan@127.0.0.1:5432/baseball'"
      ]
     },
     "metadata": {},
     "output_type": "display_data"
    },
    {
     "data": {
      "text/html": [
       "<table>\n",
       "    <thead>\n",
       "        <tr>\n",
       "        </tr>\n",
       "    </thead>\n",
       "    <tbody>\n",
       "    </tbody>\n",
       "</table>"
      ],
      "text/plain": [
       "++\n",
       "||\n",
       "++\n",
       "++"
      ]
     },
     "execution_count": 75,
     "metadata": {},
     "output_type": "execute_result"
    }
   ],
   "source": [
    "%%sql\n",
    "DROP INDEX IF EXISTS appearances_g_batting_idx;\n",
    "DROP INDEX IF EXISTS salary_idx;\n",
    "CREATE INDEX salary_idx ON salaries (salary)"
   ]
  },
  {
   "cell_type": "markdown",
   "metadata": {
    "deletable": false,
    "editable": false
   },
   "source": [
    "Now, re-inspect the query plan of the query from Question 5a and record its execution time and cost."
   ]
  },
  {
   "cell_type": "code",
   "execution_count": 76,
   "metadata": {
    "deletable": false,
    "editable": false
   },
   "outputs": [
    {
     "name": "stderr",
     "output_type": "stream",
     "text": [
      "'EXPLAIN ANALYZE SELECT\n",
      "a.player_id,\n",
      "AVG(s.salary) AS average_salary,\n",
      "MIN(a.year_id) AS first_year,\n",
      "M' contains unsupported syntax. Falling back to parsing as a 'Command'.\n"
     ]
    },
    {
     "data": {
      "text/html": [
       "<span style=\"None\">Running query in &#x27;postgresql://jovyan@127.0.0.1:5432/baseball&#x27;</span>"
      ],
      "text/plain": [
       "Running query in 'postgresql://jovyan@127.0.0.1:5432/baseball'"
      ]
     },
     "metadata": {},
     "output_type": "display_data"
    },
    {
     "data": {
      "text/html": [
       "<span style=\"color: green\">15 rows affected.</span>"
      ],
      "text/plain": [
       "15 rows affected."
      ]
     },
     "metadata": {},
     "output_type": "display_data"
    },
    {
     "data": {
      "text/html": [
       "<table>\n",
       "    <thead>\n",
       "        <tr>\n",
       "            <th>QUERY PLAN</th>\n",
       "        </tr>\n",
       "    </thead>\n",
       "    <tbody>\n",
       "        <tr>\n",
       "            <td>GroupAggregate  (cost=3563.48..3563.51 rows=1 width=33) (actual time=14.297..14.418 rows=134 loops=1)</td>\n",
       "        </tr>\n",
       "        <tr>\n",
       "            <td>&nbsp;&nbsp;Group Key: a.player_id</td>\n",
       "        </tr>\n",
       "        <tr>\n",
       "            <td>&nbsp;&nbsp;->  Sort  (cost=3563.48..3563.49 rows=1 width=21) (actual time=14.279..14.287 rows=138 loops=1)</td>\n",
       "        </tr>\n",
       "        <tr>\n",
       "            <td>&nbsp;&nbsp;&nbsp;&nbsp;&nbsp;&nbsp;&nbsp;&nbsp;Sort Key: a.player_id</td>\n",
       "        </tr>\n",
       "        <tr>\n",
       "            <td>&nbsp;&nbsp;&nbsp;&nbsp;&nbsp;&nbsp;&nbsp;&nbsp;Sort Method: quicksort  Memory: 35kB</td>\n",
       "        </tr>\n",
       "        <tr>\n",
       "            <td>&nbsp;&nbsp;&nbsp;&nbsp;&nbsp;&nbsp;&nbsp;&nbsp;->  Hash Join  (cost=2896.07..3563.47 rows=1 width=21) (actual time=9.161..14.173 rows=138 loops=1)</td>\n",
       "        </tr>\n",
       "        <tr>\n",
       "            <td>&nbsp;&nbsp;&nbsp;&nbsp;&nbsp;&nbsp;&nbsp;&nbsp;&nbsp;&nbsp;&nbsp;&nbsp;&nbsp;&nbsp;Hash Cond: (((s.player_id)::text = (a.player_id)::text) AND (s.year_id = a.year_id) AND ((s.team_id)::text = (a.team_id)::text))</td>\n",
       "        </tr>\n",
       "        <tr>\n",
       "            <td>&nbsp;&nbsp;&nbsp;&nbsp;&nbsp;&nbsp;&nbsp;&nbsp;&nbsp;&nbsp;&nbsp;&nbsp;&nbsp;&nbsp;->  Seq Scan on salaries s  (cost=0.00..459.28 rows=26428 width=25) (actual time=0.005..1.508 rows=26428 loops=1)</td>\n",
       "        </tr>\n",
       "        <tr>\n",
       "            <td>&nbsp;&nbsp;&nbsp;&nbsp;&nbsp;&nbsp;&nbsp;&nbsp;&nbsp;&nbsp;&nbsp;&nbsp;&nbsp;&nbsp;->  Hash  (cost=2873.20..2873.20 rows=1307 width=17) (actual time=9.043..9.044 rows=1347 loops=1)</td>\n",
       "        </tr>\n",
       "        <tr>\n",
       "            <td>&nbsp;&nbsp;&nbsp;&nbsp;&nbsp;&nbsp;&nbsp;&nbsp;&nbsp;&nbsp;&nbsp;&nbsp;&nbsp;&nbsp;&nbsp;&nbsp;&nbsp;&nbsp;&nbsp;&nbsp;Buckets: 2048  Batches: 1  Memory Usage: 85kB</td>\n",
       "        </tr>\n",
       "        <tr>\n",
       "            <td>&nbsp;&nbsp;&nbsp;&nbsp;&nbsp;&nbsp;&nbsp;&nbsp;&nbsp;&nbsp;&nbsp;&nbsp;&nbsp;&nbsp;&nbsp;&nbsp;&nbsp;&nbsp;&nbsp;&nbsp;->  Seq Scan on appearances a  (cost=0.00..2873.20 rows=1307 width=17) (actual time=0.006..8.766 rows=1347 loops=1)</td>\n",
       "        </tr>\n",
       "        <tr>\n",
       "            <td>&nbsp;&nbsp;&nbsp;&nbsp;&nbsp;&nbsp;&nbsp;&nbsp;&nbsp;&nbsp;&nbsp;&nbsp;&nbsp;&nbsp;&nbsp;&nbsp;&nbsp;&nbsp;&nbsp;&nbsp;&nbsp;&nbsp;&nbsp;&nbsp;&nbsp;&nbsp;Filter: (g_batting = 10)</td>\n",
       "        </tr>\n",
       "        <tr>\n",
       "            <td>&nbsp;&nbsp;&nbsp;&nbsp;&nbsp;&nbsp;&nbsp;&nbsp;&nbsp;&nbsp;&nbsp;&nbsp;&nbsp;&nbsp;&nbsp;&nbsp;&nbsp;&nbsp;&nbsp;&nbsp;&nbsp;&nbsp;&nbsp;&nbsp;&nbsp;&nbsp;Rows Removed by Filter: 102909</td>\n",
       "        </tr>\n",
       "        <tr>\n",
       "            <td>Planning Time: 1.060 ms</td>\n",
       "        </tr>\n",
       "        <tr>\n",
       "            <td>Execution Time: 14.462 ms</td>\n",
       "        </tr>\n",
       "    </tbody>\n",
       "</table>"
      ],
      "text/plain": [
       "+------------------------------------------------------------------------------------------------------------------------------------------------+\n",
       "|                                                                   QUERY PLAN                                                                   |\n",
       "+------------------------------------------------------------------------------------------------------------------------------------------------+\n",
       "|                     GroupAggregate  (cost=3563.48..3563.51 rows=1 width=33) (actual time=14.297..14.418 rows=134 loops=1)                      |\n",
       "|                                                              Group Key: a.player_id                                                            |\n",
       "|                         ->  Sort  (cost=3563.48..3563.49 rows=1 width=21) (actual time=14.279..14.287 rows=138 loops=1)                        |\n",
       "|                                                                 Sort Key: a.player_id                                                          |\n",
       "|                                                          Sort Method: quicksort  Memory: 35kB                                                  |\n",
       "|                          ->  Hash Join  (cost=2896.07..3563.47 rows=1 width=21) (actual time=9.161..14.173 rows=138 loops=1)                   |\n",
       "|               Hash Cond: (((s.player_id)::text = (a.player_id)::text) AND (s.year_id = a.year_id) AND ((s.team_id)::text = (a.team_id)::text)) |\n",
       "|                      ->  Seq Scan on salaries s  (cost=0.00..459.28 rows=26428 width=25) (actual time=0.005..1.508 rows=26428 loops=1)         |\n",
       "|                              ->  Hash  (cost=2873.20..2873.20 rows=1307 width=17) (actual time=9.043..9.044 rows=1347 loops=1)                 |\n",
       "|                                                           Buckets: 2048  Batches: 1  Memory Usage: 85kB                                        |\n",
       "|                        ->  Seq Scan on appearances a  (cost=0.00..2873.20 rows=1307 width=17) (actual time=0.006..8.766 rows=1347 loops=1)     |\n",
       "|                                                                         Filter: (g_batting = 10)                                               |\n",
       "|                                                                      Rows Removed by Filter: 102909                                            |\n",
       "|                                                            Planning Time: 1.060 ms                                                             |\n",
       "|                                                           Execution Time: 14.462 ms                                                            |\n",
       "+------------------------------------------------------------------------------------------------------------------------------------------------+"
      ]
     },
     "execution_count": 76,
     "metadata": {},
     "output_type": "execute_result"
    }
   ],
   "source": [
    "# just run this cell\n",
    "%sql EXPLAIN ANALYZE {{query_5a}}"
   ]
  },
  {
   "cell_type": "code",
   "execution_count": 77,
   "metadata": {
    "tags": [
     "otter_answer_cell"
    ]
   },
   "outputs": [],
   "source": [
    "result_5c_cost = 3563.39\n",
    "result_5c_timing = 15.266"
   ]
  },
  {
   "cell_type": "code",
   "execution_count": 78,
   "metadata": {
    "deletable": false,
    "editable": false
   },
   "outputs": [
    {
     "data": {
      "text/html": [
       "<p><strong><pre style='display: inline;'>q5c</pre></strong> passed! 💯</p>"
      ],
      "text/plain": [
       "q5c results: All test cases passed!"
      ]
     },
     "execution_count": 78,
     "metadata": {},
     "output_type": "execute_result"
    }
   ],
   "source": [
    "grader.check(\"q5c\")"
   ]
  },
  {
   "cell_type": "markdown",
   "metadata": {
    "deletable": false,
    "editable": false
   },
   "source": [
    "<br><br>\n",
    "\n",
    "---\n",
    "\n",
    "## Question 5d\n",
    "\n",
    "Given your findings from inspecting the query plans with no indexes (Question 5a), an index on `g_batting` (Question 5b), and an index on `salary` (Question 5c), assign the variable `q5d` to a list of **ALL** of the below statements that are true.\n",
    "\n",
    "A. Adding the `appearances_g_batting` index did not have a significant impact on the query execution time and cost.<br/>\n",
    "B. Adding the `appearances_g_batting` index did have a significant impact on the query execution time, but not the cost.<br/>\n",
    "C. Adding the `appearances_g_batting` index did have a significant impact on the query cost, but not the execution time.<br/>\n",
    "D. Adding the `appearances_g_batting` index did have a significant impact on the query cost and execution time.<br/>\n",
    "E. Adding the `salary_idx` index did not have a significant impact on the query execution time and cost.<br/>\n",
    "F. Adding the `salary_idx` index did have a significant impact on the query execution time, but not the cost.<br/>\n",
    "G. Adding the `salary_idx` index did have a significant impact on the query cost, but not the execution time.<br/>\n",
    "H. Adding the `salary_idx` index did have a significant impact on the query cost and execution time.\n",
    "\n",
    "**Note:** Your answer should have the format like this if you think A and B are both true: `q5b = ['A', 'B']`. The autograder is **case sensitive** but order should not matter."
   ]
  },
  {
   "cell_type": "code",
   "execution_count": 79,
   "metadata": {
    "tags": [
     "otter_answer_cell"
    ]
   },
   "outputs": [],
   "source": [
    "q5d = ['D', 'E']"
   ]
  },
  {
   "cell_type": "code",
   "execution_count": 80,
   "metadata": {
    "deletable": false,
    "editable": false
   },
   "outputs": [
    {
     "data": {
      "text/html": [
       "<p><strong><pre style='display: inline;'>q5d</pre></strong> passed! 🎉</p>"
      ],
      "text/plain": [
       "q5d results: All test cases passed!"
      ]
     },
     "execution_count": 80,
     "metadata": {},
     "output_type": "execute_result"
    }
   ],
   "source": [
    "grader.check(\"q5d\")"
   ]
  },
  {
   "cell_type": "markdown",
   "metadata": {
    "deletable": false,
    "editable": false
   },
   "source": [
    "<!-- BEGIN QUESTION -->\n",
    "\n",
    "### Question 5di Justification\n",
    "\n",
    "1. **Explain your answer to Question 5d** above based on your understanding both of the **theoretical aspects of query planning and optimization discussed in class**, as well as EXPLAIN ANALYZE results - but bear in mind that sometimes EXPLAIN ANALYZE results may be unpredictable/hard to explain (because of contention, caching, noise/randomness).\n",
    "2. If there were any options you did NOT select, **choose any one of them and explain why you did not select it.**\n",
    "\n",
    "Your answer should be **no longer than 3 sentences.** **Explicitly state which answer option(s) you chose or didn't choose** in addition to your explanations. For example, you could write, \"I chose (A) because...\" or \"I did NOT choose (B) because...\""
   ]
  },
  {
   "cell_type": "markdown",
   "metadata": {
    "tags": [
     "otter_answer_cell"
    ]
   },
   "source": [
    "I chose (D) because the appearances_g_batting index reduced both the cost and execution time, which is consistent with the explain analyze output. I chose (E) because the salary_idx did not reduce the cost and execution time. I did not choose (F) because from the explain analyze for the salary_idx we can see that the cost did not reduce while it did for the appearances_g_batting index from beforehand. "
   ]
  },
  {
   "cell_type": "markdown",
   "metadata": {
    "deletable": false,
    "editable": false
   },
   "source": [
    "<!-- END QUESTION -->\n",
    "\n",
    "<br/><br/><br/>\n",
    "\n",
    "<hr style=\"border: 5px solid #003262;\" />\n",
    "<hr style=\"border: 1px solid #fdb515;\" />\n",
    "\n",
    "# Question 6: Indexes, Part 2\n",
    "\n",
    "Continue the analysis on how indexes impact query peformance."
   ]
  },
  {
   "cell_type": "markdown",
   "metadata": {},
   "source": [
    "Before continuing, make sure to drop all existing indexes from previous questions."
   ]
  },
  {
   "cell_type": "code",
   "execution_count": 81,
   "metadata": {},
   "outputs": [
    {
     "data": {
      "text/html": [
       "<span style=\"None\">Running query in &#x27;postgresql://jovyan@127.0.0.1:5432/baseball&#x27;</span>"
      ],
      "text/plain": [
       "Running query in 'postgresql://jovyan@127.0.0.1:5432/baseball'"
      ]
     },
     "metadata": {},
     "output_type": "display_data"
    },
    {
     "data": {
      "text/html": [
       "<span style=\"None\">Running query in &#x27;postgresql://jovyan@127.0.0.1:5432/baseball&#x27;</span>"
      ],
      "text/plain": [
       "Running query in 'postgresql://jovyan@127.0.0.1:5432/baseball'"
      ]
     },
     "metadata": {},
     "output_type": "display_data"
    },
    {
     "data": {
      "text/html": [
       "<table>\n",
       "    <thead>\n",
       "        <tr>\n",
       "        </tr>\n",
       "    </thead>\n",
       "    <tbody>\n",
       "    </tbody>\n",
       "</table>"
      ],
      "text/plain": [
       "++\n",
       "||\n",
       "++\n",
       "++"
      ]
     },
     "execution_count": 81,
     "metadata": {},
     "output_type": "execute_result"
    }
   ],
   "source": [
    "# you must run this cell!!!\n",
    "%sql DROP INDEX IF EXISTS appearances_batting_idx;\n",
    "%sql DROP INDEX IF EXISTS salary_idx;"
   ]
  },
  {
   "cell_type": "markdown",
   "metadata": {
    "deletable": false,
    "editable": false
   },
   "source": [
    "<br><br>\n",
    "\n",
    "---\n",
    "\n",
    "## Question 6a\n",
    "\n",
    "### Question 6ai\n",
    "\n",
    "Write a query that finds the `player_id`, `year_id`, and `salary` for each player that had played 10 games **and** batted in 10 games (the number of games in which a player played can be found in the `g_all` column of the `appearances` table and the number of games in which a player batted can be found in the `g_batting` column of the `appearances` table). Your query should join the `salaries` and `appearances` table on all the common columns `year_id`, `team_id`, and `player_id`, so feel free to use a natural join.\n",
    "\n",
    "Your table header should look like this:\n",
    "\n",
    "| player_id | year_id | salary |\n",
    "| --- | --- | --- |"
   ]
  },
  {
   "cell_type": "markdown",
   "metadata": {
    "deletable": false,
    "editable": false
   },
   "source": [
    "4. Finally, record the **cost** and **time** for the sample query. For all questions within this project, we will accept a range of values for your query costs and query timings."
   ]
  },
  {
   "cell_type": "code",
   "execution_count": 119,
   "metadata": {
    "tags": [
     "otter_answer_cell"
    ]
   },
   "outputs": [
    {
     "data": {
      "text/html": [
       "<span style=\"None\">Running query in &#x27;postgresql://jovyan@127.0.0.1:5432/baseball&#x27;</span>"
      ],
      "text/plain": [
       "Running query in 'postgresql://jovyan@127.0.0.1:5432/baseball'"
      ]
     },
     "metadata": {},
     "output_type": "display_data"
    },
    {
     "data": {
      "text/html": [
       "<span style=\"color: green\">120 rows affected.</span>"
      ],
      "text/plain": [
       "120 rows affected."
      ]
     },
     "metadata": {},
     "output_type": "display_data"
    }
   ],
   "source": [
    "%%sql --save query_6ai result_6ai <<\n",
    "SELECT s.player_id, s.year_id, s.salary\n",
    "FROM salaries AS s\n",
    "JOIN appearances AS a\n",
    "ON s.player_id = a.player_id\n",
    "AND s.year_id = a.year_id\n",
    "AND s.team_id = a.team_id\n",
    "WHERE a.g_all = 10\n",
    "AND a.g_batting = 10;"
   ]
  },
  {
   "cell_type": "code",
   "execution_count": 120,
   "metadata": {
    "tags": [
     "otter_answer_cell"
    ]
   },
   "outputs": [
    {
     "data": {
      "text/html": [
       "<div>\n",
       "<style scoped>\n",
       "    .dataframe tbody tr th:only-of-type {\n",
       "        vertical-align: middle;\n",
       "    }\n",
       "\n",
       "    .dataframe tbody tr th {\n",
       "        vertical-align: top;\n",
       "    }\n",
       "\n",
       "    .dataframe thead th {\n",
       "        text-align: right;\n",
       "    }\n",
       "</style>\n",
       "<table border=\"1\" class=\"dataframe\">\n",
       "  <thead>\n",
       "    <tr style=\"text-align: right;\">\n",
       "      <th></th>\n",
       "      <th>player_id</th>\n",
       "      <th>year_id</th>\n",
       "      <th>salary</th>\n",
       "    </tr>\n",
       "  </thead>\n",
       "  <tbody>\n",
       "    <tr>\n",
       "      <th>0</th>\n",
       "      <td>wiggial01</td>\n",
       "      <td>1985</td>\n",
       "      <td>512500.0</td>\n",
       "    </tr>\n",
       "    <tr>\n",
       "      <th>1</th>\n",
       "      <td>anderla02</td>\n",
       "      <td>1986</td>\n",
       "      <td>240000.0</td>\n",
       "    </tr>\n",
       "    <tr>\n",
       "      <th>2</th>\n",
       "      <td>lakest01</td>\n",
       "      <td>1986</td>\n",
       "      <td>60000.0</td>\n",
       "    </tr>\n",
       "  </tbody>\n",
       "</table>\n",
       "</div>"
      ],
      "text/plain": [
       "   player_id  year_id    salary\n",
       "0  wiggial01     1985  512500.0\n",
       "1  anderla02     1986  240000.0\n",
       "2   lakest01     1986   60000.0"
      ]
     },
     "execution_count": 120,
     "metadata": {},
     "output_type": "execute_result"
    }
   ],
   "source": [
    "# Do not delete/edit this cell!\n",
    "# You must run this cell before running the autograder.\n",
    "query_6ai = %sqlcmd snippets query_6ai\n",
    "grading_util.save_results(\"result_6ai\", query_6ai, result_6ai);\n",
    "\n",
    "result_6ai.DataFrame().head(3)"
   ]
  },
  {
   "cell_type": "code",
   "execution_count": 121,
   "metadata": {
    "deletable": false,
    "editable": false
   },
   "outputs": [
    {
     "data": {
      "text/html": [
       "<p><strong><pre style='display: inline;'>q6ai</pre></strong> passed! 🌈</p>"
      ],
      "text/plain": [
       "q6ai results: All test cases passed!"
      ]
     },
     "execution_count": 121,
     "metadata": {},
     "output_type": "execute_result"
    }
   ],
   "source": [
    "grader.check(\"q6ai\")"
   ]
  },
  {
   "cell_type": "markdown",
   "metadata": {
    "deletable": false,
    "editable": false
   },
   "source": [
    "### Question 6aii\n",
    "\n",
    "Inspect the query plan and record the execution time and cost."
   ]
  },
  {
   "cell_type": "code",
   "execution_count": 122,
   "metadata": {
    "deletable": false,
    "editable": false
   },
   "outputs": [
    {
     "name": "stdout",
     "output_type": "stream",
     "text": [
      "                                                             QUERY PLAN                                                              \n",
      "-------------------------------------------------------------------------------------------------------------------------------------\n",
      " Nested Loop  (cost=0.29..3301.99 rows=1 width=21) (actual time=6.890..13.106 rows=120 loops=1)\n",
      "   ->  Seq Scan on appearances a  (cost=0.00..3133.84 rows=20 width=17) (actual time=0.015..9.972 rows=1289 loops=1)\n",
      "         Filter: ((g_all = 10) AND (g_batting = 10))\n",
      "         Rows Removed by Filter: 102967\n",
      "   ->  Index Scan using salaries_pkey on salaries s  (cost=0.29..8.40 rows=1 width=25) (actual time=0.002..0.002 rows=0 loops=1289)\n",
      "         Index Cond: ((year_id = a.year_id) AND ((team_id)::text = (a.team_id)::text) AND ((player_id)::text = (a.player_id)::text))\n",
      " Planning Time: 1.325 ms\n",
      " Execution Time: 13.158 ms\n",
      "(8 rows)\n",
      "\n"
     ]
    }
   ],
   "source": [
    "!psql -h localhost -d baseball -c \"EXPLAIN ANALYZE {query_6ai}\";"
   ]
  },
  {
   "cell_type": "code",
   "execution_count": 123,
   "metadata": {
    "tags": [
     "otter_answer_cell"
    ]
   },
   "outputs": [],
   "source": [
    "result_6aii_cost = 3301.99\n",
    "result_6aii_timing = 13.158"
   ]
  },
  {
   "cell_type": "code",
   "execution_count": 124,
   "metadata": {
    "deletable": false,
    "editable": false
   },
   "outputs": [
    {
     "data": {
      "text/html": [
       "<p><strong><pre style='display: inline;'>6aii</pre></strong> passed! 🌟</p>"
      ],
      "text/plain": [
       "6aii results: All test cases passed!"
      ]
     },
     "execution_count": 124,
     "metadata": {},
     "output_type": "execute_result"
    }
   ],
   "source": [
    "grader.check(\"6aii\")"
   ]
  },
  {
   "cell_type": "markdown",
   "metadata": {
    "deletable": false,
    "editable": false
   },
   "source": [
    "## Question 6b\n",
    "\n",
    "### Question 6bi\n",
    "\n",
    "Write a query that finds the `player_id`, `year_id`, and `salary` for each player that had played 10 games __or__ batted in 10 games. Please use a natural join to join the `salaries` and `appearances` table on all the common columns `year_id`, `team_id`, and `player_id`.\n",
    "\n",
    "Your table header should look like this:\n",
    "\n",
    "| player_id | year_id | salary |\n",
    "| --- | --- | --- |"
   ]
  },
  {
   "cell_type": "code",
   "execution_count": 125,
   "metadata": {
    "tags": [
     "otter_answer_cell"
    ]
   },
   "outputs": [
    {
     "data": {
      "text/html": [
       "<span style=\"None\">Running query in &#x27;postgresql://jovyan@127.0.0.1:5432/baseball&#x27;</span>"
      ],
      "text/plain": [
       "Running query in 'postgresql://jovyan@127.0.0.1:5432/baseball'"
      ]
     },
     "metadata": {},
     "output_type": "display_data"
    },
    {
     "data": {
      "text/html": [
       "<span style=\"color: green\">216 rows affected.</span>"
      ],
      "text/plain": [
       "216 rows affected."
      ]
     },
     "metadata": {},
     "output_type": "display_data"
    }
   ],
   "source": [
    "%%sql --save query_6bi result_6bi <<\n",
    "SELECT s.player_id, s.year_id, s.salary\n",
    "FROM salaries AS s\n",
    "NATURAL JOIN appearances AS a\n",
    "WHERE a.g_all = 10 OR a.g_batting = 10\n",
    "GROUP BY s.player_id, s.year_id, s.salary;"
   ]
  },
  {
   "cell_type": "code",
   "execution_count": 126,
   "metadata": {
    "tags": [
     "otter_answer_cell"
    ]
   },
   "outputs": [
    {
     "data": {
      "text/html": [
       "<div>\n",
       "<style scoped>\n",
       "    .dataframe tbody tr th:only-of-type {\n",
       "        vertical-align: middle;\n",
       "    }\n",
       "\n",
       "    .dataframe tbody tr th {\n",
       "        vertical-align: top;\n",
       "    }\n",
       "\n",
       "    .dataframe thead th {\n",
       "        text-align: right;\n",
       "    }\n",
       "</style>\n",
       "<table border=\"1\" class=\"dataframe\">\n",
       "  <thead>\n",
       "    <tr style=\"text-align: right;\">\n",
       "      <th></th>\n",
       "      <th>player_id</th>\n",
       "      <th>year_id</th>\n",
       "      <th>salary</th>\n",
       "    </tr>\n",
       "  </thead>\n",
       "  <tbody>\n",
       "    <tr>\n",
       "      <th>0</th>\n",
       "      <td>abbotpa01</td>\n",
       "      <td>2004</td>\n",
       "      <td>600000.0</td>\n",
       "    </tr>\n",
       "    <tr>\n",
       "      <th>1</th>\n",
       "      <td>aceveal01</td>\n",
       "      <td>2010</td>\n",
       "      <td>435650.0</td>\n",
       "    </tr>\n",
       "    <tr>\n",
       "      <th>2</th>\n",
       "      <td>almanca01</td>\n",
       "      <td>2001</td>\n",
       "      <td>270000.0</td>\n",
       "    </tr>\n",
       "  </tbody>\n",
       "</table>\n",
       "</div>"
      ],
      "text/plain": [
       "   player_id  year_id    salary\n",
       "0  abbotpa01     2004  600000.0\n",
       "1  aceveal01     2010  435650.0\n",
       "2  almanca01     2001  270000.0"
      ]
     },
     "execution_count": 126,
     "metadata": {},
     "output_type": "execute_result"
    }
   ],
   "source": [
    "# Do not delete/edit this cell!\n",
    "# You must run this cell before running the autograder.\n",
    "query_6bi = %sqlcmd snippets query_6bi\n",
    "grading_util.save_results(\"result_6bi\", query_6bi, result_6bi);\n",
    "result_6bi.DataFrame().head(3)"
   ]
  },
  {
   "cell_type": "code",
   "execution_count": 127,
   "metadata": {
    "deletable": false,
    "editable": false
   },
   "outputs": [
    {
     "data": {
      "text/html": [
       "<p><strong><pre style='display: inline;'>q6bi</pre></strong> passed! 🙌</p>"
      ],
      "text/plain": [
       "q6bi results: All test cases passed!"
      ]
     },
     "execution_count": 127,
     "metadata": {},
     "output_type": "execute_result"
    }
   ],
   "source": [
    "grader.check(\"q6bi\")"
   ]
  },
  {
   "cell_type": "markdown",
   "metadata": {
    "deletable": false,
    "editable": false
   },
   "source": [
    "### Question 6bii\n",
    "\n",
    "Inspect the query plan and record the execution time and cost."
   ]
  },
  {
   "cell_type": "code",
   "execution_count": 230,
   "metadata": {
    "deletable": false,
    "editable": false
   },
   "outputs": [
    {
     "name": "stdout",
     "output_type": "stream",
     "text": [
      "                                                                                       QUERY PLAN                                                                                        \n",
      "-----------------------------------------------------------------------------------------------------------------------------------------------------------------------------------------\n",
      " Group  (cost=5435.40..5435.41 rows=1 width=20) (actual time=20.519..20.563 rows=216 loops=1)\n",
      "   Group Key: s.player_id, s.year_id, s.salary\n",
      "   ->  Sort  (cost=5435.40..5435.41 rows=1 width=20) (actual time=20.516..20.527 rows=216 loops=1)\n",
      "         Sort Key: s.player_id, s.year_id, s.salary\n",
      "         Sort Method: quicksort  Memory: 41kB\n",
      "         ->  Merge Join  (cost=3319.44..5435.39 rows=1 width=20) (actual time=12.495..20.324 rows=216 loops=1)\n",
      "               Merge Cond: ((s.year_id = a.year_id) AND ((s.team_id)::text = (a.team_id)::text) AND ((s.lg_id)::text = (a.lg_id)::text) AND ((s.player_id)::text = (a.player_id)::text))\n",
      "               ->  Index Scan using salaries_pkey on salaries s  (cost=0.42..23391.97 rows=326428 width=27) (actual time=0.024..5.001 rows=26429 loops=1)\n",
      "               ->  Sort  (cost=3297.90..3305.05 rows=2858 width=20) (actual time=12.078..12.178 rows=1655 loops=1)\n",
      "                     Sort Key: a.year_id, a.team_id, a.lg_id, a.player_id\n",
      "                     Sort Method: quicksort  Memory: 178kB\n",
      "                     ->  Seq Scan on appearances a  (cost=0.00..3133.84 rows=2858 width=20) (actual time=0.012..10.760 rows=1655 loops=1)\n",
      "                           Filter: ((g_all = 10) OR (g_batting = 10))\n",
      "                           Rows Removed by Filter: 102601\n",
      " Planning Time: 0.981 ms\n",
      " Execution Time: 20.733 ms\n",
      "(16 rows)\n",
      "\n"
     ]
    }
   ],
   "source": [
    "!psql -h localhost -d baseball -c \"EXPLAIN ANALYZE {query_6bi}\";"
   ]
  },
  {
   "cell_type": "code",
   "execution_count": 231,
   "metadata": {
    "tags": [
     "otter_answer_cell"
    ]
   },
   "outputs": [],
   "source": [
    "result_6bii_cost = 3927.80\n",
    "result_6bii_timing = 17.999"
   ]
  },
  {
   "cell_type": "code",
   "execution_count": 232,
   "metadata": {
    "deletable": false,
    "editable": false
   },
   "outputs": [
    {
     "data": {
      "text/html": [
       "<p><strong><pre style='display: inline;'>6bii</pre></strong> passed! ✨</p>"
      ],
      "text/plain": [
       "6bii results: All test cases passed!"
      ]
     },
     "execution_count": 232,
     "metadata": {},
     "output_type": "execute_result"
    }
   ],
   "source": [
    "grader.check(\"6bii\")"
   ]
  },
  {
   "cell_type": "markdown",
   "metadata": {
    "deletable": false,
    "editable": false
   },
   "source": [
    "## Question 6c\n",
    "Now, let's see the impact of adding an index on the `g_batting` column. Create an index on the `g_batting` column. Re-inspect the queries from `Question 6a` and `Question 6b` and record the respective execution costs and times."
   ]
  },
  {
   "cell_type": "code",
   "execution_count": 233,
   "metadata": {
    "tags": [
     "otter_answer_cell"
    ]
   },
   "outputs": [
    {
     "data": {
      "text/html": [
       "<span style=\"None\">Running query in &#x27;postgresql://jovyan@127.0.0.1:5432/baseball&#x27;</span>"
      ],
      "text/plain": [
       "Running query in 'postgresql://jovyan@127.0.0.1:5432/baseball'"
      ]
     },
     "metadata": {},
     "output_type": "display_data"
    },
    {
     "data": {
      "text/html": [
       "<table>\n",
       "    <thead>\n",
       "        <tr>\n",
       "        </tr>\n",
       "    </thead>\n",
       "    <tbody>\n",
       "    </tbody>\n",
       "</table>"
      ],
      "text/plain": [
       "++\n",
       "||\n",
       "++\n",
       "++"
      ]
     },
     "execution_count": 233,
     "metadata": {},
     "output_type": "execute_result"
    }
   ],
   "source": [
    "%%sql\n",
    "DROP INDEX IF EXISTS appearances_g_batting_idx;\n",
    "CREATE INDEX appearances_g_batting_idx ON appearances(g_batting) "
   ]
  },
  {
   "cell_type": "code",
   "execution_count": 234,
   "metadata": {
    "scrolled": true,
    "tags": [
     "otter_answer_cell"
    ]
   },
   "outputs": [
    {
     "name": "stdout",
     "output_type": "stream",
     "text": [
      "                                                                  QUERY PLAN                                                                   \n",
      "-----------------------------------------------------------------------------------------------------------------------------------------------\n",
      " Nested Loop  (cost=18.52..1926.19 rows=1 width=20) (actual time=2.423..5.274 rows=120 loops=1)\n",
      "   ->  Bitmap Heap Scan on appearances a  (cost=18.10..1606.59 rows=20 width=17) (actual time=0.346..1.871 rows=1289 loops=1)\n",
      "         Recheck Cond: (g_batting = 10)\n",
      "         Filter: (g_all = 10)\n",
      "         Rows Removed by Filter: 58\n",
      "         Heap Blocks: exact=899\n",
      "         ->  Bitmap Index Scan on appearances_g_batting_idx  (cost=0.00..18.10 rows=1307 width=0) (actual time=0.202..0.203 rows=1347 loops=1)\n",
      "               Index Cond: (g_batting = 10)\n",
      "   ->  Index Scan using salaries_pkey on salaries s  (cost=0.42..15.97 rows=1 width=24) (actual time=0.002..0.002 rows=0 loops=1289)\n",
      "         Index Cond: ((year_id = a.year_id) AND ((team_id)::text = (a.team_id)::text) AND ((player_id)::text = (a.player_id)::text))\n",
      " Planning Time: 1.158 ms\n",
      " Execution Time: 5.345 ms\n",
      "(12 rows)\n",
      "\n"
     ]
    }
   ],
   "source": [
    "# record the updated costs for Question 6a (\"and\" query)\n",
    "!psql -h localhost -d baseball -c \"EXPLAIN ANALYZE {query_6ai}\";"
   ]
  },
  {
   "cell_type": "code",
   "execution_count": 235,
   "metadata": {
    "tags": [
     "otter_answer_cell"
    ]
   },
   "outputs": [],
   "source": [
    "result_6c_and_index_cost = 1926.19\n",
    "result_6c_and_index_timing = 5.315"
   ]
  },
  {
   "cell_type": "code",
   "execution_count": 236,
   "metadata": {
    "tags": [
     "otter_answer_cell"
    ]
   },
   "outputs": [
    {
     "name": "stdout",
     "output_type": "stream",
     "text": [
      "                                                                                       QUERY PLAN                                                                                        \n",
      "-----------------------------------------------------------------------------------------------------------------------------------------------------------------------------------------\n",
      " Group  (cost=5435.40..5435.41 rows=1 width=20) (actual time=20.013..20.057 rows=216 loops=1)\n",
      "   Group Key: s.player_id, s.year_id, s.salary\n",
      "   ->  Sort  (cost=5435.40..5435.41 rows=1 width=20) (actual time=20.011..20.021 rows=216 loops=1)\n",
      "         Sort Key: s.player_id, s.year_id, s.salary\n",
      "         Sort Method: quicksort  Memory: 41kB\n",
      "         ->  Merge Join  (cost=3319.44..5435.39 rows=1 width=20) (actual time=11.992..19.810 rows=216 loops=1)\n",
      "               Merge Cond: ((s.year_id = a.year_id) AND ((s.team_id)::text = (a.team_id)::text) AND ((s.lg_id)::text = (a.lg_id)::text) AND ((s.player_id)::text = (a.player_id)::text))\n",
      "               ->  Index Scan using salaries_pkey on salaries s  (cost=0.42..23391.97 rows=326428 width=27) (actual time=0.022..4.987 rows=26429 loops=1)\n",
      "               ->  Sort  (cost=3297.90..3305.05 rows=2858 width=20) (actual time=11.703..11.779 rows=1655 loops=1)\n",
      "                     Sort Key: a.year_id, a.team_id, a.lg_id, a.player_id\n",
      "                     Sort Method: quicksort  Memory: 178kB\n",
      "                     ->  Seq Scan on appearances a  (cost=0.00..3133.84 rows=2858 width=20) (actual time=0.013..10.571 rows=1655 loops=1)\n",
      "                           Filter: ((g_all = 10) OR (g_batting = 10))\n",
      "                           Rows Removed by Filter: 102601\n",
      " Planning Time: 1.022 ms\n",
      " Execution Time: 20.205 ms\n",
      "(16 rows)\n",
      "\n"
     ]
    }
   ],
   "source": [
    "# record the updated costs for Question 6b (\"or\" query)\n",
    "!psql -h localhost -d baseball -c \"EXPLAIN ANALYZE {query_6bi}\";"
   ]
  },
  {
   "cell_type": "code",
   "execution_count": 237,
   "metadata": {
    "scrolled": true,
    "tags": [
     "otter_answer_cell"
    ]
   },
   "outputs": [],
   "source": [
    "result_6c_or_index_cost = 3927.80\n",
    "result_6c_or_index_timing = 17.967"
   ]
  },
  {
   "cell_type": "code",
   "execution_count": 238,
   "metadata": {
    "deletable": false,
    "editable": false
   },
   "outputs": [
    {
     "data": {
      "text/html": [
       "<p><strong><pre style='display: inline;'>q6c</pre></strong> passed! 🌈</p>"
      ],
      "text/plain": [
       "q6c results: All test cases passed!"
      ]
     },
     "execution_count": 238,
     "metadata": {},
     "output_type": "execute_result"
    }
   ],
   "source": [
    "grader.check(\"q6c\")"
   ]
  },
  {
   "cell_type": "markdown",
   "metadata": {
    "deletable": false,
    "editable": false
   },
   "source": [
    "<br/><br/>\n",
    "\n",
    "---\n",
    "\n",
    "## Question 6d: Multiple-attribute index\n",
    "\n",
    "Now, create a multiple column index on `g_batting` and `g_all` called `appearances_g_batting_all_idx` and record the query execution time and cost for the \"or\" command in `Question 6b`."
   ]
  },
  {
   "cell_type": "markdown",
   "metadata": {
    "deletable": false,
    "editable": false
   },
   "source": [
    "Before continuing, make sure to drop all existing indexes from previous questions."
   ]
  },
  {
   "cell_type": "code",
   "execution_count": null,
   "metadata": {
    "deletable": false,
    "editable": false
   },
   "outputs": [],
   "source": [
    "# you must run this cell!!!\n",
    "%sql DROP INDEX IF EXISTS appearances_g_batting_idx;\n",
    "%sql DROP INDEX IF EXISTS salary_idx;"
   ]
  },
  {
   "cell_type": "code",
   "execution_count": 135,
   "metadata": {
    "scrolled": true,
    "tags": [
     "otter_answer_cell"
    ]
   },
   "outputs": [
    {
     "data": {
      "text/html": [
       "<span style=\"None\">Running query in &#x27;postgresql://jovyan@127.0.0.1:5432/baseball&#x27;</span>"
      ],
      "text/plain": [
       "Running query in 'postgresql://jovyan@127.0.0.1:5432/baseball'"
      ]
     },
     "metadata": {},
     "output_type": "display_data"
    },
    {
     "data": {
      "text/html": [
       "<table>\n",
       "    <thead>\n",
       "        <tr>\n",
       "        </tr>\n",
       "    </thead>\n",
       "    <tbody>\n",
       "    </tbody>\n",
       "</table>"
      ],
      "text/plain": [
       "++\n",
       "||\n",
       "++\n",
       "++"
      ]
     },
     "execution_count": 135,
     "metadata": {},
     "output_type": "execute_result"
    }
   ],
   "source": [
    "%%sql\n",
    "DROP INDEX IF EXISTS appearances_g_batting_all_idx;\n",
    "CREATE INDEX appearances_g_batting_all_idx ON appearances (g_batting, g_all);"
   ]
  },
  {
   "cell_type": "code",
   "execution_count": 136,
   "metadata": {
    "scrolled": true,
    "tags": [
     "otter_answer_cell"
    ]
   },
   "outputs": [
    {
     "name": "stdout",
     "output_type": "stream",
     "text": [
      "                                                                                       QUERY PLAN                                                                                       \n",
      "----------------------------------------------------------------------------------------------------------------------------------------------------------------------------------------\n",
      " Group  (cost=3619.50..3619.51 rows=1 width=21) (actual time=9.771..9.814 rows=216 loops=1)\n",
      "   Group Key: s.player_id, s.year_id, s.salary\n",
      "   ->  Sort  (cost=3619.50..3619.50 rows=1 width=21) (actual time=9.768..9.779 rows=216 loops=1)\n",
      "         Sort Key: s.player_id, s.year_id, s.salary\n",
      "         Sort Method: quicksort  Memory: 41kB\n",
      "         ->  Hash Join  (cost=2882.71..3619.49 rows=1 width=21) (actual time=3.337..9.567 rows=216 loops=1)\n",
      "               Hash Cond: ((s.year_id = a.year_id) AND ((s.team_id)::text = (a.team_id)::text) AND ((s.lg_id)::text = (a.lg_id)::text) AND ((s.player_id)::text = (a.player_id)::text))\n",
      "               ->  Seq Scan on salaries s  (cost=0.00..459.28 rows=26428 width=28) (actual time=0.015..1.689 rows=26428 loops=1)\n",
      "               ->  Hash  (cost=2825.55..2825.55 rows=2858 width=20) (actual time=3.176..3.178 rows=1655 loops=1)\n",
      "                     Buckets: 4096  Batches: 1  Memory Usage: 118kB\n",
      "                     ->  Bitmap Heap Scan on appearances a  (cost=1181.74..2825.55 rows=2858 width=20) (actual time=1.190..2.752 rows=1655 loops=1)\n",
      "                           Recheck Cond: ((g_all = 10) OR (g_batting = 10))\n",
      "                           Heap Blocks: exact=1027\n",
      "                           ->  BitmapOr  (cost=1181.74..1181.74 rows=2877 width=0) (actual time=1.059..1.060 rows=0 loops=1)\n",
      "                                 ->  Bitmap Index Scan on appearances_g_batting_all_idx  (cost=0.00..1162.21 rows=1571 width=0) (actual time=1.011..1.011 rows=1597 loops=1)\n",
      "                                       Index Cond: (g_all = 10)\n",
      "                                 ->  Bitmap Index Scan on appearances_g_batting_all_idx  (cost=0.00..18.10 rows=1307 width=0) (actual time=0.047..0.048 rows=1347 loops=1)\n",
      "                                       Index Cond: (g_batting = 10)\n",
      " Planning Time: 1.395 ms\n",
      " Execution Time: 9.922 ms\n",
      "(20 rows)\n",
      "\n"
     ]
    }
   ],
   "source": [
    "# record the updated costs for Question 6b (\"or\" query)\n",
    "!psql -h localhost -d baseball -c \"EXPLAIN ANALYZE {query_6bi}\";"
   ]
  },
  {
   "cell_type": "code",
   "execution_count": 137,
   "metadata": {
    "tags": [
     "otter_answer_cell"
    ]
   },
   "outputs": [],
   "source": [
    "result_6d_multiple_col_index_cost = 3619.51\n",
    "result_6d_multiple_col_index_timing = 9.922"
   ]
  },
  {
   "cell_type": "code",
   "execution_count": 138,
   "metadata": {
    "deletable": false,
    "editable": false
   },
   "outputs": [
    {
     "data": {
      "text/html": [
       "<p><strong><pre style='display: inline;'>q6d</pre></strong> passed! 🚀</p>"
      ],
      "text/plain": [
       "q6d results: All test cases passed!"
      ]
     },
     "execution_count": 138,
     "metadata": {},
     "output_type": "execute_result"
    }
   ],
   "source": [
    "grader.check(\"q6d\")"
   ]
  },
  {
   "cell_type": "markdown",
   "metadata": {
    "deletable": false,
    "editable": false
   },
   "source": [
    "<br/><br/>\n",
    "\n",
    "---\n",
    "\n",
    "## Question 6e\n",
    "Given your findings from inspecting the query plans from all parts of this `Question 6`, assign the variable `q6e` to a list of **ALL** below statements that are true.\n",
    "\n",
    "A. Adding an index on a column used in an `AND` predicate will reduce the query cost _but not_ the execution time.<br/>\n",
    "B. Adding an index on a column used in an `AND` predicate will reduce the query cost _and_ the execution time.<br/>\n",
    "C. Adding an index on a column used in an `OR` predicate will reduce the query cost _but not_ the execution time.<br/>\n",
    "D. Adding an index on a column used in an `OR` predicate will reduce the query cost _and_ the execution time.<br/>\n",
    "E. Adding a multicolumn index on columns in an `OR` predicate will reduce the query cost _but not_ the execution time.<br/>\n",
    "F. Adding a multicolumn index on columns in an `OR` predicate will reduce the query cost _and_ the execution time.\n",
    "\n",
    "**Note:** Your answer should have the format like this if you think A and B are both true: `q6e = ['A', 'B']`. The autograder is **case sensitive** but order should not matter."
   ]
  },
  {
   "cell_type": "code",
   "execution_count": 139,
   "metadata": {
    "tags": [
     "otter_answer_cell"
    ]
   },
   "outputs": [],
   "source": [
    "q6e = ['B', 'D', 'F']"
   ]
  },
  {
   "cell_type": "code",
   "execution_count": 140,
   "metadata": {
    "deletable": false,
    "editable": false
   },
   "outputs": [
    {
     "data": {
      "text/html": [
       "<p><strong><pre style='display: inline;'>q6e</pre></strong> passed! ✨</p>"
      ],
      "text/plain": [
       "q6e results: All test cases passed!"
      ]
     },
     "execution_count": 140,
     "metadata": {},
     "output_type": "execute_result"
    }
   ],
   "source": [
    "grader.check(\"q6e\")"
   ]
  },
  {
   "cell_type": "markdown",
   "metadata": {
    "deletable": false,
    "editable": false
   },
   "source": [
    "<!-- BEGIN QUESTION -->\n",
    "\n",
    "### Question 6ei Justification\n",
    "\n",
    "1. **Explain your answer to `Question 6e`** above based on your understanding both of the **theoretical aspects of query planning and optimization discussed in class**, as well as EXPLAIN ANALYZE results - but bear in mind that sometimes EXPLAIN ANALYZE results may be unpredictable/hard to explain (because of contention, caching, noise/randomness).\n",
    "2. If there were any options you did NOT select, **choose any one of them and explain why you did not select it.**\n",
    "\n",
    "Your answer should be **no longer than 3 sentences** and **explicitly state which answer option(s) you chose or didn't choose** in addition to your explanations. For example, you could write, \"I chose (A) because...\" or \"I did NOT choose (B) because...\""
   ]
  },
  {
   "cell_type": "markdown",
   "metadata": {
    "tags": [
     "otter_answer_cell"
    ]
   },
   "source": [
    "I chose (B) because from the explain analyze we see that cost and execution time has gone down after indexing on a conjuction condition. I chose (D) because indexing on a column that is used in a disjunction condition also reduced the csot and execution time by using bitmap index scans. I chose (F) becuase using a multicolumn index on g_batting and g_all reduced cost and execution time by avoiding full table scans. I did not choose (A) becuase we saw that using a conjuction in the condition reduced the execution time by quickly filerting rows."
   ]
  },
  {
   "cell_type": "markdown",
   "metadata": {
    "deletable": false,
    "editable": false
   },
   "source": [
    "<!-- END QUESTION -->\n",
    "\n",
    "<br/><br/><br/>\n",
    "\n",
    "<hr style=\"border: 5px solid #003262;\" />\n",
    "<hr style=\"border: 1px solid #fdb515;\" />\n",
    "\n",
    "# Question 7: Indexes and Aggregations, Part 3\n",
    "\n",
    "Continue the analysis on how indexes impact query performance."
   ]
  },
  {
   "cell_type": "markdown",
   "metadata": {},
   "source": [
    "Before continuing, make sure to drop all existing indexes from previous questions."
   ]
  },
  {
   "cell_type": "code",
   "execution_count": 141,
   "metadata": {},
   "outputs": [
    {
     "data": {
      "text/html": [
       "<span style=\"None\">Running query in &#x27;postgresql://jovyan@127.0.0.1:5432/baseball&#x27;</span>"
      ],
      "text/plain": [
       "Running query in 'postgresql://jovyan@127.0.0.1:5432/baseball'"
      ]
     },
     "metadata": {},
     "output_type": "display_data"
    },
    {
     "data": {
      "text/html": [
       "<span style=\"None\">Running query in &#x27;postgresql://jovyan@127.0.0.1:5432/baseball&#x27;</span>"
      ],
      "text/plain": [
       "Running query in 'postgresql://jovyan@127.0.0.1:5432/baseball'"
      ]
     },
     "metadata": {},
     "output_type": "display_data"
    },
    {
     "data": {
      "text/html": [
       "<span style=\"None\">Running query in &#x27;postgresql://jovyan@127.0.0.1:5432/baseball&#x27;</span>"
      ],
      "text/plain": [
       "Running query in 'postgresql://jovyan@127.0.0.1:5432/baseball'"
      ]
     },
     "metadata": {},
     "output_type": "display_data"
    },
    {
     "data": {
      "text/html": [
       "<table>\n",
       "    <thead>\n",
       "        <tr>\n",
       "        </tr>\n",
       "    </thead>\n",
       "    <tbody>\n",
       "    </tbody>\n",
       "</table>"
      ],
      "text/plain": [
       "++\n",
       "||\n",
       "++\n",
       "++"
      ]
     },
     "execution_count": 141,
     "metadata": {},
     "output_type": "execute_result"
    }
   ],
   "source": [
    "# you must run this cell!!!\n",
    "%sql DROP INDEX IF EXISTS appearances_g_batting_idx;\n",
    "%sql DROP INDEX IF EXISTS salary_idx;\n",
    "%sql DROP INDEX IF EXISTS appearances_g_batting_all_idx;"
   ]
  },
  {
   "cell_type": "markdown",
   "metadata": {},
   "source": [
    "---\n",
    "\n",
    "## Question 7a\n",
    "\n",
    "Write 2 queries, one that finds the minimum salary from the salary table `salaries` and one that finds the average. Inspect the queries' query plans and record their execution times and costs."
   ]
  },
  {
   "cell_type": "markdown",
   "metadata": {
    "deletable": false,
    "editable": false
   },
   "source": [
    "### Question 7ai\n",
    "\n",
    "**Find the minimum salary.** Call this column `min_salary`.\n",
    "\n",
    "Your table header should look like this:\n",
    "\n",
    "| min_salary |\n",
    "| --- |"
   ]
  },
  {
   "cell_type": "code",
   "execution_count": 142,
   "metadata": {
    "tags": [
     "otter_answer_cell"
    ]
   },
   "outputs": [
    {
     "data": {
      "text/html": [
       "<span style=\"None\">Running query in &#x27;postgresql://jovyan@127.0.0.1:5432/baseball&#x27;</span>"
      ],
      "text/plain": [
       "Running query in 'postgresql://jovyan@127.0.0.1:5432/baseball'"
      ]
     },
     "metadata": {},
     "output_type": "display_data"
    },
    {
     "data": {
      "text/html": [
       "<span style=\"color: green\">1 rows affected.</span>"
      ],
      "text/plain": [
       "1 rows affected."
      ]
     },
     "metadata": {},
     "output_type": "display_data"
    }
   ],
   "source": [
    "%%sql --save query_7ai result_7ai <<\n",
    "SELECT MIN(salary) AS min_salary \n",
    "FROM salaries;"
   ]
  },
  {
   "cell_type": "code",
   "execution_count": 143,
   "metadata": {
    "tags": [
     "otter_answer_cell"
    ]
   },
   "outputs": [
    {
     "data": {
      "text/html": [
       "<table>\n",
       "    <thead>\n",
       "        <tr>\n",
       "            <th>min_salary</th>\n",
       "        </tr>\n",
       "    </thead>\n",
       "    <tbody>\n",
       "        <tr>\n",
       "            <td>0.0</td>\n",
       "        </tr>\n",
       "    </tbody>\n",
       "</table>"
      ],
      "text/plain": [
       "+------------+\n",
       "| min_salary |\n",
       "+------------+\n",
       "|    0.0     |\n",
       "+------------+"
      ]
     },
     "metadata": {},
     "output_type": "display_data"
    },
    {
     "name": "stdout",
     "output_type": "stream",
     "text": [
      "                                                    QUERY PLAN                                                    \n",
      "------------------------------------------------------------------------------------------------------------------\n",
      " Aggregate  (cost=525.35..525.36 rows=1 width=8) (actual time=3.655..3.657 rows=1 loops=1)\n",
      "   ->  Seq Scan on salaries  (cost=0.00..459.28 rows=26428 width=8) (actual time=0.033..1.639 rows=26428 loops=1)\n",
      " Planning Time: 0.323 ms\n",
      " Execution Time: 3.738 ms\n",
      "(4 rows)\n",
      "\n"
     ]
    }
   ],
   "source": [
    "# Do not delete/edit this cell!\n",
    "# You must run this cell before running the autograder.\n",
    "query_7ai = %sqlcmd snippets query_7ai\n",
    "grading_util.save_results(\"result_7ai\", query_7ai, result_7ai);\n",
    "\n",
    "display(result_7ai)\n",
    "\n",
    "!psql -h localhost -d baseball -c \"EXPLAIN ANALYZE {query_7ai}\";"
   ]
  },
  {
   "cell_type": "code",
   "execution_count": 144,
   "metadata": {
    "tags": [
     "otter_answer_cell"
    ]
   },
   "outputs": [],
   "source": [
    "result_7ai_query_cost = 525.35\n",
    "result_7ai_query_timing = 3.738"
   ]
  },
  {
   "cell_type": "code",
   "execution_count": 145,
   "metadata": {
    "deletable": false,
    "editable": false
   },
   "outputs": [
    {
     "data": {
      "text/html": [
       "<p><strong><pre style='display: inline;'>q7ai</pre></strong> passed! 🎉</p>"
      ],
      "text/plain": [
       "q7ai results: All test cases passed!"
      ]
     },
     "execution_count": 145,
     "metadata": {},
     "output_type": "execute_result"
    }
   ],
   "source": [
    "grader.check(\"q7ai\")"
   ]
  },
  {
   "cell_type": "markdown",
   "metadata": {
    "deletable": false,
    "editable": false
   },
   "source": [
    "### Question 7aii\n",
    "\n",
    "**Find the average salary.** Call this column `average_salary`.\n",
    "\n",
    "Your table header should look like this:\n",
    "\n",
    "| average_salary |\n",
    "| --- |"
   ]
  },
  {
   "cell_type": "code",
   "execution_count": 146,
   "metadata": {
    "tags": [
     "otter_answer_cell"
    ]
   },
   "outputs": [
    {
     "data": {
      "text/html": [
       "<span style=\"None\">Running query in &#x27;postgresql://jovyan@127.0.0.1:5432/baseball&#x27;</span>"
      ],
      "text/plain": [
       "Running query in 'postgresql://jovyan@127.0.0.1:5432/baseball'"
      ]
     },
     "metadata": {},
     "output_type": "display_data"
    },
    {
     "data": {
      "text/html": [
       "<span style=\"color: green\">1 rows affected.</span>"
      ],
      "text/plain": [
       "1 rows affected."
      ]
     },
     "metadata": {},
     "output_type": "display_data"
    }
   ],
   "source": [
    "%%sql --save query_7aii result_7aii <<\n",
    "SELECT AVG(salary) AS average_salary \n",
    "FROM salaries\n",
    ";"
   ]
  },
  {
   "cell_type": "code",
   "execution_count": 147,
   "metadata": {
    "tags": [
     "otter_answer_cell"
    ]
   },
   "outputs": [
    {
     "data": {
      "text/html": [
       "<table>\n",
       "    <thead>\n",
       "        <tr>\n",
       "            <th>average_salary</th>\n",
       "        </tr>\n",
       "    </thead>\n",
       "    <tbody>\n",
       "        <tr>\n",
       "            <td>2085634.053125473</td>\n",
       "        </tr>\n",
       "    </tbody>\n",
       "</table>"
      ],
      "text/plain": [
       "+-------------------+\n",
       "|   average_salary  |\n",
       "+-------------------+\n",
       "| 2085634.053125473 |\n",
       "+-------------------+"
      ]
     },
     "metadata": {},
     "output_type": "display_data"
    },
    {
     "name": "stdout",
     "output_type": "stream",
     "text": [
      "                                                    QUERY PLAN                                                    \n",
      "------------------------------------------------------------------------------------------------------------------\n",
      " Aggregate  (cost=525.35..525.36 rows=1 width=8) (actual time=4.098..4.098 rows=1 loops=1)\n",
      "   ->  Seq Scan on salaries  (cost=0.00..459.28 rows=26428 width=8) (actual time=0.009..1.573 rows=26428 loops=1)\n",
      " Planning Time: 0.277 ms\n",
      " Execution Time: 4.153 ms\n",
      "(4 rows)\n",
      "\n"
     ]
    }
   ],
   "source": [
    "# Do not delete/edit this cell!\n",
    "# You must run this cell before running the autograder.\n",
    "query_7aii = %sqlcmd snippets query_7aii\n",
    "grading_util.save_results(\"result_7aii\", query_7aii, result_7aii);\n",
    "\n",
    "display(result_7aii)\n",
    "\n",
    "!psql -h localhost -d baseball -c \"EXPLAIN ANALYZE {query_7aii}\";"
   ]
  },
  {
   "cell_type": "code",
   "execution_count": 149,
   "metadata": {
    "tags": [
     "otter_answer_cell"
    ]
   },
   "outputs": [],
   "source": [
    "result_7aii_query_cost = 525.36\n",
    "result_7aii_query_timing = 4.153"
   ]
  },
  {
   "cell_type": "code",
   "execution_count": 150,
   "metadata": {
    "deletable": false,
    "editable": false
   },
   "outputs": [
    {
     "data": {
      "text/html": [
       "<p><strong><pre style='display: inline;'>q7aii</pre></strong> passed! 🌈</p>"
      ],
      "text/plain": [
       "q7aii results: All test cases passed!"
      ]
     },
     "execution_count": 150,
     "metadata": {},
     "output_type": "execute_result"
    }
   ],
   "source": [
    "grader.check(\"q7aii\")"
   ]
  },
  {
   "cell_type": "markdown",
   "metadata": {
    "deletable": false,
    "editable": false
   },
   "source": [
    "<br><br>\n",
    "\n",
    "---\n",
    "## Question 7b\n",
    "Create an index on the `salary` column in the `salaries` table and re-inspect the query plans from the previous part and record the respective execution time and cost."
   ]
  },
  {
   "cell_type": "code",
   "execution_count": 155,
   "metadata": {
    "tags": [
     "otter_answer_cell"
    ]
   },
   "outputs": [
    {
     "data": {
      "text/html": [
       "<span style=\"None\">Running query in &#x27;postgresql://jovyan@127.0.0.1:5432/baseball&#x27;</span>"
      ],
      "text/plain": [
       "Running query in 'postgresql://jovyan@127.0.0.1:5432/baseball'"
      ]
     },
     "metadata": {},
     "output_type": "display_data"
    },
    {
     "data": {
      "text/html": [
       "<table>\n",
       "    <thead>\n",
       "        <tr>\n",
       "        </tr>\n",
       "    </thead>\n",
       "    <tbody>\n",
       "    </tbody>\n",
       "</table>"
      ],
      "text/plain": [
       "++\n",
       "||\n",
       "++\n",
       "++"
      ]
     },
     "execution_count": 155,
     "metadata": {},
     "output_type": "execute_result"
    }
   ],
   "source": [
    "%%sql\n",
    "DROP INDEX IF EXISTS salary_idx;\n",
    "CREATE INDEX salary_idx ON salaries(salary);"
   ]
  },
  {
   "cell_type": "code",
   "execution_count": 156,
   "metadata": {
    "tags": [
     "otter_answer_cell"
    ]
   },
   "outputs": [
    {
     "name": "stdout",
     "output_type": "stream",
     "text": [
      "                                                                  QUERY PLAN                                                                  \n",
      "----------------------------------------------------------------------------------------------------------------------------------------------\n",
      " Result  (cost=0.32..0.33 rows=1 width=8) (actual time=0.060..0.061 rows=1 loops=1)\n",
      "   InitPlan 1 (returns $0)\n",
      "     ->  Limit  (cost=0.29..0.32 rows=1 width=8) (actual time=0.058..0.058 rows=1 loops=1)\n",
      "           ->  Index Only Scan using salary_idx on salaries  (cost=0.29..762.78 rows=26428 width=8) (actual time=0.057..0.057 rows=1 loops=1)\n",
      "                 Index Cond: (salary IS NOT NULL)\n",
      "                 Heap Fetches: 0\n",
      " Planning Time: 0.468 ms\n",
      " Execution Time: 0.104 ms\n",
      "(8 rows)\n",
      "\n"
     ]
    }
   ],
   "source": [
    "# record the updated costs for \"min\" query\n",
    "!psql -h localhost -d baseball -c \"EXPLAIN ANALYZE {query_7ai}\";"
   ]
  },
  {
   "cell_type": "code",
   "execution_count": 157,
   "metadata": {
    "tags": [
     "otter_answer_cell"
    ]
   },
   "outputs": [],
   "source": [
    "result_7b_min_query_cost = 0.33\n",
    "result_7b_min_query_timing = 0.094"
   ]
  },
  {
   "cell_type": "code",
   "execution_count": 158,
   "metadata": {
    "tags": [
     "otter_answer_cell"
    ]
   },
   "outputs": [
    {
     "name": "stdout",
     "output_type": "stream",
     "text": [
      "                                                    QUERY PLAN                                                    \n",
      "------------------------------------------------------------------------------------------------------------------\n",
      " Aggregate  (cost=525.35..525.36 rows=1 width=8) (actual time=4.572..4.573 rows=1 loops=1)\n",
      "   ->  Seq Scan on salaries  (cost=0.00..459.28 rows=26428 width=8) (actual time=0.010..1.700 rows=26428 loops=1)\n",
      " Planning Time: 0.437 ms\n",
      " Execution Time: 4.644 ms\n",
      "(4 rows)\n",
      "\n"
     ]
    }
   ],
   "source": [
    "# record the updated costs for \"avg\" query\n",
    "!psql -h localhost -d baseball -c \"EXPLAIN ANALYZE {query_7aii}\";"
   ]
  },
  {
   "cell_type": "code",
   "execution_count": 159,
   "metadata": {
    "tags": [
     "otter_answer_cell"
    ]
   },
   "outputs": [],
   "source": [
    "result_7b_avg_query_cost = 525.36\n",
    "result_7b_avg_query_timing = 4.213"
   ]
  },
  {
   "cell_type": "code",
   "execution_count": 160,
   "metadata": {
    "deletable": false,
    "editable": false
   },
   "outputs": [
    {
     "data": {
      "text/html": [
       "<p><strong><pre style='display: inline;'>q7b</pre></strong> passed! ✨</p>"
      ],
      "text/plain": [
       "q7b results: All test cases passed!"
      ]
     },
     "execution_count": 160,
     "metadata": {},
     "output_type": "execute_result"
    }
   ],
   "source": [
    "grader.check(\"q7b\")"
   ]
  },
  {
   "cell_type": "markdown",
   "metadata": {
    "deletable": false,
    "editable": false
   },
   "source": [
    "<!-- BEGIN QUESTION -->\n",
    "\n",
    "<br><br>\n",
    "\n",
    "---\n",
    "\n",
    "## Question 7c\n",
    "Given your findings from `Question 7`, which of the following statements is true? **Select one.**\n",
    "\n",
    "<br> A. An index on the column being aggregated in a query will always provide a performance enhancement.\n",
    "<br> B. A query finding the `MIN(salary)` will always benefit from an index on salary, but a query finding `MAX(salary)` will not.\n",
    "<br> C. A query finding the `COUNT(salary)` will always benefit from an index on salary, but a query finding `AVG(salary)` will not.\n",
    "<br> D. Queries finding the `MIN(salary)` or `MAX(salary)` will always benefit from an index on salary, but queries finding `AVG(salary)` or `COUNT(salary)` will not.\n",
    "\n",
    "**State and justify your answer.**\n",
    "\n",
    "1. **Explain your answer** based on your understanding both of the **theoretical aspects of query planning and optimization discussed in class**, as well as EXPLAIN ANALYZE results - but bear in mind that sometimes EXPLAIN ANALYZE results may be unpredictable/hard to explain (because of contention, caching, noise/randomness).\n",
    "2. **Of the answer options you did not select, choose any one of them and explain why that option is wrong.**\n",
    "\n",
    "Your response should be no longer than 3 sentences.\n",
    " \n",
    "**Note:** Your answer should be formatted as follows: `(A) because ...` and `Not (A) because ...`"
   ]
  },
  {
   "cell_type": "markdown",
   "metadata": {
    "tags": [
     "otter_answer_cell"
    ]
   },
   "source": [
    "I chose (D) because from above we can see the query using AVG did not reduce in cost and execution time since it must still scan all rows while MIN can use index to its advantage and only scan first or last entry. Not (A) because it is not true that indexing will always help reduce cost and time when operations require the entire dataset."
   ]
  },
  {
   "cell_type": "markdown",
   "metadata": {
    "deletable": false,
    "editable": false
   },
   "source": [
    "<!-- END QUESTION -->\n",
    "\n",
    "<br/><br/><br/>\n",
    "\n",
    "<hr style=\"border: 5px solid #003262;\" />\n",
    "<hr style=\"border: 1px solid #fdb515;\" />\n",
    "\n",
    "# Question 8: Clustered Indexes\n",
    "In this question, we will inspect the impact that clustering our data on an index can have on a query's performance."
   ]
  },
  {
   "cell_type": "markdown",
   "metadata": {},
   "source": [
    "Before continuing, make sure to drop all existing indexes from previous questions."
   ]
  },
  {
   "cell_type": "code",
   "execution_count": 161,
   "metadata": {},
   "outputs": [
    {
     "data": {
      "text/html": [
       "<span style=\"None\">Running query in &#x27;postgresql://jovyan@127.0.0.1:5432/baseball&#x27;</span>"
      ],
      "text/plain": [
       "Running query in 'postgresql://jovyan@127.0.0.1:5432/baseball'"
      ]
     },
     "metadata": {},
     "output_type": "display_data"
    },
    {
     "data": {
      "text/html": [
       "<span style=\"None\">Running query in &#x27;postgresql://jovyan@127.0.0.1:5432/baseball&#x27;</span>"
      ],
      "text/plain": [
       "Running query in 'postgresql://jovyan@127.0.0.1:5432/baseball'"
      ]
     },
     "metadata": {},
     "output_type": "display_data"
    },
    {
     "data": {
      "text/html": [
       "<span style=\"None\">Running query in &#x27;postgresql://jovyan@127.0.0.1:5432/baseball&#x27;</span>"
      ],
      "text/plain": [
       "Running query in 'postgresql://jovyan@127.0.0.1:5432/baseball'"
      ]
     },
     "metadata": {},
     "output_type": "display_data"
    },
    {
     "data": {
      "text/html": [
       "<table>\n",
       "    <thead>\n",
       "        <tr>\n",
       "        </tr>\n",
       "    </thead>\n",
       "    <tbody>\n",
       "    </tbody>\n",
       "</table>"
      ],
      "text/plain": [
       "++\n",
       "||\n",
       "++\n",
       "++"
      ]
     },
     "execution_count": 161,
     "metadata": {},
     "output_type": "execute_result"
    }
   ],
   "source": [
    "# you must run this cell!!!\n",
    "%sql DROP INDEX IF EXISTS appearances_g_batting_idx;\n",
    "%sql DROP INDEX IF EXISTS salary_idx;\n",
    "%sql DROP INDEX IF EXISTS appearances_g_batting_all_idx;"
   ]
  },
  {
   "cell_type": "markdown",
   "metadata": {
    "deletable": false,
    "editable": false
   },
   "source": [
    "---\n",
    "\n",
    "## Question 8a\n",
    "\n",
    "### Question 8ai\n",
    "\n",
    "Write a query that finds the `player_id`, `year_id`, `team_id`, and `ab` for all players whose `ab` was above 500. Inspect the query plan and record the execution time and cost. Your table header should look like this:\n",
    "\n",
    "| player_id | year_id | team_id | ab |\n",
    "| --- | --- | --- | --- |\n",
    "\n",
    "Optional: AB, short for [\"At bat\"](https://en.wikipedia.org/wiki/At_bat), is a baseball player statistic."
   ]
  },
  {
   "cell_type": "code",
   "execution_count": 170,
   "metadata": {
    "tags": [
     "otter_answer_cell"
    ]
   },
   "outputs": [
    {
     "data": {
      "text/html": [
       "<span style=\"None\">Running query in &#x27;postgresql://jovyan@127.0.0.1:5432/baseball&#x27;</span>"
      ],
      "text/plain": [
       "Running query in 'postgresql://jovyan@127.0.0.1:5432/baseball'"
      ]
     },
     "metadata": {},
     "output_type": "display_data"
    },
    {
     "data": {
      "text/html": [
       "<span style=\"color: green\">8839 rows affected.</span>"
      ],
      "text/plain": [
       "8839 rows affected."
      ]
     },
     "metadata": {},
     "output_type": "display_data"
    }
   ],
   "source": [
    "%%sql --save query_8ai result_8ai <<\n",
    "SELECT player_id, year_id, team_id, ab\n",
    "FROM batting\n",
    "WHERE ab > 500;"
   ]
  },
  {
   "cell_type": "code",
   "execution_count": 171,
   "metadata": {
    "tags": [
     "otter_answer_cell"
    ]
   },
   "outputs": [
    {
     "data": {
      "text/html": [
       "<div>\n",
       "<style scoped>\n",
       "    .dataframe tbody tr th:only-of-type {\n",
       "        vertical-align: middle;\n",
       "    }\n",
       "\n",
       "    .dataframe tbody tr th {\n",
       "        vertical-align: top;\n",
       "    }\n",
       "\n",
       "    .dataframe thead th {\n",
       "        text-align: right;\n",
       "    }\n",
       "</style>\n",
       "<table border=\"1\" class=\"dataframe\">\n",
       "  <thead>\n",
       "    <tr style=\"text-align: right;\">\n",
       "      <th></th>\n",
       "      <th>player_id</th>\n",
       "      <th>year_id</th>\n",
       "      <th>team_id</th>\n",
       "      <th>ab</th>\n",
       "    </tr>\n",
       "  </thead>\n",
       "  <tbody>\n",
       "    <tr>\n",
       "      <th>0</th>\n",
       "      <td>dalryab01</td>\n",
       "      <td>1884</td>\n",
       "      <td>CHN</td>\n",
       "      <td>521</td>\n",
       "    </tr>\n",
       "    <tr>\n",
       "      <th>1</th>\n",
       "      <td>hornujo01</td>\n",
       "      <td>1884</td>\n",
       "      <td>BSN</td>\n",
       "      <td>518</td>\n",
       "    </tr>\n",
       "    <tr>\n",
       "      <th>2</th>\n",
       "      <td>ansonca01</td>\n",
       "      <td>1886</td>\n",
       "      <td>CHN</td>\n",
       "      <td>504</td>\n",
       "    </tr>\n",
       "  </tbody>\n",
       "</table>\n",
       "</div>"
      ],
      "text/plain": [
       "   player_id  year_id team_id   ab\n",
       "0  dalryab01     1884     CHN  521\n",
       "1  hornujo01     1884     BSN  518\n",
       "2  ansonca01     1886     CHN  504"
      ]
     },
     "execution_count": 171,
     "metadata": {},
     "output_type": "execute_result"
    }
   ],
   "source": [
    "# Do not delete/edit this cell!\n",
    "# You must run this cell before running the autograder.\n",
    "query_8ai = %sqlcmd snippets query_8ai\n",
    "grading_util.save_results(\"result_8ai\", query_8ai, result_8ai);\n",
    "result_8ai.DataFrame().head(3)"
   ]
  },
  {
   "cell_type": "code",
   "execution_count": 172,
   "metadata": {
    "deletable": false,
    "editable": false
   },
   "outputs": [
    {
     "data": {
      "text/html": [
       "<p><strong><pre style='display: inline;'>q8ai</pre></strong> passed! 🚀</p>"
      ],
      "text/plain": [
       "q8ai results: All test cases passed!"
      ]
     },
     "execution_count": 172,
     "metadata": {},
     "output_type": "execute_result"
    }
   ],
   "source": [
    "grader.check(\"q8ai\")"
   ]
  },
  {
   "cell_type": "markdown",
   "metadata": {
    "deletable": false,
    "editable": false
   },
   "source": [
    "### Question 8aii\n",
    "\n",
    "Inspect the query plan and record the execution time and cost."
   ]
  },
  {
   "cell_type": "code",
   "execution_count": 173,
   "metadata": {
    "deletable": false,
    "editable": false
   },
   "outputs": [
    {
     "name": "stdout",
     "output_type": "stream",
     "text": [
      "                                                 QUERY PLAN                                                 \n",
      "------------------------------------------------------------------------------------------------------------\n",
      " Seq Scan on batting  (cost=0.00..2884.05 rows=8896 width=21) (actual time=0.207..12.644 rows=8839 loops=1)\n",
      "   Filter: (ab > 500)\n",
      "   Rows Removed by Filter: 95485\n",
      " Planning Time: 0.278 ms\n",
      " Execution Time: 12.971 ms\n",
      "(5 rows)\n",
      "\n"
     ]
    }
   ],
   "source": [
    "!psql -h localhost -d baseball -c \"EXPLAIN ANALYZE {query_8ai}\";"
   ]
  },
  {
   "cell_type": "code",
   "execution_count": 174,
   "metadata": {
    "tags": [
     "otter_answer_cell"
    ]
   },
   "outputs": [],
   "source": [
    "result_8aii_cost = 2884.05\n",
    "result_8aii_timing = 12.971"
   ]
  },
  {
   "cell_type": "code",
   "execution_count": 179,
   "metadata": {
    "deletable": false,
    "editable": false
   },
   "outputs": [
    {
     "data": {
      "text/html": [
       "<p><strong><pre style='display: inline;'>8aii</pre></strong> passed! ✨</p>"
      ],
      "text/plain": [
       "8aii results: All test cases passed!"
      ]
     },
     "execution_count": 179,
     "metadata": {},
     "output_type": "execute_result"
    }
   ],
   "source": [
    "grader.check(\"8aii\")"
   ]
  },
  {
   "cell_type": "markdown",
   "metadata": {
    "deletable": false,
    "editable": false
   },
   "source": [
    "<br><br>\n",
    "\n",
    "---\n",
    "\n",
    "## Question 8b\n",
    "\n",
    "Cluster the `batting` table on its primary key (Hint: use the psql meta-command `\\di` or `\\d batting` to find out what name of the primary key is). We are able to directly cluster on the primary key (without first creating a separate index) because Postgres automatically creates an index for it.\n",
    "\n",
    "Then, re-inspect the query plan for the query from `Question 8a` and record the execution time and cost."
   ]
  },
  {
   "cell_type": "code",
   "execution_count": 183,
   "metadata": {
    "tags": [
     "otter_answer_cell"
    ]
   },
   "outputs": [
    {
     "data": {
      "text/html": [
       "<span style=\"None\">Running query in &#x27;postgresql://jovyan@127.0.0.1:5432/baseball&#x27;</span>"
      ],
      "text/plain": [
       "Running query in 'postgresql://jovyan@127.0.0.1:5432/baseball'"
      ]
     },
     "metadata": {},
     "output_type": "display_data"
    },
    {
     "data": {
      "text/html": [
       "<table>\n",
       "    <thead>\n",
       "        <tr>\n",
       "        </tr>\n",
       "    </thead>\n",
       "    <tbody>\n",
       "    </tbody>\n",
       "</table>"
      ],
      "text/plain": [
       "++\n",
       "||\n",
       "++\n",
       "++"
      ]
     },
     "execution_count": 183,
     "metadata": {},
     "output_type": "execute_result"
    }
   ],
   "source": [
    "%%sql\n",
    "CLUSTER batting USING batting_pkey;"
   ]
  },
  {
   "cell_type": "code",
   "execution_count": 184,
   "metadata": {
    "tags": [
     "otter_answer_cell"
    ]
   },
   "outputs": [
    {
     "name": "stdout",
     "output_type": "stream",
     "text": [
      "                                                 QUERY PLAN                                                 \n",
      "------------------------------------------------------------------------------------------------------------\n",
      " Seq Scan on batting  (cost=0.00..2878.05 rows=8896 width=21) (actual time=0.012..12.413 rows=8839 loops=1)\n",
      "   Filter: (ab > 500)\n",
      "   Rows Removed by Filter: 95485\n",
      " Planning Time: 0.372 ms\n",
      " Execution Time: 12.708 ms\n",
      "(5 rows)\n",
      "\n"
     ]
    }
   ],
   "source": [
    "# check the updated costs for query in Question 8a\n",
    "!psql -h localhost -d baseball -c \"EXPLAIN ANALYZE {query_8ai}\";"
   ]
  },
  {
   "cell_type": "code",
   "execution_count": 187,
   "metadata": {
    "tags": [
     "otter_answer_cell"
    ]
   },
   "outputs": [],
   "source": [
    "result_8b_cost = 2878.05\n",
    "result_8b_timing = 12.708"
   ]
  },
  {
   "cell_type": "code",
   "execution_count": 188,
   "metadata": {
    "deletable": false,
    "editable": false
   },
   "outputs": [
    {
     "data": {
      "text/html": [
       "<p><strong><pre style='display: inline;'>q8b</pre></strong> passed! 💯</p>"
      ],
      "text/plain": [
       "q8b results: All test cases passed!"
      ]
     },
     "execution_count": 188,
     "metadata": {},
     "output_type": "execute_result"
    }
   ],
   "source": [
    "grader.check(\"q8b\")"
   ]
  },
  {
   "cell_type": "markdown",
   "metadata": {},
   "source": [
    "<br><br>\n",
    "\n",
    "---\n",
    "\n",
    "## Question 8c\n",
    "\n",
    "Now, let's try clustering the table based on another index. Create an index on `ab` column called `ab_idx` in the `batting` table AND cluster the `batting` table with this new index. Now, re-inspect the query plan and record the execution time and cost."
   ]
  },
  {
   "cell_type": "code",
   "execution_count": 189,
   "metadata": {
    "tags": [
     "otter_answer_cell"
    ]
   },
   "outputs": [
    {
     "data": {
      "text/html": [
       "<span style=\"None\">Running query in &#x27;postgresql://jovyan@127.0.0.1:5432/baseball&#x27;</span>"
      ],
      "text/plain": [
       "Running query in 'postgresql://jovyan@127.0.0.1:5432/baseball'"
      ]
     },
     "metadata": {},
     "output_type": "display_data"
    }
   ],
   "source": [
    "%%sql --save query_8c result_8c <<\n",
    "DROP INDEX IF EXISTS ab_idx;\n",
    "CREATE INDEX ab_idx ON batting(ab)"
   ]
  },
  {
   "cell_type": "code",
   "execution_count": 190,
   "metadata": {
    "scrolled": true,
    "tags": [
     "otter_answer_cell"
    ]
   },
   "outputs": [
    {
     "name": "stdout",
     "output_type": "stream",
     "text": [
      "                                                      QUERY PLAN                                                      \n",
      "----------------------------------------------------------------------------------------------------------------------\n",
      " Bitmap Heap Scan on batting  (cost=101.24..1786.44 rows=8896 width=21) (actual time=0.644..3.935 rows=8839 loops=1)\n",
      "   Recheck Cond: (ab > 500)\n",
      "   Heap Blocks: exact=1311\n",
      "   ->  Bitmap Index Scan on ab_idx  (cost=0.00..99.01 rows=8896 width=0) (actual time=0.504..0.504 rows=8839 loops=1)\n",
      "         Index Cond: (ab > 500)\n",
      " Planning Time: 0.417 ms\n",
      " Execution Time: 4.249 ms\n",
      "(7 rows)\n",
      "\n"
     ]
    }
   ],
   "source": [
    "# Do not delete/edit this cell!\n",
    "# You must run this cell before running the autograder.\n",
    "query_8c = %sqlcmd snippets query_8c\n",
    "grading_util.save_results(\"result_8c\", query_8c, result_8c);\n",
    "\n",
    "# check the updated costs for query in Question 8a\n",
    "!psql -h localhost -d baseball -c \"EXPLAIN ANALYZE {query_8ai}\";"
   ]
  },
  {
   "cell_type": "code",
   "execution_count": 191,
   "metadata": {
    "tags": [
     "otter_answer_cell"
    ]
   },
   "outputs": [],
   "source": [
    "result_8c_cost = 1786.44\n",
    "result_8c_timing = 4.249"
   ]
  },
  {
   "cell_type": "code",
   "execution_count": 192,
   "metadata": {
    "deletable": false,
    "editable": false
   },
   "outputs": [
    {
     "data": {
      "text/html": [
       "<p><strong><pre style='display: inline;'>q8c</pre></strong> passed! 🎉</p>"
      ],
      "text/plain": [
       "q8c results: All test cases passed!"
      ]
     },
     "execution_count": 192,
     "metadata": {},
     "output_type": "execute_result"
    }
   ],
   "source": [
    "grader.check(\"q8c\")"
   ]
  },
  {
   "cell_type": "markdown",
   "metadata": {
    "deletable": false,
    "editable": false
   },
   "source": [
    "<br><br>\n",
    "\n",
    "---\n",
    "\n",
    "## Question 8d\n",
    "Given your findings from inspecting the query plans from Questions 8a, 8b, and 8c, assign the variable `q8d` to a list of **ALL** statements that are true.\n",
    "\n",
    "A. Clustering based on the `ab_idx` decreased the cost of the query.<br/>\n",
    "B. Clustering based on the `ab_idx` increased the cost of the query.<br/>\n",
    "C. Clustering based on the `ab_idx` increased the execution time of the query.<br/>\n",
    "D. Clustering based on the `ab_idx` decreased the execution time of the query.<br/>\n",
    "E. Clustering based on the `batting_pkey` decreased the cost of the query.<br/>\n",
    "F. Clustering based on the `batting_pkey` increased the cost of the query.<br/>\n",
    "G. Clustering based on the `batting_pkey` increased the execution time of the query.<br/>\n",
    "H. Clustering based on the `batting_pkey` decreased the execution time of the query.<br/>\n",
    "I. None of the above\n",
    "    \n",
    "**Note:** Your answer should have the format like this if you think A and B are both true: `q8d = ['A', 'B']`. The autograder is **case sensitive** but order should not matter."
   ]
  },
  {
   "cell_type": "code",
   "execution_count": 193,
   "metadata": {
    "tags": [
     "otter_answer_cell"
    ]
   },
   "outputs": [],
   "source": [
    "q8d = ['A', 'D', 'E', 'H']"
   ]
  },
  {
   "cell_type": "code",
   "execution_count": 194,
   "metadata": {
    "deletable": false,
    "editable": false
   },
   "outputs": [
    {
     "data": {
      "text/html": [
       "<p><strong><pre style='display: inline;'>q8d</pre></strong> passed! ✨</p>"
      ],
      "text/plain": [
       "q8d results: All test cases passed!"
      ]
     },
     "execution_count": 194,
     "metadata": {},
     "output_type": "execute_result"
    }
   ],
   "source": [
    "grader.check(\"q8d\")"
   ]
  },
  {
   "cell_type": "markdown",
   "metadata": {
    "deletable": false,
    "editable": false
   },
   "source": [
    "<!-- BEGIN QUESTION -->\n",
    "\n",
    "<br><br>\n",
    "\n",
    "---\n",
    "\n",
    "### Question 8di Justification\n",
    "\n",
    "1. **Explain your answer to `Question 8d`** above based on your understanding both of the **theoretical aspects of query planning and optimization discussed in class**, as well as EXPLAIN ANALYZE results - but bear in mind that sometimes EXPLAIN ANALYZE results may be unpredictable/hard to explain (because of contention, caching, noise/randomness).\n",
    "2. If there were any options you did NOT select, **choose any one of them and explain why you did not select it.**\n",
    "\n",
    "Your answer should be **no longer than 3 sentences** and **explicitly state which answer option(s) you chose or didn't choose** in addition to your explanations. For example, you could write, \"I chose (A) because...\" or \"I did NOT choose (B) because...\""
   ]
  },
  {
   "cell_type": "markdown",
   "metadata": {
    "tags": [
     "otter_answer_cell"
    ]
   },
   "source": [
    "I chose (A) because clustering on ab_idx reduced the query cost by using index scan instead of sequential scan. I chose (D) becuase the execution time reduced due to a decrease in I/O.I chose (E) and (H) as well because clustering on batting_pkey clustered rows and fewer disks were accessed, leading to optimized data access. I did no chose (B) becuase the query cost did not increase. "
   ]
  },
  {
   "cell_type": "markdown",
   "metadata": {
    "deletable": false,
    "editable": false
   },
   "source": [
    "<!-- END QUESTION -->\n",
    "\n",
    "<br/><br/><br/>\n",
    "\n",
    "<hr style=\"border: 5px solid #003262;\" />\n",
    "<hr style=\"border: 1px solid #fdb515;\" />\n",
    "\n",
    "# Question 9: Cost of Index Management\n",
    "Until now, we have seen the positive potential impact that indexes can have on query performance, but remember in real world technologies/applications, we will be routinely receiving new data (and in large quantities) which would trigger regular updates to our tables. In this section, we will dive into the cost of managing the indexes that we create.\n",
    "\n",
    "Before starting this question, be sure to delete any indexes by running the below cell."
   ]
  },
  {
   "cell_type": "code",
   "execution_count": 195,
   "metadata": {},
   "outputs": [
    {
     "data": {
      "text/html": [
       "<span style=\"None\">Running query in &#x27;postgresql://jovyan@127.0.0.1:5432/baseball&#x27;</span>"
      ],
      "text/plain": [
       "Running query in 'postgresql://jovyan@127.0.0.1:5432/baseball'"
      ]
     },
     "metadata": {},
     "output_type": "display_data"
    },
    {
     "data": {
      "text/html": [
       "<span style=\"None\">Running query in &#x27;postgresql://jovyan@127.0.0.1:5432/baseball&#x27;</span>"
      ],
      "text/plain": [
       "Running query in 'postgresql://jovyan@127.0.0.1:5432/baseball'"
      ]
     },
     "metadata": {},
     "output_type": "display_data"
    },
    {
     "data": {
      "text/html": [
       "<span style=\"None\">Running query in &#x27;postgresql://jovyan@127.0.0.1:5432/baseball&#x27;</span>"
      ],
      "text/plain": [
       "Running query in 'postgresql://jovyan@127.0.0.1:5432/baseball'"
      ]
     },
     "metadata": {},
     "output_type": "display_data"
    },
    {
     "data": {
      "text/html": [
       "<span style=\"None\">Running query in &#x27;postgresql://jovyan@127.0.0.1:5432/baseball&#x27;</span>"
      ],
      "text/plain": [
       "Running query in 'postgresql://jovyan@127.0.0.1:5432/baseball'"
      ]
     },
     "metadata": {},
     "output_type": "display_data"
    },
    {
     "data": {
      "text/html": [
       "<table>\n",
       "    <thead>\n",
       "        <tr>\n",
       "        </tr>\n",
       "    </thead>\n",
       "    <tbody>\n",
       "    </tbody>\n",
       "</table>"
      ],
      "text/plain": [
       "++\n",
       "||\n",
       "++\n",
       "++"
      ]
     },
     "execution_count": 195,
     "metadata": {},
     "output_type": "execute_result"
    }
   ],
   "source": [
    "# you must run this cell!!!\n",
    "%sql DROP INDEX IF EXISTS appearances_g_batting_idx;\n",
    "%sql DROP INDEX IF EXISTS salary_idx;\n",
    "%sql DROP INDEX IF EXISTS appearances_g_batting_all_idx;\n",
    "%sql DROP INDEX IF EXISTS ab_idx;"
   ]
  },
  {
   "cell_type": "markdown",
   "metadata": {
    "deletable": false,
    "editable": false
   },
   "source": [
    "---\n",
    "\n",
    "## Question 9a\n",
    "\n",
    "Record the time it takes to insert 300,000 rows into the `salaries` table when no additional index is configured."
   ]
  },
  {
   "cell_type": "markdown",
   "metadata": {
    "deletable": false,
    "editable": false
   },
   "source": [
    "Run the following cell to setup a column to track which rows we added as part of these inserts."
   ]
  },
  {
   "cell_type": "code",
   "execution_count": 196,
   "metadata": {
    "deletable": false,
    "editable": false
   },
   "outputs": [
    {
     "data": {
      "text/html": [
       "<span style=\"None\">Running query in &#x27;postgresql://jovyan@127.0.0.1:5432/baseball&#x27;</span>"
      ],
      "text/plain": [
       "Running query in 'postgresql://jovyan@127.0.0.1:5432/baseball'"
      ]
     },
     "metadata": {},
     "output_type": "display_data"
    },
    {
     "data": {
      "text/html": [
       "<table>\n",
       "    <thead>\n",
       "        <tr>\n",
       "        </tr>\n",
       "    </thead>\n",
       "    <tbody>\n",
       "    </tbody>\n",
       "</table>"
      ],
      "text/plain": [
       "++\n",
       "||\n",
       "++\n",
       "++"
      ]
     },
     "execution_count": 196,
     "metadata": {},
     "output_type": "execute_result"
    }
   ],
   "source": [
    "%sql ALTER TABLE salaries ADD added boolean DEFAULT False;"
   ]
  },
  {
   "cell_type": "markdown",
   "metadata": {
    "deletable": false,
    "editable": false
   },
   "source": [
    "Next, run the provided update script and record the **wall time** (found in the 2nd line of output).\n",
    "\n",
    "**NOTE:** Running the below cell multiple times may result in an error, unless you first delete the rows with the cell given at the end of this subpart."
   ]
  },
  {
   "cell_type": "code",
   "execution_count": 197,
   "metadata": {
    "deletable": false,
    "editable": false
   },
   "outputs": [
    {
     "data": {
      "text/html": [
       "<span style=\"None\">Running query in &#x27;postgresql://jovyan@127.0.0.1:5432/baseball&#x27;</span>"
      ],
      "text/plain": [
       "Running query in 'postgresql://jovyan@127.0.0.1:5432/baseball'"
      ]
     },
     "metadata": {},
     "output_type": "display_data"
    },
    {
     "name": "stdout",
     "output_type": "stream",
     "text": [
      "CPU times: user 3.46 ms, sys: 982 µs, total: 4.45 ms\n",
      "Wall time: 2.73 s\n"
     ]
    }
   ],
   "source": [
    "%%time\n",
    "%%sql\n",
    "DO $$\n",
    " DECLARE counter INTEGER := 1;\n",
    " BEGIN\n",
    "     FOR counter IN 100001..400000 LOOP\n",
    "     INSERT INTO salaries (year_id, team_id, lg_id, player_id, salary, added)\n",
    "         VALUES (2021, 'ATL', 'NL', 'p' || counter, RANDOM() * 1000000, true);\n",
    "     END LOOP;\n",
    "END;\n",
    "$$;"
   ]
  },
  {
   "cell_type": "code",
   "execution_count": 202,
   "metadata": {
    "tags": [
     "otter_answer_cell"
    ]
   },
   "outputs": [],
   "source": [
    "result_9a_timing = 2.73"
   ]
  },
  {
   "cell_type": "code",
   "execution_count": 203,
   "metadata": {
    "deletable": false,
    "editable": false
   },
   "outputs": [
    {
     "data": {
      "text/html": [
       "<p><strong><pre style='display: inline;'>q9a</pre></strong> passed! 🚀</p>"
      ],
      "text/plain": [
       "q9a results: All test cases passed!"
      ]
     },
     "execution_count": 203,
     "metadata": {},
     "output_type": "execute_result"
    }
   ],
   "source": [
    "grader.check(\"q9a\")"
   ]
  },
  {
   "cell_type": "markdown",
   "metadata": {},
   "source": [
    "<br/><br/>\n",
    "\n",
    "**Before moving onto the next question**,  delete all the rows that were added to the table from the update script."
   ]
  },
  {
   "cell_type": "code",
   "execution_count": 204,
   "metadata": {},
   "outputs": [
    {
     "data": {
      "text/html": [
       "<span style=\"None\">Running query in &#x27;postgresql://jovyan@127.0.0.1:5432/baseball&#x27;</span>"
      ],
      "text/plain": [
       "Running query in 'postgresql://jovyan@127.0.0.1:5432/baseball'"
      ]
     },
     "metadata": {},
     "output_type": "display_data"
    },
    {
     "data": {
      "text/html": [
       "<span style=\"color: green\">300000 rows affected.</span>"
      ],
      "text/plain": [
       "300000 rows affected."
      ]
     },
     "metadata": {},
     "output_type": "display_data"
    },
    {
     "data": {
      "text/html": [
       "<table>\n",
       "    <thead>\n",
       "        <tr>\n",
       "        </tr>\n",
       "    </thead>\n",
       "    <tbody>\n",
       "    </tbody>\n",
       "</table>"
      ],
      "text/plain": [
       "++\n",
       "||\n",
       "++\n",
       "++"
      ]
     },
     "execution_count": 204,
     "metadata": {},
     "output_type": "execute_result"
    }
   ],
   "source": [
    "%%sql\n",
    "/* just run this cell */\n",
    "DELETE FROM salaries\n",
    "WHERE added = 'true';"
   ]
  },
  {
   "cell_type": "markdown",
   "metadata": {
    "deletable": false,
    "editable": false
   },
   "source": [
    "<br><br>\n",
    "\n",
    "---\n",
    "\n",
    "## Question 9b\n",
    "\n",
    "Now, create an index on the `salary` column and record the **wall time** after executing the update script. Make sure to first run the previous cell to rollback any changes from the previous part!"
   ]
  },
  {
   "cell_type": "code",
   "execution_count": 206,
   "metadata": {
    "tags": [
     "otter_answer_cell"
    ]
   },
   "outputs": [
    {
     "data": {
      "text/html": [
       "<span style=\"None\">Running query in &#x27;postgresql://jovyan@127.0.0.1:5432/baseball&#x27;</span>"
      ],
      "text/plain": [
       "Running query in 'postgresql://jovyan@127.0.0.1:5432/baseball'"
      ]
     },
     "metadata": {},
     "output_type": "display_data"
    },
    {
     "data": {
      "text/html": [
       "<table>\n",
       "    <thead>\n",
       "        <tr>\n",
       "        </tr>\n",
       "    </thead>\n",
       "    <tbody>\n",
       "    </tbody>\n",
       "</table>"
      ],
      "text/plain": [
       "++\n",
       "||\n",
       "++\n",
       "++"
      ]
     },
     "execution_count": 206,
     "metadata": {},
     "output_type": "execute_result"
    }
   ],
   "source": [
    "%%sql\n",
    "DROP INDEX IF EXISTS salary_idx;\n",
    "CREATE INDEX salary_idx ON salaries(salary)"
   ]
  },
  {
   "cell_type": "markdown",
   "metadata": {
    "deletable": false,
    "editable": false
   },
   "source": [
    "**NOTE:** Running the below cell multiple times may result in an error, unless you first delete the rows with the cell given at the end of last subpart."
   ]
  },
  {
   "cell_type": "code",
   "execution_count": 207,
   "metadata": {
    "deletable": false,
    "editable": false,
    "scrolled": true
   },
   "outputs": [
    {
     "data": {
      "text/html": [
       "<span style=\"None\">Running query in &#x27;postgresql://jovyan@127.0.0.1:5432/baseball&#x27;</span>"
      ],
      "text/plain": [
       "Running query in 'postgresql://jovyan@127.0.0.1:5432/baseball'"
      ]
     },
     "metadata": {},
     "output_type": "display_data"
    },
    {
     "name": "stdout",
     "output_type": "stream",
     "text": [
      "CPU times: user 3.61 ms, sys: 991 µs, total: 4.61 ms\n",
      "Wall time: 4.84 s\n"
     ]
    }
   ],
   "source": [
    "%%time\n",
    "%%sql\n",
    "DO $$\n",
    " DECLARE counter INTEGER := 1;\n",
    " BEGIN\n",
    "     FOR counter IN 100001..400000 LOOP\n",
    "     INSERT INTO salaries (year_id, team_id, lg_id, player_id, salary, added)\n",
    "         VALUES (2021, 'ATL', 'NL', 'p' || counter, RANDOM() * 1000000, true);\n",
    "     END LOOP;\n",
    "END;\n",
    "$$;"
   ]
  },
  {
   "cell_type": "code",
   "execution_count": 208,
   "metadata": {
    "tags": [
     "otter_answer_cell"
    ]
   },
   "outputs": [],
   "source": [
    "result_9b_timing = 4.84"
   ]
  },
  {
   "cell_type": "code",
   "execution_count": 209,
   "metadata": {
    "deletable": false,
    "editable": false
   },
   "outputs": [
    {
     "data": {
      "text/html": [
       "<p><strong><pre style='display: inline;'>q9b</pre></strong> passed! 🌈</p>"
      ],
      "text/plain": [
       "q9b results: All test cases passed!"
      ]
     },
     "execution_count": 209,
     "metadata": {},
     "output_type": "execute_result"
    }
   ],
   "source": [
    "grader.check(\"q9b\")"
   ]
  },
  {
   "cell_type": "markdown",
   "metadata": {
    "deletable": false,
    "editable": false
   },
   "source": [
    "<!-- BEGIN QUESTION -->\n",
    "\n",
    "<br><br>\n",
    "\n",
    "---\n",
    "\n",
    "## Question 9c\n",
    "What difference did you notice when you added an index into the salaries table and re-timed the update? Why do you think it happened? Your answer should be no longer than 3 sentences."
   ]
  },
  {
   "cell_type": "markdown",
   "metadata": {
    "tags": [
     "otter_answer_cell"
    ]
   },
   "source": [
    "After adding an index on salary, in this case it seems that the operations were slower perhaps due to the overhead managing of the index when it was inserted. "
   ]
  },
  {
   "cell_type": "markdown",
   "metadata": {
    "deletable": false,
    "editable": false
   },
   "source": [
    "<!-- END QUESTION -->\n",
    "\n",
    "<!-- BEGIN QUESTION -->\n",
    "\n",
    "<br/><br/><br/>\n",
    "\n",
    "<hr style=\"border: 5px solid #003262;\" />\n",
    "<hr style=\"border: 1px solid #fdb515;\" />\n",
    "\n",
    "# Question 10: Project Takeaways\n",
    "\n",
    "In this project, we explored how the database system optimizes query execution and how users can futher tune the performance of their queries.\n",
    "\n",
    "Familiarizing yourself with these optimization and tuning methods will make you a better data engineer. In this question, we'll ask you to recall and summarize these concepts. Who knows? Maybe one day it will help you during an interview or on a project.\n",
    "\n",
    "In the following answer cell,\n",
    "1. Name 3 non-trivial, **distinctly different** methods to optimize query performance that you learned in this project. Some places to start looking are some of the question topics.\n",
    "2. For each method, summarize how and why it can optimize query performance. Feel free to discuss any drawbacks, if applicable.\n",
    "\n",
    "Your entire answer should be no longer than ten sentences. Each method identification/discussion is 2 points.\n"
   ]
  },
  {
   "cell_type": "markdown",
   "metadata": {
    "tags": [
     "otter_answer_cell"
    ]
   },
   "source": [
    "1) I learned about indexing, clustering, and aggregations.\n",
    "2) Indexing was the most prevalent and effective ways to optimize the query performance in most of the problems. Creating an index on a column can reduce cost and execution time in most scenarios, in some cases it does not due to the overhead that comes with updates if they are made. Clusering a table based on an index was another way to improve performance by physcially reorganizing the data which minimized disk I/O during the sequential scans. The downside is the reordering of the table which is time consuming and uses up resources. Aggregation was one that was not obvious initially until we saw that indexing on columns that are involved in aggregations can speed up the process of computations by quickly finding the relevant data needed. However, in the example we saw the index on average calculation did not result in a performance boost becuase of the heavy task that was needed to scan the entire data set to retrieve a full aggregation. While it may work for operations like Min or Max, it might not always yield better performance depending on the function being called."
   ]
  },
  {
   "cell_type": "markdown",
   "metadata": {
    "deletable": false,
    "editable": false
   },
   "source": [
    "<!-- END QUESTION -->\n",
    "\n",
    "<hr style=\"border: 5px solid #003262;\" />\n",
    "<hr style=\"border: 1px solid #fdb515;\" />"
   ]
  },
  {
   "cell_type": "markdown",
   "metadata": {},
   "source": [
    "# Congratulations! You have finished Project 2.\n",
    "\n",
    "Run the following cell to zip and download the results of your queries. You will also need to run the export cell at the end of the notebook.\n",
    "\n",
    "**Please save your notebook before exporting (this is a good time to do it!)** Otherwise, we may not be able to export your written responses to `proj2.pdf`. We will not be accepting regrade requests for failure to render written responses.\n",
    "\n",
    "**For your submission on Gradescope, you will only need to submit the single `proj2.zip` file generated by the export cell.** Please ensure that your submission `proj2.zip` file includes `proj2.pdf`, `proj2.ipynb`, and `results.zip`. \n",
    "\n",
    "**Please ensure that public tests pass upon submission.** It is your responsibility to wait until the autograder finishes running. We will not be accepting regrade requests for submission issues.\n",
    "\n",
    "**Common submission issues:** You MUST submit the generated zip file to the autograder. However, Safari is known to automatically unzip files upon downloading. You can fix this by going into Safari preferences, and deselect the box with the text \"Open safe files after downloading\" under the \"General\" tab. If you experience issues with downloading via clicking on the link, you can also navigate to the project 2 directory within JupyterHub (remove `proj2.ipynb` from the url), and manually download the generated zip files. Please post on Ed if you encounter any other submission issues.\n",
    "\n",
    "Run the following cell to zip and download the results of your queries. You will also need to run the export cell at the end of the notebook."
   ]
  },
  {
   "cell_type": "code",
   "execution_count": 210,
   "metadata": {
    "scrolled": true
   },
   "outputs": [],
   "source": [
    "grading_util.prepare_submission_and_cleanup()"
   ]
  },
  {
   "cell_type": "code",
   "execution_count": 211,
   "metadata": {},
   "outputs": [],
   "source": [
    "# Close SQL magic connection\n",
    "# You may disregard \"RunTimeError: Could not close connection\"\n",
    "# %sql --close postgresql://127.0.0.1:5432/baseball"
   ]
  },
  {
   "cell_type": "markdown",
   "metadata": {
    "deletable": false,
    "editable": false
   },
   "source": [
    "---\n",
    "\n",
    "To double-check your work, the cell below will rerun all of the autograder tests."
   ]
  },
  {
   "cell_type": "code",
   "execution_count": 212,
   "metadata": {
    "deletable": false,
    "editable": false
   },
   "outputs": [
    {
     "data": {
      "text/plain": [
       "6aii results: All test cases passed!\n",
       "\n",
       "6bii results: All test cases passed!\n",
       "\n",
       "8aii results: All test cases passed!\n",
       "\n",
       "q0 results: All test cases passed!\n",
       "\n",
       "q1a results: All test cases passed!\n",
       "\n",
       "q1bi results: All test cases passed!\n",
       "\n",
       "q1bii results: All test cases passed!\n",
       "\n",
       "q2a results: All test cases passed!\n",
       "\n",
       "q2bi results: All test cases passed!\n",
       "\n",
       "q2bii results: All test cases passed!\n",
       "\n",
       "q2biii results: All test cases passed!\n",
       "\n",
       "q2c results: All test cases passed!\n",
       "\n",
       "q2di results: All test cases passed!\n",
       "\n",
       "q3a results: All test cases passed!\n",
       "\n",
       "q3b results: All test cases passed!\n",
       "\n",
       "q4a results: All test cases passed!\n",
       "\n",
       "q4b results: All test cases passed!\n",
       "\n",
       "q4c results: All test cases passed!\n",
       "\n",
       "q5a results: All test cases passed!\n",
       "\n",
       "q5b results: All test cases passed!\n",
       "\n",
       "q5c results: All test cases passed!\n",
       "\n",
       "q5d results: All test cases passed!\n",
       "\n",
       "q6ai results: All test cases passed!\n",
       "\n",
       "q6bi results: All test cases passed!\n",
       "\n",
       "q6c results:\n",
       "    q6c - 1 result:\n",
       "        ❌ Test case failed\n",
       "        Trying:\n",
       "            0 <= result_6c_and_index_cost <= 10000\n",
       "        Expecting:\n",
       "            True\n",
       "        **********************************************************************\n",
       "        Line 1, in q6c 0\n",
       "        Failed example:\n",
       "            0 <= result_6c_and_index_cost <= 10000\n",
       "        Expected:\n",
       "            True\n",
       "        Got:\n",
       "            False\n",
       "\n",
       "    q6c - 2 result:\n",
       "        ✅ Test case passed\n",
       "\n",
       "    q6c - 3 result:\n",
       "        ❌ Test case failed\n",
       "        Trying:\n",
       "            0 <= result_6c_or_index_cost <= 10000\n",
       "        Expecting:\n",
       "            True\n",
       "        **********************************************************************\n",
       "        Line 1, in q6c 2\n",
       "        Failed example:\n",
       "            0 <= result_6c_or_index_cost <= 10000\n",
       "        Exception raised:\n",
       "            Traceback (most recent call last):\n",
       "              File \"/srv/conda/envs/notebook/lib/python3.11/doctest.py\", line 1355, in __run\n",
       "                exec(compile(example.source, filename, \"single\",\n",
       "              File \"<doctest q6c 2[0]>\", line 1, in <module>\n",
       "                0 <= result_6c_or_index_cost <= 10000\n",
       "                     ^^^^^^^^^^^^^^^^^^^^^^^\n",
       "            NameError: name 'result_6c_or_index_cost' is not defined\n",
       "\n",
       "    q6c - 4 result:\n",
       "        ❌ Test case failed\n",
       "        Trying:\n",
       "            0 <= result_6c_or_index_timing <= 10000\n",
       "        Expecting:\n",
       "            True\n",
       "        **********************************************************************\n",
       "        Line 1, in q6c 3\n",
       "        Failed example:\n",
       "            0 <= result_6c_or_index_timing <= 10000\n",
       "        Exception raised:\n",
       "            Traceback (most recent call last):\n",
       "              File \"/srv/conda/envs/notebook/lib/python3.11/doctest.py\", line 1355, in __run\n",
       "                exec(compile(example.source, filename, \"single\",\n",
       "              File \"<doctest q6c 3[0]>\", line 1, in <module>\n",
       "                0 <= result_6c_or_index_timing <= 10000\n",
       "                     ^^^^^^^^^^^^^^^^^^^^^^^^^\n",
       "            NameError: name 'result_6c_or_index_timing' is not defined\n",
       "\n",
       "q6d results: All test cases passed!\n",
       "\n",
       "q6e results: All test cases passed!\n",
       "\n",
       "q7ai results: All test cases passed!\n",
       "\n",
       "q7aii results: All test cases passed!\n",
       "\n",
       "q7b results: All test cases passed!\n",
       "\n",
       "q8ai results: All test cases passed!\n",
       "\n",
       "q8b results: All test cases passed!\n",
       "\n",
       "q8c results: All test cases passed!\n",
       "\n",
       "q8d results: All test cases passed!\n",
       "\n",
       "q9a results: All test cases passed!\n",
       "\n",
       "q9b results: All test cases passed!"
      ]
     },
     "execution_count": 212,
     "metadata": {},
     "output_type": "execute_result"
    }
   ],
   "source": [
    "grader.check_all()"
   ]
  },
  {
   "cell_type": "markdown",
   "metadata": {
    "deletable": false,
    "editable": false
   },
   "source": [
    "## Submission\n",
    "\n",
    "Make sure you have run all cells in your notebook in order before running the cell below, so that all images/graphs appear in the output. The cell below will generate a zip file for you to submit. **Please save before exporting!**"
   ]
  },
  {
   "cell_type": "code",
   "execution_count": null,
   "metadata": {
    "deletable": false,
    "editable": false
   },
   "outputs": [],
   "source": [
    "# Save your notebook first, then run this cell to export your submission.\n",
    "grader.export(files=['results.zip'])"
   ]
  },
  {
   "cell_type": "markdown",
   "metadata": {},
   "source": [
    " "
   ]
  }
 ],
 "metadata": {
  "kernelspec": {
   "display_name": "Python 3 (ipykernel)",
   "language": "python",
   "name": "python3"
  },
  "language_info": {
   "codemirror_mode": {
    "name": "ipython",
    "version": 3
   },
   "file_extension": ".py",
   "mimetype": "text/x-python",
   "name": "python",
   "nbconvert_exporter": "python",
   "pygments_lexer": "ipython3",
   "version": "3.11.11"
  },
  "otter": {
   "OK_FORMAT": true,
   "tests": {
    "6aii": {
     "name": "6aii",
     "points": 1,
     "suites": [
      {
       "cases": [
        {
         "code": ">>> 0 <= result_6aii_cost <= 10000\nTrue",
         "hidden": false,
         "locked": false
        },
        {
         "code": ">>> 0 <= result_6aii_timing <= 10000\nTrue",
         "hidden": false,
         "locked": false
        }
       ],
       "scored": true,
       "setup": "",
       "teardown": "",
       "type": "doctest"
      }
     ]
    },
    "6bii": {
     "name": "6bii",
     "points": 1,
     "suites": [
      {
       "cases": [
        {
         "code": ">>> 0 <= result_6bii_cost <= 10000\nTrue",
         "hidden": false,
         "locked": false
        },
        {
         "code": ">>> 0 <= result_6bii_timing <= 10000\nTrue",
         "hidden": false,
         "locked": false
        }
       ],
       "scored": true,
       "setup": "",
       "teardown": "",
       "type": "doctest"
      }
     ]
    },
    "8aii": {
     "name": "8aii",
     "points": 0.5,
     "suites": [
      {
       "cases": [
        {
         "code": ">>> 0 <= result_8aii_cost <= 10000\nTrue",
         "hidden": false,
         "locked": false
        },
        {
         "code": ">>> 0 <= result_8aii_timing <= 10000\nTrue",
         "hidden": false,
         "locked": false
        }
       ],
       "scored": true,
       "setup": "",
       "teardown": "",
       "type": "doctest"
      }
     ]
    },
    "q0": {
     "name": "q0",
     "points": 1,
     "suites": [
      {
       "cases": [
        {
         "code": ">>> 1190 <= sample_query_cost <= 1200\nTrue",
         "hidden": false,
         "locked": false
        },
        {
         "code": ">>> 10 <= sample_query_timing <= 40\nTrue",
         "hidden": false,
         "locked": false
        }
       ],
       "scored": true,
       "setup": "",
       "teardown": "",
       "type": "doctest"
      }
     ]
    },
    "q1a": {
     "name": "q1a",
     "points": 1,
     "suites": [
      {
       "cases": [
        {
         "code": ">>> query_1a, result_1a_df = grading_util.load_results('result_1a')\n>>> result_1a_df.sort_values(['player_id', 'year_id']).shape\n(323, 4)",
         "hidden": false,
         "locked": false
        },
        {
         "code": ">>> query_1a, result_1a_df = grading_util.load_results('result_1a')\n>>> list(result_1a_df.columns)\n['name_first', 'name_last', 'player_id', 'year_id']",
         "hidden": false,
         "locked": false
        },
        {
         "code": ">>> query_1a, result_1a_df = grading_util.load_results('result_1a')\n>>> result_1a_df.sort_values(['player_id', 'year_id']).iloc[[5]].reset_index(drop=True)\n  name_first name_last  player_id  year_id\n0        Cap     Anson  ansonca01     1939",
         "hidden": false,
         "locked": false
        },
        {
         "code": ">>> query_1a, result_1a_df = grading_util.load_results('result_1a')\n>>> result_1a_df.sort_values(['player_id', 'year_id']).iloc[[10]].reset_index(drop=True)\n  name_first name_last  player_id  year_id\n0       Jeff   Bagwell  bagweje01     2017",
         "hidden": false,
         "locked": false
        }
       ],
       "scored": true,
       "setup": "",
       "teardown": "",
       "type": "doctest"
      }
     ]
    },
    "q1bi": {
     "name": "q1bi",
     "points": 1,
     "suites": [
      {
       "cases": [
        {
         "code": ">>> 900 <= provided_query_cost <= 10000\nTrue",
         "hidden": false,
         "locked": false
        },
        {
         "code": ">>> 0 <= provided_query_timing <= 10000\nTrue",
         "hidden": false,
         "locked": false
        },
        {
         "code": ">>> 900 <= your_query_cost <= 10000\nTrue",
         "hidden": false,
         "locked": false
        },
        {
         "code": ">>> 0 <= your_query_timing <= 10000\nTrue",
         "hidden": false,
         "locked": false
        }
       ],
       "scored": true,
       "setup": "",
       "teardown": "",
       "type": "doctest"
      }
     ]
    },
    "q1bii": {
     "name": "q1bii",
     "points": 2,
     "suites": [
      {
       "cases": [
        {
         "code": ">>> 0 < len(q1bii) <= 7\nTrue",
         "hidden": false,
         "locked": false
        },
        {
         "code": ">>> all(map(lambda x: x in ['A', 'B', 'C', 'D', 'E', 'F', 'G'], q1bii))\nTrue",
         "hidden": false,
         "locked": false
        }
       ],
       "scored": true,
       "setup": "",
       "teardown": "",
       "type": "doctest"
      }
     ]
    },
    "q2a": {
     "name": "q2a",
     "points": 1,
     "suites": [
      {
       "cases": [
        {
         "code": ">>> query_2a, result_2a_df = grading_util.load_results('result_2a')\n>>> result_2a_df.shape\n(23, 5)",
         "hidden": false,
         "locked": false
        },
        {
         "code": ">>> query_2a, result_2a_df = grading_util.load_results('result_2a')\n>>> list(result_2a_df.columns)\n['name_first', 'name_last', 'player_id', 'school_id', 'year_id']",
         "hidden": false,
         "locked": false
        },
        {
         "code": ">>> query_2a, result_2a_df = grading_util.load_results('result_2a')\n>>> result_2a_df['name_last'].iloc[0:5]\n0    Robinson\n1      Hooper\n2      Morgan\n3      Seaver\n4      Seaver\nName: name_last, dtype: object",
         "hidden": false,
         "locked": false
        },
        {
         "code": ">>> query_2a, result_2a_df = grading_util.load_results('result_2a')\n>>> result_2a_df['year_id'].iloc[0:5]\n0    1962\n1    1971\n2    1990\n3    1992\n4    1992\nName: year_id, dtype: int64",
         "hidden": false,
         "locked": false
        }
       ],
       "scored": true,
       "setup": "",
       "teardown": "",
       "type": "doctest"
      }
     ]
    },
    "q2bi": {
     "name": "q2bi",
     "points": 1,
     "suites": [
      {
       "cases": [
        {
         "code": ">>> query_2bi, result_2bi_df = grading_util.load_results('result_2bi')\n>>> result_2bi_df.shape\n(13, 3)",
         "hidden": false,
         "locked": false
        },
        {
         "code": ">>> query_2bi, result_2bi_df = grading_util.load_results('result_2bi')\n>>> list(result_2bi_df.columns)\n['school_id', 'year_id', 'count']",
         "hidden": false,
         "locked": false
        },
        {
         "code": ">>> query_2bi, result_2bi_df = grading_util.load_results('result_2bi')\n>>> result_2bi_df.iloc[0]\nschool_id    ucla\nyear_id      1962\ncount           1\nName: 0, dtype: object",
         "hidden": false,
         "locked": false
        },
        {
         "code": ">>> query_2bi, result_2bi_df = grading_util.load_results('result_2bi')\n>>> result_2bi_df.iloc[3]\nschool_id    cafrecc\nyear_id         1992\ncount              1\nName: 3, dtype: object",
         "hidden": false,
         "locked": false
        }
       ],
       "scored": true,
       "setup": "",
       "teardown": "",
       "type": "doctest"
      }
     ]
    },
    "q2bii": {
     "name": "q2bii",
     "points": 1,
     "suites": [
      {
       "cases": [
        {
         "code": ">>> query_2bii, result_2bii_df = grading_util.load_results('result_2bii')\n>>> result_2bii_df.shape\n(13, 3)",
         "hidden": false,
         "locked": false
        },
        {
         "code": ">>> query_2bii, result_2bii_df = grading_util.load_results('result_2bii')\n>>> list(result_2bii_df.columns)\n['school_id', 'year_id', 'count']",
         "hidden": false,
         "locked": false
        },
        {
         "code": ">>> query_2bii, result_2bii_df = grading_util.load_results('result_2bii')\n>>> result_2bii_df.iloc[0]\nschool_id    ucla\nyear_id      1962\ncount           1\nName: 0, dtype: object",
         "hidden": false,
         "locked": false
        },
        {
         "code": ">>> query_2bii, result_2bii_df = grading_util.load_results('result_2bii')\n>>> result_2bii_df.iloc[3]\nschool_id    cafrecc\nyear_id         1992\ncount              1\nName: 3, dtype: object",
         "hidden": false,
         "locked": false
        }
       ],
       "scored": true,
       "setup": "",
       "teardown": "",
       "type": "doctest"
      }
     ]
    },
    "q2biii": {
     "name": "q2biii",
     "points": 1,
     "suites": [
      {
       "cases": [
        {
         "code": ">>> query_2biii, result_2biii_df = grading_util.load_results('result_2biii')\n>>> result_2biii_df.shape\n(13, 3)",
         "hidden": false,
         "locked": false
        },
        {
         "code": ">>> query_2biii, result_2biii_df = grading_util.load_results('result_2biii')\n>>> list(result_2biii_df.columns)\n['school_id', 'year_id', 'count']",
         "hidden": false,
         "locked": false
        },
        {
         "code": ">>> query_2bi, result_2bi_df = grading_util.load_results('result_2bi')\n>>> query_2biii, result_2biii_df = grading_util.load_results('result_2biii')\n>>> np.all(result_2bi_df == result_2biii_df)\nTrue",
         "hidden": false,
         "locked": false
        }
       ],
       "scored": true,
       "setup": "",
       "teardown": "",
       "type": "doctest"
      }
     ]
    },
    "q2c": {
     "name": "q2c",
     "points": 1,
     "suites": [
      {
       "cases": [
        {
         "code": ">>> 0 <= with_view_timing <= 10000\nTrue",
         "hidden": false,
         "locked": false
        },
        {
         "code": ">>> 0 <= with_view_cost <= 10000\nTrue",
         "hidden": false,
         "locked": false
        },
        {
         "code": ">>> 0 <= without_view_timing <= 10000\nTrue",
         "hidden": false,
         "locked": false
        },
        {
         "code": ">>> 0 <= without_view_cost <= 10000\nTrue",
         "hidden": false,
         "locked": false
        },
        {
         "code": ">>> 0 <= with_materialized_view_timing <= 10000\nTrue",
         "hidden": false,
         "locked": false
        },
        {
         "code": ">>> 0 <= with_materialized_view_cost <= 10000\nTrue",
         "hidden": false,
         "locked": false
        }
       ],
       "scored": true,
       "setup": "",
       "teardown": "",
       "type": "doctest"
      }
     ]
    },
    "q2di": {
     "name": "q2di",
     "points": 2,
     "suites": [
      {
       "cases": [
        {
         "code": ">>> 0 < len(q2di) <= 10\nTrue",
         "hidden": false,
         "locked": false
        },
        {
         "code": ">>> all(['A' <= choice <= 'J' for choice in q2di])\nTrue",
         "hidden": false,
         "locked": false
        }
       ],
       "scored": true,
       "setup": "",
       "teardown": "",
       "type": "doctest"
      }
     ]
    },
    "q3a": {
     "name": "q3a",
     "points": 1,
     "suites": [
      {
       "cases": [
        {
         "code": ">>> 0 <= query_view_cost <= 10000\nTrue",
         "hidden": false,
         "locked": false
        },
        {
         "code": ">>> 0 <= query_view_timing <= 10000\nTrue",
         "hidden": false,
         "locked": false
        }
       ],
       "scored": true,
       "setup": "",
       "teardown": "",
       "type": "doctest"
      }
     ]
    },
    "q3b": {
     "name": "q3b",
     "points": 1,
     "suites": [
      {
       "cases": [
        {
         "code": ">>> 0 <= query_view_with_filter_cost <= 10000\nTrue",
         "hidden": false,
         "locked": false
        },
        {
         "code": ">>> 0 <= query_view_with_filter_timing <= 10000\nTrue",
         "hidden": false,
         "locked": false
        }
       ],
       "scored": true,
       "setup": "",
       "teardown": "",
       "type": "doctest"
      }
     ]
    },
    "q4a": {
     "name": "q4a",
     "points": 1,
     "suites": [
      {
       "cases": [
        {
         "code": ">>> query_4a, result_4a_df = grading_util.load_results('result_4a')\n>>> result_4a_df.shape\n(17350, 27)",
         "hidden": false,
         "locked": false
        },
        {
         "code": ">>> query_4a, result_4a_df = grading_util.load_results('result_4a')\n>>> str(list(result_4a_df.columns))\n\"['player_id', 'birth_year', 'birth_month', 'birthday', 'birth_country', 'birth_state', 'birth_city', 'death_year', 'death_month', 'death_day', 'death_country', 'death_state', 'death_city', 'name_first', 'name_last', 'name_given', 'weight', 'height', 'bats', 'throws', 'debut', 'final_game', 'retro_id', 'bbref_id', 'player_id', 'school_id', 'year_id']\"",
         "hidden": false,
         "locked": false
        },
        {
         "code": ">>> q4a in ['A', 'B', 'C', 'D']\nTrue",
         "hidden": false,
         "locked": false
        }
       ],
       "scored": true,
       "setup": "",
       "teardown": "",
       "type": "doctest"
      }
     ]
    },
    "q4b": {
     "name": "q4b",
     "points": 1,
     "suites": [
      {
       "cases": [
        {
         "code": ">>> query_4b, result_4b_df = grading_util.load_results('result_4b')\n>>> result_4b_df.shape\n(17350, 27)",
         "hidden": false,
         "locked": false
        },
        {
         "code": ">>> query_4b, result_4b_df = grading_util.load_results('result_4b')\n>>> str(list(result_4b_df.columns))\n\"['player_id', 'birth_year', 'birth_month', 'birthday', 'birth_country', 'birth_state', 'birth_city', 'death_year', 'death_month', 'death_day', 'death_country', 'death_state', 'death_city', 'name_first', 'name_last', 'name_given', 'weight', 'height', 'bats', 'throws', 'debut', 'final_game', 'retro_id', 'bbref_id', 'player_id', 'school_id', 'year_id']\"",
         "hidden": false,
         "locked": false
        },
        {
         "code": ">>> q4b in ['A', 'B', 'C', 'D']\nTrue",
         "hidden": false,
         "locked": false
        }
       ],
       "scored": true,
       "setup": "",
       "teardown": "",
       "type": "doctest"
      }
     ]
    },
    "q4c": {
     "name": "q4c",
     "points": 1,
     "suites": [
      {
       "cases": [
        {
         "code": ">>> query_4c, result_4c_df = grading_util.load_results('result_4c')\n>>> result_4c_df.shape\n(1000, 48)",
         "hidden": false,
         "locked": false
        },
        {
         "code": ">>> query_4c, result_4c_df = grading_util.load_results('result_4c')\n>>> str(list(result_4c_df.columns))\n\"['player_id', 'birth_year', 'birth_month', 'birthday', 'birth_country', 'birth_state', 'birth_city', 'death_year', 'death_month', 'death_day', 'death_country', 'death_state', 'death_city', 'name_first', 'name_last', 'name_given', 'weight', 'height', 'bats', 'throws', 'debut', 'final_game', 'retro_id', 'bbref_id', 'player_id', 'birth_year', 'birth_month', 'birthday', 'birth_country', 'birth_state', 'birth_city', 'death_year', 'death_month', 'death_day', 'death_country', 'death_state', 'death_city', 'name_first', 'name_last', 'name_given', 'weight', 'height', 'bats', 'throws', 'debut', 'final_game', 'retro_id', 'bbref_id']\"",
         "hidden": false,
         "locked": false
        },
        {
         "code": ">>> q4c in ['A', 'B', 'C', 'D']\nTrue",
         "hidden": false,
         "locked": false
        }
       ],
       "scored": true,
       "setup": "",
       "teardown": "",
       "type": "doctest"
      }
     ]
    },
    "q5a": {
     "name": "q5a",
     "points": 2,
     "suites": [
      {
       "cases": [
        {
         "code": ">>> query_5a, result_5a_df = grading_util.load_results('result_5a')\n>>> result_5a_df.sort_values('player_id').shape\n(134, 5)",
         "hidden": false,
         "locked": false
        },
        {
         "code": ">>> query_5a, result_5a_df = grading_util.load_results('result_5a')\n>>> list(result_5a_df.columns)\n['player_id', 'average_salary', 'first_year', 'last_year', 'num_years']",
         "hidden": false,
         "locked": false
        },
        {
         "code": ">>> 0 <= result_5a_cost <= 10000\nTrue",
         "hidden": false,
         "locked": false
        },
        {
         "code": ">>> 0 <= result_5a_timing <= 10000\nTrue",
         "hidden": false,
         "locked": false
        },
        {
         "code": ">>> query_5a, result_5a_df = grading_util.load_results('result_5a')\n>>> result_5a_df = result_5a_df.sort_values(['player_id'])\n>>> result_5a_df.iloc[0:5]\n   player_id  average_salary  first_year  last_year  num_years\n0  anderla02        240000.0        1986       1986          1\n1  ashbyan01        109000.0        1992       1992          1\n2  ayraubo01        125000.0        1993       1993          1\n3  bankswi01        240000.0        1995       1995          1\n4  batchri01        157500.0        1997       1997          1",
         "hidden": false,
         "locked": false
        }
       ],
       "scored": true,
       "setup": "",
       "teardown": "",
       "type": "doctest"
      }
     ]
    },
    "q5b": {
     "name": "q5b",
     "points": 1,
     "suites": [
      {
       "cases": [
        {
         "code": ">>> 0 <= result_5b_cost <= 10000\nTrue",
         "hidden": false,
         "locked": false
        },
        {
         "code": ">>> 0 <= result_5b_timing <= 10000\nTrue",
         "hidden": false,
         "locked": false
        }
       ],
       "scored": true,
       "setup": "",
       "teardown": "",
       "type": "doctest"
      }
     ]
    },
    "q5c": {
     "name": "q5c",
     "points": 1,
     "suites": [
      {
       "cases": [
        {
         "code": ">>> 0 <= result_5c_cost <= 10000\nTrue",
         "hidden": false,
         "locked": false
        },
        {
         "code": ">>> 0 <= result_5c_timing <= 10000\nTrue",
         "hidden": false,
         "locked": false
        }
       ],
       "scored": true,
       "setup": "",
       "teardown": "",
       "type": "doctest"
      }
     ]
    },
    "q5d": {
     "name": "q5d",
     "points": 2,
     "suites": [
      {
       "cases": [
        {
         "code": ">>> 0 < len(q5d) <= 8\nTrue",
         "hidden": false,
         "locked": false
        },
        {
         "code": ">>> all(map(lambda x: x in ['A', 'B', 'C', 'D', 'E', 'F', 'G', 'H'], q5d))\nTrue",
         "hidden": false,
         "locked": false
        }
       ],
       "scored": true,
       "setup": "",
       "teardown": "",
       "type": "doctest"
      }
     ]
    },
    "q6ai": {
     "name": "q6ai",
     "points": 1,
     "suites": [
      {
       "cases": [
        {
         "code": ">>> query_6ai, result_6ai_df = grading_util.load_results('result_6ai')\n>>> result_6ai_df.shape\n(120, 3)",
         "hidden": false,
         "locked": false
        },
        {
         "code": ">>> query_6ai, result_6ai_df = grading_util.load_results('result_6ai')\n>>> list(result_6ai_df.columns)\n['player_id', 'year_id', 'salary']",
         "hidden": false,
         "locked": false
        },
        {
         "code": ">>> query_6ai, result_6ai_df = grading_util.load_results('result_6ai')\n>>> result_6ai_df.sort_values(['player_id', 'year_id']).iloc[0:10].reset_index().iloc[:, 1:]\n   player_id  year_id     salary\n0  anderla02     1986   240000.0\n1  ashbyan01     1992   109000.0\n2  ayraubo01     1993   125000.0\n3  bankswi01     1995   240000.0\n4  batchri01     1997   157500.0\n5  batiski01     1991   100000.0\n6   beller01     1993   145000.0\n7  benesan01     1989    68000.0\n8  bennega01     2008   825000.0\n9  blackbu02     1994  3250000.0",
         "hidden": false,
         "locked": false
        }
       ],
       "scored": true,
       "setup": "",
       "teardown": "",
       "type": "doctest"
      }
     ]
    },
    "q6bi": {
     "name": "q6bi",
     "points": 1,
     "suites": [
      {
       "cases": [
        {
         "code": ">>> query_6bi, result_6bi_df = grading_util.load_results('result_6bi')\n>>> result_6bi_df.shape\n(216, 3)",
         "hidden": false,
         "locked": false
        },
        {
         "code": ">>> query_6bi, result_6bi_df = grading_util.load_results('result_6bi')\n>>> list(result_6bi_df.columns)\n['player_id', 'year_id', 'salary']",
         "hidden": false,
         "locked": false
        },
        {
         "code": ">>> query_6bi, result_6bi_df = grading_util.load_results('result_6bi')\n>>> result_6bi_df.sort_values(['player_id', 'year_id']).iloc[0:5].reset_index().iloc[:, 1:]\n   player_id  year_id    salary\n0  abbotpa01     2004  600000.0\n1  aceveal01     2010  435650.0\n2  almanca01     2001  270000.0\n3  alvarwi01     1991  100000.0\n4  anderla02     1986  240000.0",
         "hidden": false,
         "locked": false
        }
       ],
       "scored": true,
       "setup": "",
       "teardown": "",
       "type": "doctest"
      }
     ]
    },
    "q6c": {
     "name": "q6c",
     "points": 1,
     "suites": [
      {
       "cases": [
        {
         "code": ">>> 0 <= result_6c_and_index_cost <= 10000\nTrue",
         "hidden": false,
         "locked": false
        },
        {
         "code": ">>> 0 <= result_6c_and_index_timing <= 10000\nTrue",
         "hidden": false,
         "locked": false
        },
        {
         "code": ">>> 0 <= result_6c_or_index_cost <= 10000\nTrue",
         "hidden": false,
         "locked": false
        },
        {
         "code": ">>> 0 <= result_6c_or_index_timing <= 10000\nTrue",
         "hidden": false,
         "locked": false
        }
       ],
       "scored": true,
       "setup": "",
       "teardown": "",
       "type": "doctest"
      }
     ]
    },
    "q6d": {
     "name": "q6d",
     "points": 1,
     "suites": [
      {
       "cases": [
        {
         "code": ">>> 0 <= result_6d_multiple_col_index_cost <= 10000\nTrue",
         "hidden": false,
         "locked": false
        },
        {
         "code": ">>> 0 <= result_6d_multiple_col_index_timing <= 10000\nTrue",
         "hidden": false,
         "locked": false
        }
       ],
       "scored": true,
       "setup": "",
       "teardown": "",
       "type": "doctest"
      }
     ]
    },
    "q6e": {
     "name": "q6e",
     "points": 2,
     "suites": [
      {
       "cases": [
        {
         "code": ">>> 0 < len(q6e) <= 9\nTrue",
         "hidden": false,
         "locked": false
        },
        {
         "code": ">>> all(['A' <= choice <= 'I' for choice in q6e])\nTrue",
         "hidden": false,
         "locked": false
        }
       ],
       "scored": true,
       "setup": "",
       "teardown": "",
       "type": "doctest"
      }
     ]
    },
    "q7ai": {
     "name": "q7ai",
     "points": 1,
     "suites": [
      {
       "cases": [
        {
         "code": ">>> 0 <= result_7ai_query_cost <= 10000\nTrue",
         "hidden": false,
         "locked": false
        },
        {
         "code": ">>> 0 <= result_7ai_query_timing <= 10000\nTrue",
         "hidden": false,
         "locked": false
        },
        {
         "code": ">>> query_7ai, result_7ai_df = grading_util.load_results('result_7ai')\n>>> result_7ai_df\n   min_salary\n0         0.0",
         "hidden": false,
         "locked": false
        }
       ],
       "scored": true,
       "setup": "",
       "teardown": "",
       "type": "doctest"
      }
     ]
    },
    "q7aii": {
     "name": "q7aii",
     "points": 1,
     "suites": [
      {
       "cases": [
        {
         "code": ">>> query_7ai, result_7ai_df = grading_util.load_results('result_7ai')\n>>> 0 <= result_7ai_df['min_salary'].loc[0] <= 10\nTrue",
         "hidden": false,
         "locked": false
        },
        {
         "code": ">>> result_7aii, result_7aii_df = grading_util.load_results('result_7aii')\n>>> 2085000 <= result_7aii_df['average_salary'].iloc[0] <= 2086000\nTrue",
         "hidden": false,
         "locked": false
        },
        {
         "code": ">>> 0 <= result_7aii_query_cost <= 10000\nTrue",
         "hidden": false,
         "locked": false
        },
        {
         "code": ">>> 0 <= result_7aii_query_timing <= 10000\nTrue",
         "hidden": false,
         "locked": false
        }
       ],
       "scored": true,
       "setup": "",
       "teardown": "",
       "type": "doctest"
      }
     ]
    },
    "q7b": {
     "name": "q7b",
     "points": 1,
     "suites": [
      {
       "cases": [
        {
         "code": ">>> 0 <= result_7b_min_query_cost <= 10000\nTrue",
         "hidden": false,
         "locked": false
        },
        {
         "code": ">>> 0 <= result_7b_min_query_timing <= 10000\nTrue",
         "hidden": false,
         "locked": false
        },
        {
         "code": ">>> 0 <= result_7b_avg_query_cost <= 10000\nTrue",
         "hidden": false,
         "locked": false
        },
        {
         "code": ">>> 0 <= result_7b_avg_query_timing <= 10000\nTrue",
         "hidden": false,
         "locked": false
        }
       ],
       "scored": true,
       "setup": "",
       "teardown": "",
       "type": "doctest"
      }
     ]
    },
    "q8ai": {
     "name": "q8ai",
     "points": 0.5,
     "suites": [
      {
       "cases": [
        {
         "code": ">>> query_8ai, result_8ai_df = grading_util.load_results('result_8ai')\n>>> result_8ai_df.shape\n(8839, 4)",
         "hidden": false,
         "locked": false
        },
        {
         "code": ">>> query_8ai, result_8ai_df = grading_util.load_results('result_8ai')\n>>> list(result_8ai_df.columns)\n['player_id', 'year_id', 'team_id', 'ab']",
         "hidden": false,
         "locked": false
        },
        {
         "code": ">>> query_8ai, result_8ai_df = grading_util.load_results('result_8ai')\n>>> result_8ai_df.sort_values(['player_id', 'year_id', 'team_id', 'ab']).iloc[0:10].reset_index().iloc[:, 1:]\n   player_id  year_id team_id   ab\n0  aaronha01     1955     ML1  602\n1  aaronha01     1956     ML1  609\n2  aaronha01     1957     ML1  615\n3  aaronha01     1958     ML1  601\n4  aaronha01     1959     ML1  629\n5  aaronha01     1960     ML1  590\n6  aaronha01     1961     ML1  603\n7  aaronha01     1962     ML1  592\n8  aaronha01     1963     ML1  631\n9  aaronha01     1964     ML1  570",
         "hidden": false,
         "locked": false
        }
       ],
       "scored": true,
       "setup": "",
       "teardown": "",
       "type": "doctest"
      }
     ]
    },
    "q8b": {
     "name": "q8b",
     "points": 1,
     "suites": [
      {
       "cases": [
        {
         "code": ">>> 0 <= result_8b_cost <= 10000\nTrue",
         "hidden": false,
         "locked": false
        },
        {
         "code": ">>> 0 <= result_8b_timing <= 10000\nTrue",
         "hidden": false,
         "locked": false
        }
       ],
       "scored": true,
       "setup": "",
       "teardown": "",
       "type": "doctest"
      }
     ]
    },
    "q8c": {
     "name": "q8c",
     "points": 1,
     "suites": [
      {
       "cases": [
        {
         "code": ">>> 0 <= result_8c_cost <= 10000\nTrue",
         "hidden": false,
         "locked": false
        },
        {
         "code": ">>> 0 <= result_8c_timing <= 10000\nTrue",
         "hidden": false,
         "locked": false
        }
       ],
       "scored": true,
       "setup": "",
       "teardown": "",
       "type": "doctest"
      }
     ]
    },
    "q8d": {
     "name": "q8d",
     "points": 2,
     "suites": [
      {
       "cases": [
        {
         "code": ">>> 0 < len(q8d) <= 9\nTrue",
         "hidden": false,
         "locked": false
        },
        {
         "code": ">>> all(['A' <= choice <= 'I' for choice in q8d])\nTrue",
         "hidden": false,
         "locked": false
        }
       ],
       "scored": true,
       "setup": "",
       "teardown": "",
       "type": "doctest"
      }
     ]
    },
    "q9a": {
     "name": "q9a",
     "points": 1,
     "suites": [
      {
       "cases": [
        {
         "code": ">>> 0 <= result_9a_timing <= 100\nTrue",
         "hidden": false,
         "locked": false
        }
       ],
       "scored": true,
       "setup": "",
       "teardown": "",
       "type": "doctest"
      }
     ]
    },
    "q9b": {
     "name": "q9b",
     "points": 1,
     "suites": [
      {
       "cases": [
        {
         "code": ">>> 0 <= result_9b_timing <= 100\nTrue",
         "hidden": false,
         "locked": false
        }
       ],
       "scored": true,
       "setup": "",
       "teardown": "",
       "type": "doctest"
      }
     ]
    }
   }
  },
  "widgets": {
   "application/vnd.jupyter.widget-state+json": {
    "state": {},
    "version_major": 2,
    "version_minor": 0
   }
  }
 },
 "nbformat": 4,
 "nbformat_minor": 4
}
